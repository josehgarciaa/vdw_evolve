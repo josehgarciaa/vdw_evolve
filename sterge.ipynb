{
 "cells": [
  {
   "cell_type": "code",
   "execution_count": 1,
   "id": "cf1741bb",
   "metadata": {},
   "outputs": [],
   "source": [
    "import numpy as np "
   ]
  },
  {
   "cell_type": "code",
   "execution_count": 4,
   "id": "2df71cd0",
   "metadata": {},
   "outputs": [
    {
     "data": {
      "text/plain": [
       "-804.9999999999995"
      ]
     },
     "execution_count": 4,
     "metadata": {},
     "output_type": "execute_result"
    }
   ],
   "source": [
    "aa = np.array([[ 1.24668457e-15, -3.50000000e+01],\n",
    "               [-2.30000000e+01, -1.24668457e-15]])\n",
    "np.linalg.det(aa)"
   ]
  },
  {
   "cell_type": "code",
   "execution_count": 6,
   "id": "b4fbeb19",
   "metadata": {},
   "outputs": [
    {
     "data": {
      "text/plain": [
       "-1.5542224170760847e-30"
      ]
     },
     "execution_count": 6,
     "metadata": {},
     "output_type": "execute_result"
    }
   ],
   "source": [
    "1.24668457e-15*-1.24668457e-15 "
   ]
  },
  {
   "cell_type": "code",
   "execution_count": 7,
   "id": "6fec0646",
   "metadata": {},
   "outputs": [
    {
     "data": {
      "text/plain": [
       "805.0"
      ]
     },
     "execution_count": 7,
     "metadata": {},
     "output_type": "execute_result"
    }
   ],
   "source": [
    "-2.30000000e+01*-3.50000000e+01"
   ]
  },
  {
   "cell_type": "code",
   "execution_count": 8,
   "id": "59fd987a",
   "metadata": {},
   "outputs": [
    {
     "data": {
      "text/plain": [
       "23.0"
      ]
     },
     "execution_count": 8,
     "metadata": {},
     "output_type": "execute_result"
    }
   ],
   "source": [
    "2.3*10"
   ]
  },
  {
   "cell_type": "code",
   "execution_count": null,
   "id": "f7bcc761",
   "metadata": {},
   "outputs": [],
   "source": []
  }
 ],
 "metadata": {
  "kernelspec": {
   "display_name": "Python 3 (ipykernel)",
   "language": "python",
   "name": "python3"
  },
  "language_info": {
   "codemirror_mode": {
    "name": "ipython",
    "version": 3
   },
   "file_extension": ".py",
   "mimetype": "text/x-python",
   "name": "python",
   "nbconvert_exporter": "python",
   "pygments_lexer": "ipython3",
   "version": "3.9.13"
  }
 },
 "nbformat": 4,
 "nbformat_minor": 5
}
