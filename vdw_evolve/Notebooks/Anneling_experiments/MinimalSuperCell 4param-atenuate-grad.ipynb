{
 "cells": [
  {
   "cell_type": "code",
   "execution_count": 5,
   "id": "baf89f96",
   "metadata": {},
   "outputs": [],
   "source": [
    "import numpy as np\n",
    "from numpy.linalg import det, inv\n",
    "import matplotlib.pyplot as plt\n",
    "from matplotlib import cm\n",
    "from matplotlib.ticker import LinearLocator\n",
    "\n",
    "\n",
    "import sys\n",
    " \n",
    "# setting path\n",
    "sys.path.append('/Users/voicutu/Documents/GitHub/vdw_evolve/sandbox/vdw')\n",
    "\n",
    "from anneling import GradientAnnealing"
   ]
  },
  {
   "cell_type": "code",
   "execution_count": null,
   "id": "e3ad78d9",
   "metadata": {},
   "outputs": [],
   "source": [
    "a1 = [1,0]; a2=[0,1];\n",
    "A  = np.transpose([a1,a2]);\n",
    "\n",
    "theta =  np.pi/4;\n",
    "R = [ [ np.cos(theta), -np.sin(theta)], [ np.sin(theta),  np.cos(theta)] ];\n",
    "\n",
    "b1 = np.sqrt(2)*np.dot(R,a1);  b2 =a2 #np.sqrt(2)*np.dot(R,a2); #a2\n",
    "#b1 = [np.sqrt(2),0]; b2=[0,np.sqrt(2)];\n",
    "\n",
    "B  = np.transpose([b1,b2]);\n",
    "\n",
    "a = A#np.array([[0,1],[1,0]])\n",
    "b = B#np.array([[0,5],[5,0]])"
   ]
  },
  {
   "cell_type": "code",
   "execution_count": null,
   "id": "ac6d5873",
   "metadata": {},
   "outputs": [],
   "source": [
    "def at_sin(x, up =99999999):\n",
    "    \n",
    "    tr_x= (x + 0.5)\n",
    "    \n",
    "    if x<1:\n",
    "        res = up*(1/(1+np.sqrt((x**2))) )* np.sin(tr_x*np.pi) +1/(x+0.00000000000001)\n",
    "    else:\n",
    "        res = (x-1)**2 -up*(1/(1+x**2))+1/(x+0.00000000000001)\n",
    "    return res\n",
    "\n",
    "X = [i*0.1 for i in range(0,50,1)]\n",
    "Y= [at_sin(x) for x in X]\n",
    "\n",
    "plt.scatter(X[5:],Y[5:])"
   ]
  },
  {
   "cell_type": "code",
   "execution_count": null,
   "id": "3bdcbd9f",
   "metadata": {},
   "outputs": [],
   "source": [
    "# a = np.array([[0,1],[1,0]])\n",
    "# b = np.sqrt(2)*np.array([[0,5],[5,0]])\n",
    "eps = 0.0001\n",
    "\n",
    "bond=10\n",
    "\n",
    "def tAtB(params):\n",
    "    tA = np.array([[params[0],params[1]],\n",
    "                   [params[2],params[3]]])\n",
    "    \n",
    "    tB = np.dot(np.dot(tA,a), inv(b)) # tAa=tBb\n",
    "    \n",
    "    return tA, tB\n",
    "          \n",
    "def fit_fucntion(params , k_p=999):\n",
    "          \n",
    "        tA, tB= tAtB(params)\n",
    "        tAa= np.dot(tA,a)\n",
    "        tBb= np.dot(tB,b)\n",
    "        \n",
    "        # main condition\n",
    "        zero_mat= tAa - tBb\n",
    "        s=0\n",
    "        for row in zero_mat:\n",
    "            for e in row:\n",
    "                s+=e*e\n",
    "        \n",
    "        # mimimum TA\n",
    "        detTAa= det(tAa)*det(tAa) # minimum but biger than 0\n",
    "        detTBb= det(tBb)*det(tBb)\n",
    "        \n",
    "        # TB integer \n",
    "        cons =9999999\n",
    "        tB_con = 0  \n",
    "        for row in tB:\n",
    "            for e in row:\n",
    "                tB_con += ((round(e)-e))*((round(e)-e)) # e*e\n",
    "        tB_con = tB_con*cons\n",
    "        \n",
    "        tA_lenghth =((tA[0][0]**2+tA[0][1]**2)+(tA[1][0]**2+tA[1][1]**2) )*100\n",
    "        \n",
    "        \n",
    "        f =  at_sin(detTAa)+ tB_con**2 +tA_lenghth\n",
    "        #((1-detTAa)**2)*k_p + tB_con**2\n",
    "        \n",
    "        \n",
    "        return f "
   ]
  },
  {
   "cell_type": "code",
   "execution_count": null,
   "id": "f813e5aa",
   "metadata": {},
   "outputs": [],
   "source": [
    "# Experiment settings\n",
    "\n",
    "#Hyperparameters of the model\n",
    "up = 99999999\n",
    "model_par = {\n",
    "    \n",
    "    'initialTemp': 4, \n",
    "    'finalTemp': 0.0003,\n",
    "\n",
    "    'beta': 10,\n",
    "    'bounds': [[-2*bond,2*bond] for _ in range(4)],\n",
    "\n",
    "    'nr_neighbours': 1,\n",
    "    'step_size': 4,\n",
    "    'gaussian_sd':3,\n",
    "    \n",
    "    'gradient_influence':0.45,\n",
    "    'delta_p': 0.2,\n",
    "    'g_step_size':7,\n",
    "    'step_size': 2,\n",
    "    \n",
    "    'known_min': -up\n",
    "    \n",
    "}\n",
    "\n",
    "\n",
    "\n",
    "#\n",
    "input_size = 4 # since our function has one variable this is a trivial scenario.\n",
    "start_point = [1,5,3,2]\n",
    "\n",
    "# Experiment\n",
    "experiment = GradientAnnealing(fit_fucntion ,start_point, model_par)"
   ]
  },
  {
   "cell_type": "code",
   "execution_count": null,
   "id": "8183af5e",
   "metadata": {},
   "outputs": [],
   "source": [
    "epochs= 40\n",
    "history_book = experiment.evolve( epochs, prints_p=5)"
   ]
  },
  {
   "cell_type": "code",
   "execution_count": null,
   "id": "ad77f55d",
   "metadata": {},
   "outputs": [],
   "source": [
    "solution = experiment.actual_solution\n",
    "tA ,tB =tAtB(solution )\n",
    "zero_mat= np.dot(tA,a) - np.dot(tB,b)\n",
    "print(\"\\n _____\\n tA:\\n\",tA)\n",
    "print(\"det:\",det(tA))\n",
    "print(\"\\n _____\\n tB:\\n\",tB)\n",
    "print(\"det:\",det(tB))\n",
    "print(\"\\n zero_mat:\\n\",zero_mat)\n"
   ]
  },
  {
   "cell_type": "code",
   "execution_count": null,
   "id": "b3bb0b47",
   "metadata": {},
   "outputs": [],
   "source": [
    "#StB=tB_round\n",
    "def get_strain(tB):\n",
    "    tBr= tB.copy()\n",
    "    for i in range(len(tB)):\n",
    "        for j in range(len(tB[0])):\n",
    "            tBr[i][j]=round(tB[i][j])\n",
    "    S =np.dot(tBr,inv(tB))\n",
    "    return(S)\n",
    "\n",
    "S= get_strain(tB)\n",
    "print(\"Strain:\",get_strain(tB))"
   ]
  },
  {
   "cell_type": "code",
   "execution_count": null,
   "id": "e9f3def0",
   "metadata": {},
   "outputs": [],
   "source": [
    "plt.plot(history_book['values'])\n",
    "plt.title(\"Values\")"
   ]
  },
  {
   "cell_type": "code",
   "execution_count": null,
   "id": "4c603d43",
   "metadata": {},
   "outputs": [],
   "source": []
  },
  {
   "cell_type": "code",
   "execution_count": null,
   "id": "2f2e824c",
   "metadata": {},
   "outputs": [],
   "source": []
  }
 ],
 "metadata": {
  "kernelspec": {
   "display_name": "Python 3 (ipykernel)",
   "language": "python",
   "name": "python3"
  },
  "language_info": {
   "codemirror_mode": {
    "name": "ipython",
    "version": 3
   },
   "file_extension": ".py",
   "mimetype": "text/x-python",
   "name": "python",
   "nbconvert_exporter": "python",
   "pygments_lexer": "ipython3",
   "version": "3.9.13"
  }
 },
 "nbformat": 4,
 "nbformat_minor": 5
}
