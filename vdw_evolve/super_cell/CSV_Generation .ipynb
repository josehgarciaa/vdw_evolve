{
 "cells": [
  {
   "cell_type": "code",
   "execution_count": 1,
   "id": "1f9041d4",
   "metadata": {},
   "outputs": [],
   "source": [
    "import wget\n",
    "import os.path\n",
    "import json\n",
    "\n",
    "\n",
    "import numpy as np\n",
    "from numpy.linalg import det, inv\n",
    "from numpy import array\n",
    "import random\n",
    "\n",
    "import ase.db\n",
    "import pandas as pd\n",
    "\n",
    "import matplotlib.pyplot as plt"
   ]
  },
  {
   "cell_type": "code",
   "execution_count": 4,
   "id": "d28b1295",
   "metadata": {},
   "outputs": [
    {
     "ename": "ModuleNotFoundError",
     "evalue": "No module named 'vdw_evolve'",
     "output_type": "error",
     "traceback": [
      "\u001b[0;31m---------------------------------------------------------------------------\u001b[0m",
      "\u001b[0;31mModuleNotFoundError\u001b[0m                       Traceback (most recent call last)",
      "Cell \u001b[0;32mIn [4], line 5\u001b[0m\n\u001b[1;32m      2\u001b[0m \u001b[38;5;66;03m# setting path\u001b[39;00m\n\u001b[1;32m      3\u001b[0m sys\u001b[38;5;241m.\u001b[39mpath\u001b[38;5;241m.\u001b[39mappend(\u001b[38;5;124m'\u001b[39m\u001b[38;5;124m/Users/voicutu/Documents/GitHub/vdw_evolve/vdw_evolve\u001b[39m\u001b[38;5;124m'\u001b[39m)\n\u001b[0;32m----> 5\u001b[0m \u001b[38;5;28;01mfrom\u001b[39;00m \u001b[38;5;21;01mgradient_super_cell\u001b[39;00m \u001b[38;5;28;01mimport\u001b[39;00m super_cell\n\u001b[1;32m      6\u001b[0m \u001b[38;5;28;01mfrom\u001b[39;00m \u001b[38;5;21;01mdata_import\u001b[39;00m \u001b[38;5;28;01mimport\u001b[39;00m get_lattice_from_structure, extract_structure, get_data_as_pd\n",
      "File \u001b[0;32m~/Documents/GitHub/vdw_evolve/vdw_evolve/super_cell/gradient_super_cell.py:12\u001b[0m\n\u001b[1;32m      8\u001b[0m \u001b[38;5;28;01mfrom\u001b[39;00m \u001b[38;5;21;01mnumpy\u001b[39;00m\u001b[38;5;21;01m.\u001b[39;00m\u001b[38;5;21;01mlinalg\u001b[39;00m \u001b[38;5;28;01mimport\u001b[39;00m det, inv\n\u001b[1;32m     10\u001b[0m \u001b[38;5;28;01mfrom\u001b[39;00m \u001b[38;5;21;01mscipy\u001b[39;00m\u001b[38;5;21;01m.\u001b[39;00m\u001b[38;5;21;01moptimize\u001b[39;00m \u001b[38;5;28;01mimport\u001b[39;00m minimize\n\u001b[0;32m---> 12\u001b[0m \u001b[38;5;28;01mfrom\u001b[39;00m \u001b[38;5;21;01mvdw_evolve\u001b[39;00m\u001b[38;5;21;01m.\u001b[39;00m\u001b[38;5;21;01manneling\u001b[39;00m \u001b[38;5;28;01mimport\u001b[39;00m GradientAnnealing\n\u001b[1;32m     15\u001b[0m \u001b[38;5;28;01mdef\u001b[39;00m \u001b[38;5;21msuper_cell\u001b[39m(cel1, cel2, nr_epochs, model_par):\n\u001b[1;32m     16\u001b[0m     \u001b[38;5;124;03m\"\"\"\u001b[39;00m\n\u001b[1;32m     17\u001b[0m \n\u001b[1;32m     18\u001b[0m \u001b[38;5;124;03m    :param model_par:\u001b[39;00m\n\u001b[0;32m   (...)\u001b[0m\n\u001b[1;32m     22\u001b[0m \u001b[38;5;124;03m    :return:\u001b[39;00m\n\u001b[1;32m     23\u001b[0m \u001b[38;5;124;03m    \"\"\"\u001b[39;00m\n",
      "\u001b[0;31mModuleNotFoundError\u001b[0m: No module named 'vdw_evolve'"
     ]
    }
   ],
   "source": [
    "import sys\n",
    "# setting path\n",
    "sys.path.append('/Users/voicutu/Documents/GitHub/vdw_evolve/vdw_evolve')\n",
    "\n",
    "from gradient_super_cell import super_cell\n",
    "from data_import import get_lattice_from_structure, extract_structure, get_data_as_pd"
   ]
  },
  {
   "cell_type": "code",
   "execution_count": null,
   "id": "ba5248d4",
   "metadata": {},
   "outputs": [],
   "source": [
    "DATA_PATH = \"database\"\n",
    "database_name1 = \"c2db-20211702.db\"\n",
    "database_name2 = \"c2db-20211702.db\"\n"
   ]
  },
  {
   "cell_type": "code",
   "execution_count": null,
   "id": "da45aa21",
   "metadata": {},
   "outputs": [],
   "source": [
    "path = DATA_PATH+database_name1\n",
    "\n",
    "options = 'is_magnetic=True, thermodynamic_stability_level=3'\n",
    "props = [\"formula\",\"spgnum\", \"spacegroup\",\"uid\",\"asr_id\"] \n",
    "\n",
    "raw_df_1 = get_data_as_pd(path,options,props)\n",
    "raw_df_1 = raw_df_1[ (raw_df_1[\"spacegroup\"]!='P1') & (raw_df_1[\"spacegroup\"]!='Pc')& (raw_df_1[\"spacegroup\"]!='P-1') ];\n",
    "\n",
    "#Print\n",
    "print(\"The number of elements is:\",len(list(raw_df_1)) )\n",
    "print( raw_df_1[[\"formula\",\"uid\"]] )"
   ]
  },
  {
   "cell_type": "code",
   "execution_count": null,
   "id": "ceaa224e",
   "metadata": {},
   "outputs": [],
   "source": [
    "path = DATA_PATH+database_name2\n",
    "\n",
    "options = 'thermodynamic_stability_level=3'\n",
    "props = [\"formula\",\"spgnum\", \"spacegroup\",\"gap\",\"uid\"] \n",
    "\n",
    "raw_df_2 = get_data_as_pd(path,options,props)\n",
    "raw_df_2 = raw_df_2[ (raw_df_2[\"gap\"]<=10e-3)& (raw_df_2[\"spacegroup\"]!='P1') & (raw_df_2[\"spacegroup\"]!='Pc')& (raw_df_2[\"spacegroup\"]!='P-1') ];\n",
    "\n",
    "\n",
    "#Print\n",
    "print(\"The number of elements is:\",len(list(raw_df_2)) )\n",
    "print( raw_df_2[[\"formula\",\"uid\",\"gap\"]] )"
   ]
  },
  {
   "cell_type": "code",
   "execution_count": null,
   "id": "c67ee009",
   "metadata": {},
   "outputs": [],
   "source": [
    "print(\"extract_data1:\")\n",
    "print(raw_df_1[\"uid\"][:1])\n",
    "extract_structure(raw_df_1[\"uid\"])\n",
    "print(\"extract_data2:\")\n",
    "extract_structure(raw_df_1[\"uid\"])"
   ]
  },
  {
   "cell_type": "code",
   "execution_count": null,
   "id": "ce1e2ffe",
   "metadata": {},
   "outputs": [],
   "source": [
    "#f = \"/Users/voicutu/Documents/GitHub/vdw_evolve/sandbox/XYZcolection/c2db-822.xyz\"\n",
    "\n",
    "def get_lattice_from_structure(f):\n",
    "    with open(f, 'r') as file:\n",
    "        json_data= json.load(file)\n",
    "    mytype= \"__ndarray__\";\n",
    "    datastruc=json_data['1'][\"cell\"][\"array\"];\n",
    "    if mytype in datastruc:\n",
    "        shape= datastruc[mytype][0]\n",
    "        dtype= datastruc[mytype][1]\n",
    "        lattice = array(datastruc[mytype][2],dtype=dtype).reshape(shape)\n",
    "    return lattice \n"
   ]
  },
  {
   "cell_type": "code",
   "execution_count": null,
   "id": "f7dd6f4c",
   "metadata": {},
   "outputs": [],
   "source": []
  },
  {
   "cell_type": "code",
   "execution_count": null,
   "id": "f787e49d",
   "metadata": {},
   "outputs": [],
   "source": [
    "# Model hyperparameters\n",
    "\n",
    "up = 99999999\n",
    "bond =30\n",
    "model_par = {\n",
    "    \n",
    "    'initialTemp': 4, \n",
    "    'finalTemp': 0.0002,\n",
    "\n",
    "    'beta': 10,\n",
    "    'bounds': [[-bond,bond] for _ in range(4)],\n",
    "\n",
    "    'nr_neighbours': 1,\n",
    "    'step_size': 3,\n",
    "    'gaussian_sd':3,\n",
    "    \n",
    "    'gradient_influence':0.45,\n",
    "    'delta_p': 0.2,\n",
    "    'g_step_size':7,\n",
    "    'step_size': 2,\n",
    "    \n",
    "    'known_min': -up,\n",
    "    \"start_point\":[1,5,3,2],\n",
    "    \n",
    "    \"strain_boundary\":[[-0.5,0.5],[-0.5,0.5]]#[[-0.3e-14,0.3e-14],[-0.3e-14,0.3e-14]]#[[-0.3,0.3],[-0.3,0.3]]\n",
    "}\n",
    "\n"
   ]
  },
  {
   "cell_type": "code",
   "execution_count": null,
   "id": "e522878d",
   "metadata": {},
   "outputs": [],
   "source": [
    "solutions = {\"uid_1\":[], \"uid_2\":[],\"new_uid\":[],\n",
    "             \"mat_1\":[], \"mat_2\":[],\n",
    "             \n",
    "             \n",
    "             \"tA\":[],    \"tB\":[],\n",
    "             \"s_cell\":[],   \n",
    "             \"t_cel2_no_strain\":[], \"diagonal_strain\":[], \"strain\":[]\n",
    "                  }\n"
   ]
  },
  {
   "cell_type": "code",
   "execution_count": null,
   "id": "ac7143c4",
   "metadata": {},
   "outputs": [],
   "source": [
    "len(raw_df_1[\"uid\"])"
   ]
  },
  {
   "cell_type": "code",
   "execution_count": null,
   "id": "a1058d24",
   "metadata": {},
   "outputs": [],
   "source": [
    "structure_path = \"/Users/voicutu/Documents/GitHub/vdw_evolve/sandbox/STRUCTUREScolection\"\n",
    "saving_spot = 5\n",
    "to_be_generated = 10\n",
    "while to_be_generated!=0:\n",
    "    \n",
    "    data1= raw_df_1.iloc[random.randint(0,len(raw_df_1[\"uid\"]))]\n",
    "    data2= raw_df_1.iloc[random.randint(0,len(raw_df_2[\"uid\"]))]\n",
    "    uid_1 = data1[\"uid\"]\n",
    "    uid_2 = data2[\"uid\"]\n",
    "    \n",
    "    new_uid =uid_1+\"_\"+uid_2\n",
    "    \n",
    "    if new_uid not in solutions[\"new_uid\"]:\n",
    "        to_be_generated = to_be_generated-1\n",
    "        \n",
    "        solutions[\"new_uid\"].append(new_uid)\n",
    "        solutions[\"uid_1\"].append(uid_1)\n",
    "        solutions[\"uid_2\"].append(uid_2)\n",
    "        \n",
    "        # calculate the super cel \n",
    "        \n",
    "        # xyz path \n",
    "        path1=structure_path+\"/\"+uid_1+\".json\"\n",
    "        path2=structure_path+\"/\"+uid_2+\".json\"\n",
    "        \n",
    "\n",
    "        \n",
    "        # lattices\n",
    "        latice1 = get_lattice_from_structure(path1)\n",
    "        latice2 = get_lattice_from_structure(path2)\n",
    "\n",
    "\n",
    "        cel1 = np.array([[latice1[0][0], latice1[1][0]],\n",
    "                [latice1[0][1], latice1[1][1]]])\n",
    "\n",
    "        cel2 = np.array([[latice2[0][0], latice2[1][0]],\n",
    "                [latice2[0][1], latice2[1][1]]])\n",
    "\n",
    "        tA, tB, t_cel2_no_strain, diagonal_strain, strain = super_cell(cel1,cel2, 10, model_par)\n",
    "\n",
    "        s_cell= np.dot(tA,cel1)\n",
    "        zero = np.dot(tA,cel1)-np.dot(np.dot(strain,tB),cel2)\n",
    "                         \n",
    "        \n",
    "        solutions[\"tA\"].append(tA)\n",
    "        solutions[\"tB\"].append(tB)\n",
    "        solutions[\"s_cell\"].append(s_cell)\n",
    "        solutions[\"t_cel2_no_strain\"].append(t_cel2_no_strain)\n",
    "        solutions[\"diagonal_strain\"].append(diagonal_strain)\n",
    "        solutions[\"strain\"].append(diagonal_strain)\n",
    "    \n",
    "    # save\n",
    "    if k%saving_spot==0:\n",
    "        data = pd.DataFrame.from_dict(solutions)\n",
    "        data.to_csv(\"SuperCell_\"+str(len(solutions[\"new\"])))\n",
    "\n",
    "print(\"Done\")"
   ]
  },
  {
   "cell_type": "code",
   "execution_count": null,
   "id": "6bf2958f",
   "metadata": {},
   "outputs": [],
   "source": []
  }
 ],
 "metadata": {
  "kernelspec": {
   "display_name": "Python 3 (ipykernel)",
   "language": "python",
   "name": "python3"
  },
  "language_info": {
   "codemirror_mode": {
    "name": "ipython",
    "version": 3
   },
   "file_extension": ".py",
   "mimetype": "text/x-python",
   "name": "python",
   "nbconvert_exporter": "python",
   "pygments_lexer": "ipython3",
   "version": "3.9.13"
  }
 },
 "nbformat": 4,
 "nbformat_minor": 5
}
