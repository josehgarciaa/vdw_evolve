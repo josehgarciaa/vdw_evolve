{
 "cells": [
  {
   "cell_type": "code",
   "execution_count": 1,
   "id": "3713979d",
   "metadata": {},
   "outputs": [],
   "source": [
    "import numpy as np "
   ]
  },
  {
   "cell_type": "code",
   "execution_count": 2,
   "id": "f814c6c3",
   "metadata": {},
   "outputs": [],
   "source": [
    "def sortkeypicker(keynames):\n",
    "    negate = set()\n",
    "    for i, k in enumerate(keynames):\n",
    "        if k[:1] == '-':\n",
    "            keynames[i] = k[1:]\n",
    "            negate.add(k[1:])\n",
    "    def getit(adict):\n",
    "       composite = [adict[k] for k in keynames]\n",
    "       for i, (k, v) in enumerate(zip(keynames, composite)):\n",
    "           if k in negate:\n",
    "               composite[i] = -v\n",
    "       return composite\n",
    "    return getit"
   ]
  },
  {
   "cell_type": "code",
   "execution_count": 3,
   "id": "8f6f688b",
   "metadata": {},
   "outputs": [],
   "source": [
    "def paralel_check(v1,v2, trash_hold=0.00001):\n",
    "\n",
    "\n",
    "    \n",
    "    t_prod = np.cross(v1,v2)\n",
    "    ar_2 = np.linalg.norm(t_prod)**2\n",
    "\n",
    "    if ar_2<trash_hold:\n",
    "        return True\n",
    "    else:\n",
    "        return False\n",
    "    \n",
    "# paralel_check(c1[0],c1[0], trash_hold=0.00001)\n",
    "\n",
    "\n",
    "\n",
    "# v1_1= ca1+db1 => c= (v1_1-db1)/a1\n",
    "# v1_2= ca2+db2 => v1_2= v1_1*a2/a1-db1*a2/a1+db2\n",
    "# v1_2-v1_1*a2/a1=d(-b1*a2/a1+b2)\n",
    "# b = (v1_2-v1_1*a2/a1)/(-b1*a2/a1+b2)\n",
    "def decompose_to_basis(v, a,b):\n",
    "    \n",
    "    d = (v[1]-v[0]*a[1]/a[0])/(b[1]-b[0]*a[1]/a[0])\n",
    "    c = (v[0]-d*b[0])/a[0]\n",
    "    \n",
    "#     print(v-c*a-d*b)\n",
    "    return [c,d]\n",
    "\n",
    "# decompose_to_basis(v=np.array([9,10]), a=np.array([2,3]),b=np.array([5,1]))"
   ]
  },
  {
   "cell_type": "code",
   "execution_count": 4,
   "id": "4002bb3d",
   "metadata": {},
   "outputs": [],
   "source": [
    "def point_in_cell(c, point):\n",
    "    \n",
    "    \n",
    "    distance_to_close = 0\n",
    "    s = decompose_to_basis(point, a=c[:,0],b=c[:,1])\n",
    "    s1 = s[0]\n",
    "    s2 = s[1]\n",
    "    \n",
    "    c_p = round(s1)*c[:,0]+round(s2)*c[:,1]\n",
    "    distance_to_close = np.sqrt((c_p[0]-point[0])**2+(c_p[1]-point[1])**2)\n",
    "    \n",
    "#     print(\"s1:{}={}\".format(round(s1),s1))\n",
    "#     print(\"s2:{}={}\".format(round(s2),s2))\n",
    "#     print(\"distance_to_close:\", distance_to_close)\n",
    "    return distance_to_close"
   ]
  },
  {
   "cell_type": "code",
   "execution_count": 65,
   "id": "ef37dcf8",
   "metadata": {},
   "outputs": [],
   "source": [
    "def get_match(cel1, cel2, exploring_range=10, tolerance=0.3, paralel_limit=0.00001):\n",
    "    c = cel1\n",
    "    cel1 = cel2\n",
    "    cel2 = c\n",
    "    c1 = (cel1[:,0],cel1[:,1])\n",
    "    c2 = (cel2[:,0],cel2[:,1])\n",
    "    \n",
    "    candidates = []  #TODO: it can be done without list but for the beggining I preffer to keep it \n",
    "                     # in order to get a better view of the data\n",
    "        \n",
    "    for i in range(-exploring_range, exploring_range):\n",
    "        for j in range(-exploring_range, exploring_range):\n",
    "            point2 = i*c2[0]+j*c2[1]\n",
    "            \n",
    "            in_c1 = point_in_cell(cel1, point2)\n",
    "            \n",
    "            if in_c1<= tolerance:\n",
    "                point_distance = point2[0]**2+point2[1]**2\n",
    "                if point_distance!= 0:\n",
    "                    candidates.append({\"point2\":point2, \"in_c1\":in_c1,\"point_distance\":point_distance}) \n",
    "                  \n",
    "                    \n",
    "    \n",
    "    candidates = sorted(candidates, key=sortkeypicker(['point_distance', 'in_c1']), )\n",
    "    \n",
    "    \n",
    "        \n",
    "#     for c in candidates:\n",
    "#         print(c)\n",
    "        \n",
    "    solution = [candidates[0], ]\n",
    "    k=1\n",
    "    while len(solution)<2 and len(candidates)>=k+2:\n",
    "        k+=1\n",
    "        close = candidates[k]\n",
    "        min_v = close[\"point2\"]\n",
    "        if paralel_check(solution[0][\"point2\"], min_v,trash_hold=paralel_limit) ==False:\n",
    "            solution.append(close)\n",
    "        \n",
    "        \n",
    "    return solution\n",
    "    "
   ]
  },
  {
   "cell_type": "code",
   "execution_count": 81,
   "id": "5c4f9ff7",
   "metadata": {},
   "outputs": [],
   "source": [
    "def extract_tB_strain(tB_strain, cel2):\n",
    "    \n",
    "    super_cell_ = np.dot(tB_strain,cel2).transpose()\n",
    "    d1 = decompose_to_basis(super_cell_[0], a= cel2[:,0],b=cel2[:,1])\n",
    "    d2 = decompose_to_basis(super_cell_[1], a= cel2[:,0],b=cel2[:,1])\n",
    "    print(d1)\n",
    "    d1_r = np.array([round(d1[0]),round(d1[1])])\n",
    "    d2_r = np.array([round(d2[0]),round(d2[1])])\n",
    "    almost_super = np.array([d1_r,d2_r]).transpose()\n",
    "    tB = np.dot(almost_super ,np.linalg.inv(cel2))\n",
    "    strain = np.dot(np.linalg.inv(tB),tB_strain)\n",
    "    \n",
    "    return tB, strain"
   ]
  },
  {
   "cell_type": "code",
   "execution_count": 87,
   "id": "0e4f02f5",
   "metadata": {},
   "outputs": [
    {
     "name": "stdout",
     "output_type": "stream",
     "text": [
      "[-1.  1.]\n",
      "cel1:\n",
      " [[1 0]\n",
      " [0 1]]\n",
      "cel1:\n",
      " [[ 1. -1.]\n",
      " [ 1.  1.]]\n"
     ]
    }
   ],
   "source": [
    "a1 = [1,0]; a2=[0,1]\n",
    "A  = np.transpose([a1,a2])\n",
    "\n",
    "theta =  np.pi/4\n",
    "R = [ [ np.cos(theta), -np.sin(theta)], [ np.sin(theta),  np.cos(theta)] ]\n",
    "\n",
    "b1 = np.sqrt(2)*np.dot(R,a1)#[np.sqrt(2),0]#np.sqrt(2)*np.dot(R,a1);  #a1\n",
    "b2 = np.sqrt(2)*np.dot(R,a2)#[0,np.sqrt(2)]#np.sqrt(2)*np.dot(R,a2) #a2\n",
    "print(b2)\n",
    "#b1 = [np.sqrt(2),0]; b2=[0,np.sqrt(2)]\n",
    "B  = np.transpose([b1,b2])\n",
    "\n",
    "\n",
    "cel1 = np.array(A)\n",
    "cel2 = np.array(B)\n",
    "\n",
    "print(\"cel1:\\n\", cel1)\n",
    "print(\"cel1:\\n\", cel2)"
   ]
  },
  {
   "cell_type": "code",
   "execution_count": 88,
   "id": "e5fe58e8",
   "metadata": {},
   "outputs": [
    {
     "name": "stdout",
     "output_type": "stream",
     "text": [
      "v1: [-1 -1]\n",
      "v2: [ 1 -1]\n",
      "super_cell:\n",
      "\n",
      "{'point2': array([-1, -1]), 'in_c1': 2.220446049250313e-16, 'point_distance': 2}\n",
      "{'point2': array([ 1, -1]), 'in_c1': 2.220446049250313e-16, 'point_distance': 2}\n",
      "[-0.9999999999999998, -1.6653345369377348e-16]\n"
     ]
    }
   ],
   "source": [
    "solution = get_match(cel1, cel2,exploring_range=10, tolerance=0.1, paralel_limit=0.00001)\n",
    "print(\"super_cell:\\n\")\n",
    "for s in solution:\n",
    "    print(s)\n",
    "    \n",
    "supper_cell = np.array([solution[0][\"point2\"],solution[1][\"point2\"]]).transpose()\n",
    "tA= np.dot(supper_cell, np.linalg.inv(cel1))\n",
    "tB_strain= np.dot(supper_cell, np.linalg.inv(cel2))\n",
    "tB, strain = extract_tB_strain(tB_strain, cel2)\n"
   ]
  },
  {
   "cell_type": "code",
   "execution_count": 89,
   "id": "b6255294",
   "metadata": {},
   "outputs": [
    {
     "name": "stdout",
     "output_type": "stream",
     "text": [
      "\n",
      "cel1\n",
      " [[1 0]\n",
      " [0 1]]\n",
      "cel2\n",
      " [[ 1. -1.]\n",
      " [ 1.  1.]]\n",
      "\n",
      "=====================\n",
      "\n",
      "\n",
      " _____\n",
      " tA:\n",
      " [[-1.  1.]\n",
      " [-1. -1.]]\n",
      "det: 2.0\n",
      "\n",
      " _____\n",
      " tB_strain:\n",
      " [[-1.00000000e+00  1.11022302e-16]\n",
      " [-1.11022302e-16 -1.00000000e+00]]\n",
      "\n",
      " _____\n",
      " tB:\n",
      " [[-0.5 -0.5]\n",
      " [ 0.5 -0.5]]\n",
      "\n",
      " _____\n",
      " strain:\n",
      " [[ 1. -1.]\n",
      " [ 1.  1.]]\n",
      "\n",
      " _____\n",
      " Super cell:\n",
      " [[-1  1]\n",
      " [-1 -1]]\n",
      "\n",
      "=====================\n",
      "\n"
     ]
    }
   ],
   "source": [
    "print(\"\\ncel1\\n\",cel1)\n",
    "print(\"cel2\\n\",cel2)\n",
    "print(\"\\n=====================\\n\")\n",
    "print(\"\\n _____\\n tA:\\n\",tA)\n",
    "print(\"det:\",np.linalg.det(tA))\n",
    "print(\"\\n _____\\n tB_strain:\\n\",tB_strain)\n",
    "print(\"\\n _____\\n tB:\\n\",tB)\n",
    "print(\"\\n _____\\n strain:\\n\",strain)\n",
    "print(\"\\n _____\\n Super cell:\\n\",supper_cell)\n",
    "print(\"\\n=====================\\n\") "
   ]
  },
  {
   "cell_type": "code",
   "execution_count": null,
   "id": "4e8315ac",
   "metadata": {},
   "outputs": [],
   "source": []
  },
  {
   "cell_type": "code",
   "execution_count": null,
   "id": "75e26029",
   "metadata": {},
   "outputs": [],
   "source": []
  }
 ],
 "metadata": {
  "kernelspec": {
   "display_name": "Python 3 (ipykernel)",
   "language": "python",
   "name": "python3"
  },
  "language_info": {
   "codemirror_mode": {
    "name": "ipython",
    "version": 3
   },
   "file_extension": ".py",
   "mimetype": "text/x-python",
   "name": "python",
   "nbconvert_exporter": "python",
   "pygments_lexer": "ipython3",
   "version": "3.9.13"
  }
 },
 "nbformat": 4,
 "nbformat_minor": 5
}
