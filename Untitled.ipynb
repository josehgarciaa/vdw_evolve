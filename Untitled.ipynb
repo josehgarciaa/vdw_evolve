{
 "cells": [
  {
   "cell_type": "code",
   "execution_count": 4,
   "id": "b48a3abc",
   "metadata": {},
   "outputs": [],
   "source": [
    "import numpy as np"
   ]
  },
  {
   "cell_type": "code",
   "execution_count": 8,
   "id": "e5113ca8",
   "metadata": {},
   "outputs": [],
   "source": [
    "det_c1= 2.467*2.1364-1.2335\n",
    "det_c2 =5.76*5.92"
   ]
  },
  {
   "cell_type": "code",
   "execution_count": 19,
   "id": "184e2138",
   "metadata": {},
   "outputs": [],
   "source": [
    "det_c=np.sqrt((-50*7+22.53*13)**2)"
   ]
  },
  {
   "cell_type": "code",
   "execution_count": 20,
   "id": "21719620",
   "metadata": {},
   "outputs": [
    {
     "name": "stdout",
     "output_type": "stream",
     "text": [
      "a1:14.146647752285686, \u00072:1.6748193506006013\n"
     ]
    }
   ],
   "source": [
    "a1= det_c/det_c1\n",
    "a2= det_c/det_c2\n",
    "\n",
    "print(\"a1:{}, \\a2:{}\".format(a1,a2))"
   ]
  },
  {
   "cell_type": "code",
   "execution_count": 21,
   "id": "7bb76d71",
   "metadata": {},
   "outputs": [
    {
     "data": {
      "text/plain": [
       "59.936229710343945"
      ]
     },
     "execution_count": 21,
     "metadata": {},
     "output_type": "execute_result"
    }
   ],
   "source": [
    "t= a1*4+a2*2\n",
    "t"
   ]
  },
  {
   "cell_type": "code",
   "execution_count": null,
   "id": "82d20c9a",
   "metadata": {},
   "outputs": [],
   "source": [
    "=== \n",
    " cell :\n",
    "[[-49.34       -22.53351533]\n",
    " [ 12.335        6.1675    ]]\n",
    "\n",
    "cell1 :\n",
    "[[2.467      1.2335    ]\n",
    " [0.         2.13648467]]\n",
    "\n",
    "cell2 :\n",
    "[[5.75 0.  ]\n",
    " [0.   5.92]]\n",
    "\n",
    "ta :\n",
    "[[-20   1]\n",
    " [  5   0]]\n",
    "\n",
    "strain_tb :\n",
    "[[-8.58086957 -3.80633705]\n",
    " [ 2.14521739  1.04180743]]\n",
    "\n",
    "det_ta :\n",
    "-4.999999999999999\n",
    "\n",
    "strain :\n",
    "[[ 0.96819547  0.06644482]\n",
    " [-0.06160253  0.79539733]]\n",
    "\n",
    "tb :\n",
    "[[-9. -4.]\n",
    " [ 2.  1.]]\n",
    "\n",
    "diagonal_strain :\n",
    "[[0.95356151 0.        ]\n",
    " [0.         1.0545846 ]]\n",
    "\n",
    "tb_no_diagonal_strain: :\n",
    "[[-8.99875834 -3.99170585]\n",
    " [ 2.03418237  0.98788417]]\n"
   ]
  },
  {
   "cell_type": "code",
   "execution_count": null,
   "id": "c5e7039d",
   "metadata": {},
   "outputs": [],
   "source": [
    "\n",
    "=== \n",
    " cell :\n",
    "[[39.472      17.59951533]\n",
    " [49.34       22.53351533]]\n",
    "\n",
    "cell1 :\n",
    "[[2.467      1.2335    ]\n",
    " [0.         2.13648467]]\n",
    "\n",
    "cell2 :\n",
    "[[5.75 0.  ]\n",
    " [0.   5.92]]\n",
    "\n",
    "ta :\n",
    "[[16 -1]\n",
    " [20 -1]]\n",
    "\n",
    "strain_tb :\n",
    "[[6.86469565 2.9728911 ]\n",
    " [8.58086957 3.80633705]]\n",
    "\n",
    "det_ta :\n",
    "3.999999999999999\n",
    "\n",
    "strain :\n",
    "[[0.70276268 0.21615076]\n",
    " [0.06644482 0.90175065]]\n",
    "\n",
    "tb :\n",
    "[[7. 3.]\n",
    " [9. 4.]]\n",
    "\n",
    "diagonal_strain :\n",
    "[[0.9825723  0.        ]\n",
    " [0.         0.95356151]]\n",
    "\n",
    "tb_no_diagonal_strain: :\n",
    "[[6.98645346 3.02562071]\n",
    " [8.99875829 3.99170583]]"
   ]
  },
  {
   "cell_type": "code",
   "execution_count": 18,
   "id": "cd1c2796",
   "metadata": {},
   "outputs": [],
   "source": [
    "cel = np.array([[39.472,      17.59951533],\n",
    "                [49.34 ,      22.53351533]])\n",
    "\n",
    "cel1 =np.array([[2.467,      1.2335    ],\n",
    "                 [0.,         2.13648467]])\n",
    "cel2=np.array([[5.75, 0.  ],[0. ,  5.92]])"
   ]
  },
  {
   "cell_type": "code",
   "execution_count": 48,
   "id": "db7be8d0",
   "metadata": {},
   "outputs": [
    {
     "name": "stdout",
     "output_type": "stream",
     "text": [
      "6.109304486883143\n"
     ]
    }
   ],
   "source": [
    "ato_1= (np.linalg.det(cel)/(np.square(np.linalg.det(cel1)**2))+1)*4\n",
    "ato_2= (np.linalg.det(cel)/(np.square(np.linalg.det(cel2)**2))+1)*2\n",
    "t =ato_1+ato_2\n",
    "print(t)"
   ]
  },
  {
   "cell_type": "code",
   "execution_count": 45,
   "id": "f838d64f",
   "metadata": {},
   "outputs": [],
   "source": [
    "tb =np.array([[7. ,3.],[9., 4.]])\n",
    "tb_nds= np.array([[6.98645346, 3.02562071],\n",
    "                    [8.99875829 ,3.99170583]])\n",
    "diag_st =np.array([[0.9825723 , 0.        ]\n",
    "          [0.,         0.95356151]])"
   ]
  },
  {
   "cell_type": "code",
   "execution_count": null,
   "id": "cf97623e",
   "metadata": {},
   "outputs": [],
   "source": []
  },
  {
   "cell_type": "code",
   "execution_count": 46,
   "id": "9121d0dd",
   "metadata": {},
   "outputs": [],
   "source": [
    "a1=np.linalg.det(cel)\n",
    "c_2= np.dot(tb_nds,cel2)\n",
    "a2=np.linalg.det(c_2)\n"
   ]
  },
  {
   "cell_type": "code",
   "execution_count": 47,
   "id": "739a9489",
   "metadata": {},
   "outputs": [
    {
     "data": {
      "text/plain": [
       "0.0673006326612749"
      ]
     },
     "execution_count": 47,
     "metadata": {},
     "output_type": "execute_result"
    }
   ],
   "source": [
    "(a2-a1)/a1"
   ]
  },
  {
   "cell_type": "code",
   "execution_count": 36,
   "id": "9cbae967",
   "metadata": {},
   "outputs": [
    {
     "data": {
      "text/plain": [
       "array([[39.472     , 17.59951533],\n",
       "       [49.34      , 22.53351533]])"
      ]
     },
     "execution_count": 36,
     "metadata": {},
     "output_type": "execute_result"
    }
   ],
   "source": [
    "cel"
   ]
  },
  {
   "cell_type": "code",
   "execution_count": 37,
   "id": "f7ec8c32",
   "metadata": {},
   "outputs": [
    {
     "data": {
      "text/plain": [
       "array([[40.25, 17.76],\n",
       "       [51.75, 23.68]])"
      ]
     },
     "execution_count": 37,
     "metadata": {},
     "output_type": "execute_result"
    }
   ],
   "source": [
    "c_2"
   ]
  },
  {
   "cell_type": "code",
   "execution_count": 43,
   "id": "179ce543",
   "metadata": {},
   "outputs": [
    {
     "data": {
      "text/plain": [
       "21.082830723560054"
      ]
     },
     "execution_count": 43,
     "metadata": {},
     "output_type": "execute_result"
    }
   ],
   "source": [
    "a1"
   ]
  },
  {
   "cell_type": "code",
   "execution_count": 44,
   "id": "15ca2afc",
   "metadata": {},
   "outputs": [
    {
     "data": {
      "text/plain": [
       "34.04000000000017"
      ]
     },
     "execution_count": 44,
     "metadata": {},
     "output_type": "execute_result"
    }
   ],
   "source": [
    "a2"
   ]
  },
  {
   "cell_type": "code",
   "execution_count": 40,
   "id": "bb330b5b",
   "metadata": {},
   "outputs": [],
   "source": [
    "z = cel-c_2"
   ]
  },
  {
   "cell_type": "code",
   "execution_count": 41,
   "id": "f8b285b5",
   "metadata": {},
   "outputs": [
    {
     "data": {
      "text/plain": [
       "0.5051970185600013"
      ]
     },
     "execution_count": 41,
     "metadata": {},
     "output_type": "execute_result"
    }
   ],
   "source": [
    "np.linalg.det(z)"
   ]
  },
  {
   "cell_type": "code",
   "execution_count": 42,
   "id": "b435f514",
   "metadata": {},
   "outputs": [
    {
     "data": {
      "text/plain": [
       "21.082830723560054"
      ]
     },
     "execution_count": 42,
     "metadata": {},
     "output_type": "execute_result"
    }
   ],
   "source": [
    "a1"
   ]
  },
  {
   "cell_type": "code",
   "execution_count": null,
   "id": "d6fb90a3",
   "metadata": {},
   "outputs": [],
   "source": []
  }
 ],
 "metadata": {
  "kernelspec": {
   "display_name": "Python 3 (ipykernel)",
   "language": "python",
   "name": "python3"
  },
  "language_info": {
   "codemirror_mode": {
    "name": "ipython",
    "version": 3
   },
   "file_extension": ".py",
   "mimetype": "text/x-python",
   "name": "python",
   "nbconvert_exporter": "python",
   "pygments_lexer": "ipython3",
   "version": "3.9.15"
  }
 },
 "nbformat": 4,
 "nbformat_minor": 5
}
