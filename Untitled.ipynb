{
 "cells": [
  {
   "cell_type": "code",
   "execution_count": 4,
   "id": "54b76531",
   "metadata": {},
   "outputs": [],
   "source": [
    "import numpy as np"
   ]
  },
  {
   "cell_type": "code",
   "execution_count": 8,
   "id": "680b353f",
   "metadata": {},
   "outputs": [],
   "source": [
    "det_c1= 2.467*2.1364-1.2335\n",
    "det_c2 =5.76*5.92"
   ]
  },
  {
   "cell_type": "code",
   "execution_count": 15,
   "id": "5619756a",
   "metadata": {},
   "outputs": [],
   "source": [
    "det_c = (50+12)*(22.53+7)\n",
    "#det_c=np.sqrt((-50*7+22.53*13)**2)"
   ]
  },
  {
   "cell_type": "code",
   "execution_count": 16,
   "id": "dc3e5431",
   "metadata": {},
   "outputs": [
    {
     "name": "stdout",
     "output_type": "stream",
     "text": [
      "a1:453.52007535895234, \u00072:53.69216873123124\n"
     ]
    }
   ],
   "source": [
    "a1= det_c/det_c1\n",
    "a2= det_c/det_c2\n",
    "\n",
    "print(\"a1:{}, \\a2:{}\".format(a1,a2))"
   ]
  },
  {
   "cell_type": "code",
   "execution_count": 17,
   "id": "18e19995",
   "metadata": {},
   "outputs": [
    {
     "data": {
      "text/plain": [
       "1921.464638898272"
      ]
     },
     "execution_count": 17,
     "metadata": {},
     "output_type": "execute_result"
    }
   ],
   "source": [
    "t= a1*4+a2*2\n",
    "t"
   ]
  },
  {
   "cell_type": "code",
   "execution_count": null,
   "id": "1b4a9d71",
   "metadata": {},
   "outputs": [],
   "source": []
  }
 ],
 "metadata": {
  "kernelspec": {
   "display_name": "Python 3 (ipykernel)",
   "language": "python",
   "name": "python3"
  },
  "language_info": {
   "codemirror_mode": {
    "name": "ipython",
    "version": 3
   },
   "file_extension": ".py",
   "mimetype": "text/x-python",
   "name": "python",
   "nbconvert_exporter": "python",
   "pygments_lexer": "ipython3",
   "version": "3.9.15"
  }
 },
 "nbformat": 4,
 "nbformat_minor": 5
}
