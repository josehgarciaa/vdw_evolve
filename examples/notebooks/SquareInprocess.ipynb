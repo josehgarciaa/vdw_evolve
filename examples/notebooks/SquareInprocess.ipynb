{
 "cells": [
  {
   "cell_type": "code",
   "execution_count": 15,
   "id": "cfa79cb1",
   "metadata": {},
   "outputs": [
    {
     "ename": "ModuleNotFoundError",
     "evalue": "No module named 'vdw_evolve'",
     "output_type": "error",
     "traceback": [
      "\u001b[0;31m---------------------------------------------------------------------------\u001b[0m",
      "\u001b[0;31mModuleNotFoundError\u001b[0m                       Traceback (most recent call last)",
      "Cell \u001b[0;32mIn [15], line 8\u001b[0m\n\u001b[1;32m      3\u001b[0m \u001b[38;5;28;01mimport\u001b[39;00m \u001b[38;5;21;01mmatplotlib\u001b[39;00m\n\u001b[1;32m      4\u001b[0m \u001b[38;5;28;01mimport\u001b[39;00m \u001b[38;5;21;01mmatplotlib\u001b[39;00m\u001b[38;5;21;01m.\u001b[39;00m\u001b[38;5;21;01mpyplot\u001b[39;00m \u001b[38;5;28;01mas\u001b[39;00m \u001b[38;5;21;01mplt\u001b[39;00m\n\u001b[0;32m----> 8\u001b[0m \u001b[38;5;28;01mfrom\u001b[39;00m \u001b[38;5;21;01mvdw_evolve\u001b[39;00m \u001b[38;5;28;01mimport\u001b[39;00m allign_along_10\n",
      "\u001b[0;31mModuleNotFoundError\u001b[0m: No module named 'vdw_evolve'"
     ]
    }
   ],
   "source": [
    "import numpy as np\n",
    "\n",
    "import matplotlib\n",
    "import matplotlib.pyplot as plt\n",
    "\n",
    "\n",
    "\n",
    "from vdw_evolve import allign_along_10"
   ]
  },
  {
   "cell_type": "code",
   "execution_count": null,
   "id": "55913927",
   "metadata": {},
   "outputs": [],
   "source": []
  },
  {
   "cell_type": "code",
   "execution_count": 20,
   "id": "2417c8c2",
   "metadata": {},
   "outputs": [
    {
     "ename": "NameError",
     "evalue": "name 'allign_along_10' is not defined",
     "output_type": "error",
     "traceback": [
      "\u001b[0;31m---------------------------------------------------------------------------\u001b[0m",
      "\u001b[0;31mNameError\u001b[0m                                 Traceback (most recent call last)",
      "Cell \u001b[0;32mIn [20], line 4\u001b[0m\n\u001b[1;32m      1\u001b[0m cell1 \u001b[38;5;241m=\u001b[39m np\u001b[38;5;241m.\u001b[39marray([[\u001b[38;5;241m2.467\u001b[39m, \u001b[38;5;241m2.467\u001b[39m \u001b[38;5;241m/\u001b[39m \u001b[38;5;241m2\u001b[39m], [\u001b[38;5;241m0\u001b[39m, \u001b[38;5;241m2.467\u001b[39m \u001b[38;5;241m*\u001b[39m np\u001b[38;5;241m.\u001b[39msqrt(\u001b[38;5;241m3\u001b[39m) \u001b[38;5;241m/\u001b[39m \u001b[38;5;241m2\u001b[39m]])\n\u001b[1;32m      2\u001b[0m cell2 \u001b[38;5;241m=\u001b[39m np\u001b[38;5;241m.\u001b[39marray([[\u001b[38;5;241m5.75\u001b[39m, \u001b[38;5;241m0\u001b[39m], [\u001b[38;5;241m0\u001b[39m, \u001b[38;5;241m5.92\u001b[39m]])\n\u001b[0;32m----> 4\u001b[0m cell1 \u001b[38;5;241m=\u001b[39m \u001b[43mallign_along_10\u001b[49m([graphene_cell, pbse_cell])\n\u001b[1;32m      5\u001b[0m cell2 \u001b[38;5;241m=\u001b[39m aligned_cells[\u001b[38;5;241m0\u001b[39m]\n\u001b[1;32m      6\u001b[0m pbse_cell \u001b[38;5;241m=\u001b[39m aligned_cells[\u001b[38;5;241m1\u001b[39m]\n",
      "\u001b[0;31mNameError\u001b[0m: name 'allign_along_10' is not defined"
     ]
    }
   ],
   "source": [
    "cell1 = np.array([[2.467, 2.467 / 2], [0, 2.467 * np.sqrt(3) / 2]])\n",
    "cell2 = np.array([[5.75, 0], [0, 5.92]])\n",
    "\n",
    "cell1 = allign_along_10([graphene_cell, pbse_cell])\n",
    "cell2 = aligned_cells[0]\n",
    "pbse_cell = aligned_cells[1]"
   ]
  },
  {
   "cell_type": "code",
   "execution_count": 4,
   "id": "7824e0ee",
   "metadata": {},
   "outputs": [
    {
     "name": "stdout",
     "output_type": "stream",
     "text": [
      "Enter the value of constant c: 5\n",
      "x: 1.0\n",
      "y: 5.0\n"
     ]
    }
   ],
   "source": [
    "import math\n",
    "\n",
    "def find_xy(c):\n",
    "    prime_factors = []\n",
    "    i = 2\n",
    "    while i * i <= c:\n",
    "        if c % i == 0:\n",
    "            count = 0\n",
    "            while c % i == 0:\n",
    "                count += 1\n",
    "                c //= i\n",
    "            prime_factors.append((i, count))\n",
    "        i += 1\n",
    "    if c > 1:\n",
    "        prime_factors.append((c, 1))\n",
    "\n",
    "    x = 1\n",
    "    y = 1\n",
    "    for p, a in prime_factors:\n",
    "        if a % 2 == 0:\n",
    "            x *= p**(a//2)\n",
    "            y *= p**(a//2)\n",
    "        else:\n",
    "            x *= p**(a//2)\n",
    "            y *= p**(a//2 + 1)\n",
    "    return (x, y)\n",
    "\n",
    "c = float(input(\"Enter the value of constant c: \"))\n",
    "x, y = find_xy(c)\n",
    "print(\"x:\", x)\n",
    "print(\"y:\", y)"
   ]
  },
  {
   "cell_type": "code",
   "execution_count": 8,
   "id": "6a48bc14",
   "metadata": {},
   "outputs": [
    {
     "name": "stdout",
     "output_type": "stream",
     "text": [
      "Enter a real number c: 3.2\n",
      "4\n",
      "The integer x that gives an integer result when multiplied with 3.2 is 0.0\n"
     ]
    }
   ],
   "source": [
    "def find_integer_multiple(c):\n",
    "    x = int(math.ceil(c))\n",
    "    print(x)\n",
    "    while True:\n",
    "        z = x * c\n",
    "        if z == int(z):\n",
    "            return z/c\n",
    "        x -= 1\n",
    "\n",
    "c = float(input(\"Enter a real number c: \"))\n",
    "result = find_integer_multiple(c)\n",
    "if result is not None:\n",
    "    print(\"The integer x that gives an integer result when multiplied with\", c, \"is\", result)\n",
    "else:\n",
    "    print(\"No solution exists.\")"
   ]
  },
  {
   "cell_type": "code",
   "execution_count": null,
   "id": "c9549267",
   "metadata": {},
   "outputs": [],
   "source": []
  },
  {
   "cell_type": "code",
   "execution_count": null,
   "id": "01ca8429",
   "metadata": {},
   "outputs": [],
   "source": []
  },
  {
   "cell_type": "code",
   "execution_count": null,
   "id": "81a95656",
   "metadata": {},
   "outputs": [],
   "source": []
  },
  {
   "cell_type": "code",
   "execution_count": 16,
   "id": "7d9764a4",
   "metadata": {},
   "outputs": [
    {
     "name": "stdout",
     "output_type": "stream",
     "text": [
      "The minimal super cell is:\n",
      " [array([4.72746681e+16, 2.36373340e+16]), array([0.00000000e+00, 4.09410635e+16]), array([5.11832451e+16, 0.00000000e+00]), array([0.00000000e+00, 5.26964889e+16])]\n"
     ]
    }
   ],
   "source": [
    "import numpy as np\n",
    "\n",
    "def gcd(a, b):\n",
    "    while b:\n",
    "        a, b = b, a % b\n",
    "    return a\n",
    "\n",
    "def lcm(a, b):\n",
    "    return a * b // gcd(a, b)\n",
    "\n",
    "def find_minimal_supercell(cell1, cell2):\n",
    "    a1, a2 = np.array(cell1)\n",
    "    b1, b2 = np.array(cell2)\n",
    "    l1 = lcm(np.linalg.norm(a1, ord=1), np.linalg.norm(a2, ord=1))\n",
    "    l2 = lcm(np.linalg.norm(b1, ord=1), np.linalg.norm(b2, ord=1))\n",
    "    l = lcm(l1, l2)\n",
    "    supercell = [a1 * l // l1, a2 * l // l1, b1 * l // l2, b2 * l // l2]\n",
    "    return supercell\n",
    "\n",
    "cell_1 = [[1, 0], [0, 2]]\n",
    "cell_2 = [[2, 0], [0, 1]]\n",
    "result = find_minimal_supercell(cell1, cell2)\n",
    "print(\"The minimal super cell is:\\n\", result)"
   ]
  },
  {
   "cell_type": "code",
   "execution_count": 17,
   "id": "12c0235d",
   "metadata": {},
   "outputs": [
    {
     "name": "stdout",
     "output_type": "stream",
     "text": [
      "The minimal super cell is:\n",
      " [array([4.72746681e+16, 2.36373340e+16]), array([0.00000000e+00, 4.09410635e+16]), array([5.11832451e+16, 0.00000000e+00]), array([0.00000000e+00, 5.26964889e+16])]\n"
     ]
    }
   ],
   "source": [
    "cell_1 = [np.array(cell1[0]).T, np.array(cell1[1]).T]\n",
    "cell_2 = [np.array(cell2[0]).T, np.array(cell2[1]).T]\n",
    "result = find_minimal_supercell(cell1, cell2)\n",
    "print(\"The minimal super cell is:\\n\", result)"
   ]
  },
  {
   "cell_type": "code",
   "execution_count": 18,
   "id": "f66e1208",
   "metadata": {},
   "outputs": [
    {
     "name": "stdout",
     "output_type": "stream",
     "text": [
      "The matrices Ta and Tb are:\n",
      "[[3. 0.]\n",
      " [0. 6.]]\n",
      "[[3. 0.]\n",
      " [0. 3.]]\n"
     ]
    }
   ],
   "source": [
    "import numpy as np\n",
    "\n",
    "def gcd(a, b):\n",
    "    while b:\n",
    "        a, b = b, a % b\n",
    "    return a\n",
    "\n",
    "def lcm(a, b):\n",
    "    return a * b // gcd(a, b)\n",
    "\n",
    "def find_minimal_supercell(cell1, cell2, a_range):\n",
    "    a1, a2 = np.array(cell1)\n",
    "    b1, b2 = np.array(cell2)\n",
    "    l1 = lcm(np.linalg.norm(a1, ord=1), np.linalg.norm(a2, ord=1))\n",
    "    min_l2 = float(\"inf\")\n",
    "    min_Tb = None\n",
    "    for a in a_range:\n",
    "        strain = [[1 + a, 0], [0, 1 - a]]\n",
    "        b1 = np.dot(strain, b1)\n",
    "        b2 = np.dot(strain, b2)\n",
    "        l2 = lcm(np.linalg.norm(b1, ord=1), np.linalg.norm(b2, ord=1))\n",
    "        if l2 < min_l2:\n",
    "            min_l2 = l2\n",
    "            min_Tb = np.array([b1 * l2 // np.linalg.norm(b1, ord=1), b2 * l2 // np.linalg.norm(b2, ord=1)])\n",
    "    l = lcm(l1, min_l2)\n",
    "    Ta = np.array([a1 * l // l1, a2 * l // l1])\n",
    "    Tb = min_Tb\n",
    "    return Ta, Tb\n",
    "\n",
    "cell1 = [[1, 0], [0, 2]]\n",
    "cell2 = [[2, 0], [0, 1]]\n",
    "a_range = np.linspace(-0.5, 0.5, 101)\n",
    "Ta, Tb = find_minimal_supercell(cell1, cell2, a_range)\n",
    "print(\"The matrices Ta and Tb are:\")\n",
    "print(Ta)\n",
    "print(Tb)\n"
   ]
  },
  {
   "cell_type": "code",
   "execution_count": 21,
   "id": "6eba555a",
   "metadata": {},
   "outputs": [
    {
     "name": "stdout",
     "output_type": "stream",
     "text": [
      "The matrices Ta and Tb are:\n",
      "[[4.86847303e+14 2.43423651e+14]\n",
      " [0.00000000e+00 4.21622132e+14]]\n",
      "[[1.9734386e+14 0.0000000e+00]\n",
      " [0.0000000e+00 1.9734386e+14]]\n"
     ]
    }
   ],
   "source": [
    "cell1 = np.array([[2.467, 2.467 / 2], [0, 2.467 * np.sqrt(3) / 2]])\n",
    "cell2 = np.array([[5.75, 0], [0, 5.92]])\n",
    "\n",
    "cell_1 = [np.array(cell1[0]).T, np.array(cell1[1]).T]\n",
    "cell_2 = [np.array(cell2[0]).T, np.array(cell2[1]).T]\n",
    "a_range = np.linspace(-0.5, 0.5, 101)\n",
    "Ta, Tb = find_minimal_supercell(cell_1, cell_2, a_range)\n",
    "print(\"The matrices Ta and Tb are:\")\n",
    "print(Ta)\n",
    "print(Tb)\n",
    "\n"
   ]
  },
  {
   "cell_type": "code",
   "execution_count": null,
   "id": "9f44d421",
   "metadata": {},
   "outputs": [],
   "source": []
  }
 ],
 "metadata": {
  "kernelspec": {
   "display_name": "Python 3 (ipykernel)",
   "language": "python",
   "name": "python3"
  },
  "language_info": {
   "codemirror_mode": {
    "name": "ipython",
    "version": 3
   },
   "file_extension": ".py",
   "mimetype": "text/x-python",
   "name": "python",
   "nbconvert_exporter": "python",
   "pygments_lexer": "ipython3",
   "version": "3.9.13"
  }
 },
 "nbformat": 4,
 "nbformat_minor": 5
}
