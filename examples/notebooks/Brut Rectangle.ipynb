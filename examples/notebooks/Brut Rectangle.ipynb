{
 "cells": [
  {
   "cell_type": "code",
   "execution_count": 3,
   "id": "6c00a7d8",
   "metadata": {},
   "outputs": [],
   "source": [
    "import numpy as np\n",
    "\n",
    "import matplotlib\n",
    "import matplotlib.pyplot as plt"
   ]
  },
  {
   "cell_type": "code",
   "execution_count": 13,
   "id": "8e6a177c",
   "metadata": {},
   "outputs": [],
   "source": [
    "#vdw evolve utils\n",
    "def unit_vector(vector):\n",
    "    \"\"\" Returns the unit vector of the vector.  \"\"\"\n",
    "    return vector / np.linalg.norm(vector)\n",
    "\n",
    "def angle_between(v1, v2):\n",
    "    \"\"\" Returns the angle in radians between vectors 'v1' and 'v2'::\n",
    "\n",
    "            >>> angle_between((1, 0, 0), (0, 1, 0))\n",
    "            1.5707963267948966\n",
    "            >>> angle_between((1, 0, 0), (1, 0, 0))\n",
    "            0.0\n",
    "            >>> angle_between((1, 0, 0), (-1, 0, 0))\n",
    "            3.141592653589793\n",
    "    \"\"\"\n",
    "    v1_u = unit_vector(v1)\n",
    "    v2_u = unit_vector(v2)\n",
    "    return np.arccos(np.clip(np.dot(v1_u, v2_u), -1.0, 1.0))\n",
    "\n",
    "\n",
    "\n",
    "def rotation_10(v):\n",
    "    th = angle_between(v, np.array([1,0]))\n",
    "    rotation = np.array( [[np.cos(-th), -np.sin(-th)],\n",
    "                          [np.sin(-th), np.cos(-th)]])\n",
    "    return rotation\n",
    "\n",
    "def allign_along_10(celss):\n",
    "\n",
    "    c = []\n",
    "    for cel in celss:\n",
    "        ro = rotation_10(np.array([cel[0][0], cel[1][0]]))\n",
    "        c.append(np.dot(ro, cel))\n",
    "\n",
    "    return c"
   ]
  },
  {
   "cell_type": "code",
   "execution_count": 64,
   "id": "10a1b577",
   "metadata": {},
   "outputs": [
    {
     "data": {
      "text/plain": [
       "array([[5.75, 0.  ],\n",
       "       [0.  , 5.92]])"
      ]
     },
     "execution_count": 64,
     "metadata": {},
     "output_type": "execute_result"
    }
   ],
   "source": [
    "_cell = np.array([[5.75, 0], [0, 5.92]])#np.array([[2.467, 2.467 / 2], [0, 2.467 * np.sqrt(3) / 2]])\n",
    "cell = allign_along_10([_cell])[0]\n",
    "\n",
    "cell"
   ]
  },
  {
   "cell_type": "code",
   "execution_count": 81,
   "id": "6597f18a",
   "metadata": {},
   "outputs": [],
   "source": [
    "def rectangle_transform(cell,steps,limit=0.0001):\n",
    "    a1=cell.T[0]\n",
    "    a2=cell.T[1]\n",
    "    history={\"m\":[],\"n\":[], \"d\":[]}\n",
    "    \n",
    "    if a2[0]==0:\n",
    "        history[\"m\"].append(1)\n",
    "        history[\"n\"].append(1)\n",
    "        history[\"d\"].append(0.0)\n",
    "        return np.array([[1,0],[0,1]]), history\n",
    "        \n",
    "    n=1\n",
    "    for s in range(steps):\n",
    "        p1= (n+s)*a1[0]\n",
    "        m=int(-p1/a2[0])\n",
    "        d= p1+m*a2[0]\n",
    "        if d**2>=limit:\n",
    "            history[\"m\"].append(m)\n",
    "            history[\"n\"].append(n+s)\n",
    "            history[\"d\"].append(d)\n",
    "        else:\n",
    "            history[\"m\"].append(m)\n",
    "            history[\"n\"].append(n+s)\n",
    "            history[\"d\"].append(d)\n",
    "            return [[n,0],[0,m]],history\n",
    "    \n",
    "    return np.array([[0,0],[0,0]]), history\n",
    "              "
   ]
  },
  {
   "cell_type": "code",
   "execution_count": 85,
   "id": "5823b8f4",
   "metadata": {},
   "outputs": [
    {
     "name": "stdout",
     "output_type": "stream",
     "text": [
      "ta: [[1 0]\n",
      " [0 1]]\n",
      "history {'m': [1], 'n': [1], 'd': [0.0]}\n"
     ]
    },
    {
     "data": {
      "text/plain": [
       "<matplotlib.legend.Legend at 0x7faeb03c0400>"
      ]
     },
     "execution_count": 85,
     "metadata": {},
     "output_type": "execute_result"
    },
    {
     "data": {
      "image/png": "[encoded data removed]",
      "text/plain": [
       "<Figure size 432x288 with 1 Axes>"
      ]
     },
     "metadata": {
      "needs_background": "light"
     },
     "output_type": "display_data"
    }
   ],
   "source": [
    "Ta, history = rectangle_transform(cell,steps=100,limit=0.00001)\n",
    "print(\"ta:\", Ta)\n",
    "print(\"history\", history)\n",
    "\n",
    "plt.plot(history[\"d\"], label=\"distance to ortogonal axes\")\n",
    "plt.legend()"
   ]
  },
  {
   "cell_type": "code",
   "execution_count": null,
   "id": "aff632e6",
   "metadata": {},
   "outputs": [],
   "source": [
    "#\n",
    "# May be used to speed up but i think the complexity is almost the same \n",
    "#\n",
    "\n",
    "# def gcd(a, b, error):\n",
    "#     while abs(b) > error:\n",
    "#         t = b\n",
    "#         b = a % b\n",
    "#         a = t\n",
    "#     return a\n",
    "\n",
    "# def lcm(a, b, error):\n",
    "#     return a * b / gcd(a, b, error)\n",
    "\n"
   ]
  }
 ],
 "metadata": {
  "kernelspec": {
   "display_name": "Python 3",
   "language": "python",
   "name": "python3"
  },
  "language_info": {
   "codemirror_mode": {
    "name": "ipython",
    "version": 3
   },
   "file_extension": ".py",
   "mimetype": "text/x-python",
   "name": "python",
   "nbconvert_exporter": "python",
   "pygments_lexer": "ipython3",
   "version": "3.8.5"
  }
 },
 "nbformat": 4,
 "nbformat_minor": 5
}
