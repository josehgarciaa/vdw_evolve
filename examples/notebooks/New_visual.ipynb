{
 "cells": [
  {
   "cell_type": "code",
   "execution_count": 1,
   "id": "089017ee",
   "metadata": {},
   "outputs": [],
   "source": [
    "import numpy as np\n",
    "\n",
    "from vdw_evolve.parser import  extract_molecule"
   ]
  },
  {
   "cell_type": "code",
   "execution_count": 2,
   "id": "53cd27e0",
   "metadata": {},
   "outputs": [
    {
     "data": {
      "text/plain": [
       "array([[ 2.13648467,  1.2335    ],\n",
       "       [ 2.13648467, -1.2335    ]])"
      ]
     },
     "execution_count": 2,
     "metadata": {},
     "output_type": "execute_result"
    }
   ],
   "source": [
    "path_xyz1 = \"../zx_files/graphene.xyz\"\n",
    "ar = 2.467\n",
    "graphene_lattice=ar*np.array([[np.sqrt(3)/2,1/2],[np.sqrt(3)/2,-1/2]])\n",
    "graphene_lattice"
   ]
  },
  {
   "cell_type": "code",
   "execution_count": 3,
   "id": "3ca9563b",
   "metadata": {},
   "outputs": [
    {
     "data": {
      "text/plain": [
       "{'C1': {'x': -2.26645703572323e-18,\n",
       "  'y': -1.8616630956906283e-38,\n",
       "  'z': -1.8616630956906283e-38},\n",
       " 'C2': {'x': 0.6666666674727976,\n",
       "  'y': 0.3333333351204249,\n",
       "  'z': 0.3333333351204249}}"
      ]
     },
     "execution_count": 3,
     "metadata": {},
     "output_type": "execute_result"
    }
   ],
   "source": [
    "cell_atoms = extract_molecule(path_xyz1)\n",
    "cell_atoms"
   ]
  },
  {
   "cell_type": "code",
   "execution_count": null,
   "id": "d4894f0a",
   "metadata": {},
   "outputs": [],
   "source": [
    "atom_coordinates =[]\n",
    "for atom in cell_atoms:\n",
    "    xy = [cell_atoms[atom][\"x\"],cell_atoms[atom][\"y\"]]"
   ]
  },
  {
   "cell_type": "code",
   "execution_count": 4,
   "id": "8dad5c2c",
   "metadata": {},
   "outputs": [],
   "source": [
    "def read_xyz(file):\n",
    "    with open(file) as f:\n",
    "        npoints=int(f.readline())\n",
    "        lat= f.readline();\n",
    "        lat= lat[lat.find(\"\\\"\")+1:lat.find(\"Properties\")-2].split(\" \");\n",
    "        lat= np.array(list(map(float,lat))).reshape(3,3);\n",
    "        xyz = [ format_xyzline(line) for line in f ];\n",
    "    return lat , xyz;"
   ]
  },
  {
   "cell_type": "code",
   "execution_count": 5,
   "id": "f60eba04",
   "metadata": {},
   "outputs": [
    {
     "ename": "ValueError",
     "evalue": "could not convert string to float: ''",
     "output_type": "error",
     "traceback": [
      "\u001b[0;31m---------------------------------------------------------------------------\u001b[0m",
      "\u001b[0;31mValueError\u001b[0m                                Traceback (most recent call last)",
      "Cell \u001b[0;32mIn [5], line 1\u001b[0m\n\u001b[0;32m----> 1\u001b[0m graphene_atoms \u001b[38;5;241m=\u001b[39m \u001b[43mread_xyz\u001b[49m\u001b[43m(\u001b[49m\u001b[43mpath_xyz1\u001b[49m\u001b[43m)\u001b[49m\n\u001b[1;32m      2\u001b[0m graphene_atoms\n",
      "Cell \u001b[0;32mIn [4], line 6\u001b[0m, in \u001b[0;36mread_xyz\u001b[0;34m(file)\u001b[0m\n\u001b[1;32m      4\u001b[0m     lat\u001b[38;5;241m=\u001b[39m f\u001b[38;5;241m.\u001b[39mreadline();\n\u001b[1;32m      5\u001b[0m     lat\u001b[38;5;241m=\u001b[39m lat[lat\u001b[38;5;241m.\u001b[39mfind(\u001b[38;5;124m\"\u001b[39m\u001b[38;5;130;01m\\\"\u001b[39;00m\u001b[38;5;124m\"\u001b[39m)\u001b[38;5;241m+\u001b[39m\u001b[38;5;241m1\u001b[39m:lat\u001b[38;5;241m.\u001b[39mfind(\u001b[38;5;124m\"\u001b[39m\u001b[38;5;124mProperties\u001b[39m\u001b[38;5;124m\"\u001b[39m)\u001b[38;5;241m-\u001b[39m\u001b[38;5;241m2\u001b[39m]\u001b[38;5;241m.\u001b[39msplit(\u001b[38;5;124m\"\u001b[39m\u001b[38;5;124m \u001b[39m\u001b[38;5;124m\"\u001b[39m);\n\u001b[0;32m----> 6\u001b[0m     lat\u001b[38;5;241m=\u001b[39m np\u001b[38;5;241m.\u001b[39marray(\u001b[38;5;28;43mlist\u001b[39;49m\u001b[43m(\u001b[49m\u001b[38;5;28;43mmap\u001b[39;49m\u001b[43m(\u001b[49m\u001b[38;5;28;43mfloat\u001b[39;49m\u001b[43m,\u001b[49m\u001b[43mlat\u001b[49m\u001b[43m)\u001b[49m\u001b[43m)\u001b[49m)\u001b[38;5;241m.\u001b[39mreshape(\u001b[38;5;241m3\u001b[39m,\u001b[38;5;241m3\u001b[39m);\n\u001b[1;32m      7\u001b[0m     xyz \u001b[38;5;241m=\u001b[39m [ format_xyzline(line) \u001b[38;5;28;01mfor\u001b[39;00m line \u001b[38;5;129;01min\u001b[39;00m f ];\n\u001b[1;32m      8\u001b[0m \u001b[38;5;28;01mreturn\u001b[39;00m lat , xyz\n",
      "\u001b[0;31mValueError\u001b[0m: could not convert string to float: ''"
     ]
    }
   ],
   "source": [
    "graphene_atoms = read_xyz(path_xyz1)\n",
    "graphene_atoms"
   ]
  },
  {
   "cell_type": "code",
   "execution_count": null,
   "id": "1a677718",
   "metadata": {},
   "outputs": [],
   "source": [
    "def xyz2supercell(lat_vec, xyz, shape, no_expand=False):\n",
    "  #Create a grid corresponding to the points in the \n",
    "  #supercell (sc)\n",
    "    nx,ny, nz  = shape;\n",
    "    grid = np.mgrid[-nx:nx, -ny:ny, 0:nz].reshape(3,2*nx*2*ny*nz).T\n",
    "\n",
    "    if no_expand is True:\n",
    "        grid = np.mgrid[0:1, 0:1, 0:1].reshape(3,1).T\n",
    "\n",
    "    sc_points  = grid.dot(lat_vec);"
   ]
  },
  {
   "cell_type": "code",
   "execution_count": null,
   "id": "5e254ac6",
   "metadata": {},
   "outputs": [],
   "source": []
  }
 ],
 "metadata": {
  "kernelspec": {
   "display_name": "Python 3 (ipykernel)",
   "language": "python",
   "name": "python3"
  },
  "language_info": {
   "codemirror_mode": {
    "name": "ipython",
    "version": 3
   },
   "file_extension": ".py",
   "mimetype": "text/x-python",
   "name": "python",
   "nbconvert_exporter": "python",
   "pygments_lexer": "ipython3",
   "version": "3.9.13"
  }
 },
 "nbformat": 4,
 "nbformat_minor": 5
}
