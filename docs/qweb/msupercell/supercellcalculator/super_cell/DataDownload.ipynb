{
 "cells": [
  {
   "cell_type": "code",
   "execution_count": 1,
   "id": "a3270e45",
   "metadata": {},
   "outputs": [],
   "source": [
    "import wget\n",
    "import os.path\n",
    "import json\n",
    "\n",
    "\n",
    "import numpy as np\n",
    "from numpy.linalg import det, inv\n",
    "from numpy import array\n",
    "import random\n",
    "\n",
    "import ase.db\n",
    "import pandas as pd\n",
    "\n",
    "import matplotlib.pyplot as plt"
   ]
  },
  {
   "cell_type": "code",
   "execution_count": 2,
   "id": "6d312153",
   "metadata": {},
   "outputs": [],
   "source": [
    "from anneling_super_cell import super_cell\n",
    "from data_import import extract_structure, get_data_as_pd"
   ]
  },
  {
   "cell_type": "code",
   "execution_count": 3,
   "id": "5b5a7d5b",
   "metadata": {},
   "outputs": [],
   "source": [
    "DATA_PATH = \"database\"\n",
    "database_name1 = \"c2db-20211702.db\"\n",
    "database_name2 = \"c2db-20211702.db\""
   ]
  },
  {
   "cell_type": "code",
   "execution_count": 4,
   "id": "f045c8a2",
   "metadata": {},
   "outputs": [
    {
     "name": "stdout",
     "output_type": "stream",
     "text": [
      "The number of elements is: 5\n",
      "Empty DataFrame\n",
      "Columns: [formula, uid]\n",
      "Index: []\n"
     ]
    }
   ],
   "source": [
    "path = DATA_PATH+database_name1\n",
    "\n",
    "options = 'is_magnetic=True, thermodynamic_stability_level=3'\n",
    "props = [\"formula\",\"spgnum\", \"spacegroup\",\"uid\",\"asr_id\"] \n",
    "\n",
    "raw_df_1 = get_data_as_pd(path,options,props)\n",
    "raw_df_1 = raw_df_1[ (raw_df_1[\"spacegroup\"]!='P1') & (raw_df_1[\"spacegroup\"]!='Pc')& (raw_df_1[\"spacegroup\"]!='P-1') ];\n",
    "\n",
    "\n",
    "#Print\n",
    "print(\"The number of elements is:\",len(list(raw_df_1)) )\n",
    "print( raw_df_1[[\"formula\",\"uid\"]] )"
   ]
  },
  {
   "cell_type": "code",
   "execution_count": 5,
   "id": "682f838c",
   "metadata": {},
   "outputs": [
    {
     "name": "stdout",
     "output_type": "stream",
     "text": [
      "The number of elements is: 5\n",
      "Empty DataFrame\n",
      "Columns: [formula, uid, gap]\n",
      "Index: []\n"
     ]
    }
   ],
   "source": [
    "path = DATA_PATH+database_name2\n",
    "\n",
    "options = 'thermodynamic_stability_level=3'\n",
    "props = [\"formula\",\"spgnum\", \"spacegroup\",\"gap\",\"uid\"] \n",
    "\n",
    "raw_df_2 = get_data_as_pd(path,options,props)\n",
    "raw_df_2 = raw_df_2[ (raw_df_2[\"gap\"]<=10e-3)& (raw_df_2[\"spacegroup\"]!='P1') & (raw_df_2[\"spacegroup\"]!='Pc')& (raw_df_2[\"spacegroup\"]!='P-1') ];\n",
    "\n",
    "\n",
    "#Print\n",
    "print(\"The number of elements is:\",len(list(raw_df_2)) )\n",
    "print( raw_df_2[[\"formula\",\"uid\",\"gap\"]] )"
   ]
  },
  {
   "cell_type": "code",
   "execution_count": 6,
   "id": "4fef7d41",
   "metadata": {},
   "outputs": [
    {
     "name": "stdout",
     "output_type": "stream",
     "text": [
      "extract_data1:\n",
      "Series([], Name: uid, dtype: object)\n",
      "extract_data2:\n"
     ]
    }
   ],
   "source": [
    "print(\"extract_data1:\")\n",
    "print(raw_df_1[\"uid\"])\n",
    "extract_structure(raw_df_1[\"uid\"],save_path=\"STRUCTUREScolection\")\n",
    "print(\"extract_data2:\")\n",
    "extract_structure(raw_df_1[\"uid\"],save_path=\"STRUCTUREScolection\")"
   ]
  },
  {
   "cell_type": "code",
   "execution_count": null,
   "id": "46726239",
   "metadata": {},
   "outputs": [],
   "source": []
  }
 ],
 "metadata": {
  "kernelspec": {
   "display_name": "Python 3",
   "language": "python",
   "name": "python3"
  },
  "language_info": {
   "codemirror_mode": {
    "name": "ipython",
    "version": 3
   },
   "file_extension": ".py",
   "mimetype": "text/x-python",
   "name": "python",
   "nbconvert_exporter": "python",
   "pygments_lexer": "ipython3",
   "version": "3.8.5"
  }
 },
 "nbformat": 4,
 "nbformat_minor": 5
}
