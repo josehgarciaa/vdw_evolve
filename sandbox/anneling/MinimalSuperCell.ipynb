{
 "cells": [
  {
   "cell_type": "code",
   "execution_count": 1,
   "id": "baf89f96",
   "metadata": {},
   "outputs": [],
   "source": [
    "import numpy as np\n",
    "from numpy.linalg import det\n",
    "import matplotlib.pyplot as plt\n",
    "from matplotlib import cm\n",
    "from matplotlib.ticker import LinearLocator\n",
    "\n",
    "from anneling_one import Annealing1"
   ]
  },
  {
   "cell_type": "code",
   "execution_count": null,
   "id": "3bdcbd9f",
   "metadata": {},
   "outputs": [],
   "source": [
    "a = np.array([[0,1],[1,0]])\n",
    "b = np.array([[0,5],[5,0]])\n",
    "eps = 0.0001\n",
    "\n",
    "bond=10\n",
    "\n",
    "def tAtB(params):\n",
    "    tA = np.array([[params[0],params[1]],\n",
    "                   [params[2],params[3]]])\n",
    "    tB = np.array([[params[4],params[5]],\n",
    "                   [params[6],params[7]]])\n",
    "    return tA, tB\n",
    "          \n",
    "def fit_fucntion(params):\n",
    "          \n",
    "        tA, tB= tAtB(params)\n",
    "        tAa= np.dot(tA,a)\n",
    "        tBa= np.dot(tB,b)\n",
    "        \n",
    "        zero_mat= tAa - tBa\n",
    "        \n",
    "        s=0\n",
    "        for row in zero_mat:\n",
    "            for e in row:\n",
    "                s+=e*e\n",
    "        \n",
    "        detTAa= det(tAa)*det(tAa) # minimum but biger than 0\n",
    "        detTBa= det(tBa)*det(tBa)\n",
    "        \n",
    "        f = s + 1/detTAa + 1/detTBa\n",
    "        return f "
   ]
  },
  {
   "cell_type": "code",
   "execution_count": null,
   "id": "f813e5aa",
   "metadata": {},
   "outputs": [],
   "source": [
    "# Experiment settings\n",
    "\n",
    "#Hyperparameters of the model\n",
    "model_par = {\n",
    "    \n",
    "    'initialTemp': 1, \n",
    "    'finalTemp': 0.0003,\n",
    "\n",
    "    'beta': 10,\n",
    "    'bounds': [[-a,a]],\n",
    "\n",
    "    'nr_neighbours': 5,\n",
    "    'step_size': 4,\n",
    "    'gaussian_sd':5\n",
    "    \n",
    "}\n",
    "\n",
    "#\n",
    "input_size = 8 # since our function has one variable this is a trivial scenario.\n",
    "start_point = [1,2,3,4,5,6,7,8 ]\n",
    "\n",
    "# Experiment\n",
    "experiment = Annealing1(function_a ,start_point, model_par)"
   ]
  },
  {
   "cell_type": "code",
   "execution_count": null,
   "id": "8183af5e",
   "metadata": {},
   "outputs": [],
   "source": []
  }
 ],
 "metadata": {
  "kernelspec": {
   "display_name": "Python 3 (ipykernel)",
   "language": "python",
   "name": "python3"
  },
  "language_info": {
   "codemirror_mode": {
    "name": "ipython",
    "version": 3
   },
   "file_extension": ".py",
   "mimetype": "text/x-python",
   "name": "python",
   "nbconvert_exporter": "python",
   "pygments_lexer": "ipython3",
   "version": "3.9.13"
  }
 },
 "nbformat": 4,
 "nbformat_minor": 5
}
