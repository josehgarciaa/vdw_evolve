{
 "cells": [
  {
   "cell_type": "code",
   "execution_count": 1,
   "id": "baf89f96",
   "metadata": {},
   "outputs": [],
   "source": [
    "import numpy as np\n",
    "from numpy.linalg import det\n",
    "import matplotlib.pyplot as plt\n",
    "from matplotlib import cm\n",
    "from matplotlib.ticker import LinearLocator\n",
    "\n",
    "from anneling_grad import GradientAnnealing"
   ]
  },
  {
   "cell_type": "code",
   "execution_count": 2,
   "id": "3bdcbd9f",
   "metadata": {},
   "outputs": [],
   "source": [
    "a = np.array([[0,1],[1,0]])\n",
    "b = np.array([[0,5],[5,0]])\n",
    "eps = 0.0001\n",
    "\n",
    "bond=10\n",
    "\n",
    "def tAtB(params):\n",
    "    tA = np.array([[params[0],params[1]],\n",
    "                   [params[2],params[3]]])\n",
    "    tB = np.array([[params[4],params[5]],\n",
    "                   [params[6],params[7]]])\n",
    "    return tA, tB\n",
    "          \n",
    "def fit_fucntion(params , k_p=100):\n",
    "          \n",
    "        tA, tB= tAtB(params)\n",
    "        tAa= np.dot(tA,a)\n",
    "        tBa= np.dot(tB,b)\n",
    "        \n",
    "        zero_mat= tAa - tBa\n",
    "        \n",
    "        s=0\n",
    "        for row in zero_mat:\n",
    "            for e in row:\n",
    "                s+=e*e\n",
    "        \n",
    "        A_max=np.sqrt((bond+bond)**2* np.max([np.linalg.det(a),np.linalg.det(b)])**2)\n",
    "        A_min =np.sqrt(np.min([np.linalg.det(a),np.linalg.det(b)])**2)\n",
    "        \n",
    "        detTAa= det(tAa)*det(tAa) # minimum but biger than 0\n",
    "        detTBa= det(tBa)*det(tBa)\n",
    "        \n",
    "        A_incentive = A_max/detTAa  + detTAa/A_min #(1-inf)\n",
    "        B_incentive = A_max/detTBa  + detTBa/A_min\n",
    "        f = (s/A_min)**k_p + A_incentive + B_incentive \n",
    "        \n",
    "        print(\"s:{}|A_incentive:{}|B_incentive:{}\".format(s,A_incentive,B_incentive))\n",
    "        \n",
    "        \n",
    "        return f "
   ]
  },
  {
   "cell_type": "code",
   "execution_count": 3,
   "id": "f813e5aa",
   "metadata": {},
   "outputs": [
    {
     "name": "stdout",
     "output_type": "stream",
     "text": [
      "s:32|A_incentive:20.04|B_incentive:25.031999999999993\n"
     ]
    }
   ],
   "source": [
    "# Experiment settings\n",
    "\n",
    "#Hyperparameters of the model\n",
    "model_par = {\n",
    "    \n",
    "    'initialTemp': 4, \n",
    "    'finalTemp': 0.0003,\n",
    "\n",
    "    'beta': 10,\n",
    "    'bounds': [[-2*bond,2*bond] for _ in range(8)],\n",
    "\n",
    "    'nr_neighbours': 1,\n",
    "    'gaussian_sd':5,\n",
    "    \n",
    "    'gradient_influence':0.45,\n",
    "    'delta_p': 0.2,\n",
    "    'g_step_size':7,\n",
    "    'step_size': 2,\n",
    "    \n",
    "    'known_min': 2   \n",
    "}\n",
    "\n",
    "[[-bond,bond] for _ in range(8)],\n",
    "\n",
    "#\n",
    "input_size = 8 # since our function has one variable this is a trivial scenario.\n",
    "start_point = [1,0,0,1,1,0,0,1 ]\n",
    "\n",
    "# Experiment\n",
    "experiment = GradientAnnealing(fit_fucntion ,start_point, model_par)"
   ]
  },
  {
   "cell_type": "code",
   "execution_count": 4,
   "id": "8183af5e",
   "metadata": {},
   "outputs": [
    {
     "name": "stdout",
     "output_type": "stream",
     "text": [
      "s:1010|A_incentive:inf|B_incentive:900.0008888888888\n",
      "s:32|A_incentive:20.04|B_incentive:25.031999999999993\n",
      "s:32|A_incentive:20.04|B_incentive:25.031999999999993\n",
      "temp:4|epoch:0|change:inf|value:52601359060.556755\n",
      "s:1872|A_incentive:9.08888888888889|B_incentive:18225.00004389576\n",
      "s:32|A_incentive:20.04|B_incentive:25.031999999999993\n",
      "s:32|A_incentive:20.04|B_incentive:25.031999999999993\n",
      "s:33.64|A_incentive:31.275599999999994|B_incentive:25.031999999999993\n",
      "s:30.439999999999998|A_incentive:13.94648888888889|B_incentive:25.031999999999993\n",
      "s:32.04|A_incentive:20.04|B_incentive:25.031999999999993\n",
      "s:32.04|A_incentive:20.04|B_incentive:25.031999999999993\n",
      "s:32.04|A_incentive:20.04|B_incentive:25.031999999999993\n",
      "s:32.04|A_incentive:20.04|B_incentive:25.031999999999993\n",
      "s:33.64|A_incentive:31.275599999999994|B_incentive:25.031999999999993\n",
      "s:30.439999999999998|A_incentive:13.94648888888889|B_incentive:25.031999999999993\n",
      "s:25.0|A_incentive:20.04|B_incentive:16.049999999999997\n",
      "s:41.0|A_incentive:20.04|B_incentive:36.022222222222204\n"
     ]
    },
    {
     "name": "stderr",
     "output_type": "stream",
     "text": [
      "/var/folders/3_/hxxz6cjj6k92q_tqrvht1tf80000gn/T/ipykernel_89441/687676465.py:33: RuntimeWarning: divide by zero encountered in double_scalars\n",
      "  A_incentive = A_max/detTAa  + detTAa/A_min #(1-inf)\n"
     ]
    },
    {
     "ename": "ValueError",
     "evalue": "Domain error in arguments.",
     "output_type": "error",
     "traceback": [
      "\u001b[0;31m---------------------------------------------------------------------------\u001b[0m",
      "\u001b[0;31mValueError\u001b[0m                                Traceback (most recent call last)",
      "Cell \u001b[0;32mIn [4], line 2\u001b[0m\n\u001b[1;32m      1\u001b[0m epochs\u001b[38;5;241m=\u001b[39m \u001b[38;5;241m50\u001b[39m\n\u001b[0;32m----> 2\u001b[0m history_book \u001b[38;5;241m=\u001b[39m \u001b[43mexperiment\u001b[49m\u001b[38;5;241;43m.\u001b[39;49m\u001b[43mevolve\u001b[49m\u001b[43m(\u001b[49m\u001b[43m \u001b[49m\u001b[43mepochs\u001b[49m\u001b[43m,\u001b[49m\u001b[43m \u001b[49m\u001b[43mprints_p\u001b[49m\u001b[38;5;241;43m=\u001b[39;49m\u001b[38;5;241;43m5\u001b[39;49m\u001b[43m)\u001b[49m\n",
      "File \u001b[0;32m~/Documents/GitHub/vdw_evolve/sandbox/anneling/anneling_one.py:62\u001b[0m, in \u001b[0;36mAnnealing1.evolve\u001b[0;34m(self, epochs, prints_p, tr_print)\u001b[0m\n\u001b[1;32m     57\u001b[0m \u001b[38;5;28;01mwhile\u001b[39;00m \u001b[38;5;28mself\u001b[39m\u001b[38;5;241m.\u001b[39mstop_criteria() \u001b[38;5;241m==\u001b[39m \u001b[38;5;28;01mFalse\u001b[39;00m:\n\u001b[1;32m     59\u001b[0m     \u001b[38;5;28;01mfor\u001b[39;00m epoch \u001b[38;5;129;01min\u001b[39;00m \u001b[38;5;28mrange\u001b[39m(epochs):\n\u001b[1;32m     60\u001b[0m \n\u001b[1;32m     61\u001b[0m         \u001b[38;5;66;03m# generate neighbours\u001b[39;00m\n\u001b[0;32m---> 62\u001b[0m         neighbours \u001b[38;5;241m=\u001b[39m \u001b[38;5;28;43mself\u001b[39;49m\u001b[38;5;241;43m.\u001b[39;49m\u001b[43mget_neighbours\u001b[49m\u001b[43m(\u001b[49m\u001b[43m)\u001b[49m\n\u001b[1;32m     64\u001b[0m         \u001b[38;5;66;03m# neighbour picking\u001b[39;00m\n\u001b[1;32m     65\u001b[0m         choice \u001b[38;5;241m=\u001b[39m np\u001b[38;5;241m.\u001b[39mrandom\u001b[38;5;241m.\u001b[39mchoice([i \u001b[38;5;28;01mfor\u001b[39;00m i \u001b[38;5;129;01min\u001b[39;00m \u001b[38;5;28mrange\u001b[39m(\u001b[38;5;28mlen\u001b[39m(neighbours))])\n",
      "File \u001b[0;32m~/Documents/GitHub/vdw_evolve/sandbox/anneling/anneling_grad.py:39\u001b[0m, in \u001b[0;36mGradientAnnealing.get_neighbours\u001b[0;34m(self)\u001b[0m\n\u001b[1;32m     37\u001b[0m grad \u001b[38;5;241m=\u001b[39m (\u001b[38;5;28mself\u001b[39m\u001b[38;5;241m.\u001b[39mev_function(p_in_m) \u001b[38;5;241m-\u001b[39m \u001b[38;5;28mself\u001b[39m\u001b[38;5;241m.\u001b[39mev_function(p_in_p)) \u001b[38;5;241m/\u001b[39m (\u001b[38;5;241m2\u001b[39m \u001b[38;5;241m*\u001b[39m delta_p)\n\u001b[1;32m     38\u001b[0m p \u001b[38;5;241m=\u001b[39m \u001b[38;5;28mself\u001b[39m\u001b[38;5;241m.\u001b[39mactual_solution[p_in] \u001b[38;5;241m+\u001b[39m gradient_step_size \u001b[38;5;241m*\u001b[39m grad  \u001b[38;5;66;03m# maybe heare i could add the gradient\u001b[39;00m\n\u001b[0;32m---> 39\u001b[0m p \u001b[38;5;241m=\u001b[39m \u001b[38;5;28;43mself\u001b[39;49m\u001b[38;5;241;43m.\u001b[39;49m\u001b[43mg_distribution\u001b[49m\u001b[43m(\u001b[49m\u001b[43mp\u001b[49m\u001b[43m,\u001b[49m\u001b[43m \u001b[49m\u001b[38;5;28;43mself\u001b[39;49m\u001b[38;5;241;43m.\u001b[39;49m\u001b[43mbounds\u001b[49m\u001b[43m[\u001b[49m\u001b[43mp_in\u001b[49m\u001b[43m]\u001b[49m\u001b[43m)\u001b[49m\n\u001b[1;32m     40\u001b[0m p \u001b[38;5;241m=\u001b[39m \u001b[38;5;28mround\u001b[39m(p)\n\u001b[1;32m     41\u001b[0m neighbour\u001b[38;5;241m.\u001b[39mappend(p)\n",
      "File \u001b[0;32m~/Documents/GitHub/vdw_evolve/sandbox/anneling/anneling_one.py:100\u001b[0m, in \u001b[0;36mAnnealing1.g_distribution\u001b[0;34m(self, c_value, bounds)\u001b[0m\n\u001b[1;32m     98\u001b[0m upp \u001b[38;5;241m=\u001b[39m bounds[\u001b[38;5;241m1\u001b[39m]\n\u001b[1;32m     99\u001b[0m sd \u001b[38;5;241m=\u001b[39m \u001b[38;5;28mself\u001b[39m\u001b[38;5;241m.\u001b[39mmodel_par[\u001b[38;5;124m'\u001b[39m\u001b[38;5;124mgaussian_sd\u001b[39m\u001b[38;5;124m'\u001b[39m]\n\u001b[0;32m--> 100\u001b[0m trunc_norm \u001b[38;5;241m=\u001b[39m \u001b[43mtruncnorm\u001b[49m\u001b[43m(\u001b[49m\u001b[43m(\u001b[49m\u001b[43mlow\u001b[49m\u001b[43m \u001b[49m\u001b[38;5;241;43m-\u001b[39;49m\u001b[43m \u001b[49m\u001b[43mmean\u001b[49m\u001b[43m)\u001b[49m\u001b[43m \u001b[49m\u001b[38;5;241;43m/\u001b[39;49m\u001b[43m \u001b[49m\u001b[43msd\u001b[49m\u001b[43m,\u001b[49m\u001b[43m \u001b[49m\u001b[43m(\u001b[49m\u001b[43mupp\u001b[49m\u001b[43m \u001b[49m\u001b[38;5;241;43m-\u001b[39;49m\u001b[43m \u001b[49m\u001b[43mmean\u001b[49m\u001b[43m)\u001b[49m\u001b[43m \u001b[49m\u001b[38;5;241;43m/\u001b[39;49m\u001b[43m \u001b[49m\u001b[43msd\u001b[49m\u001b[43m,\u001b[49m\u001b[43m \u001b[49m\u001b[43mloc\u001b[49m\u001b[38;5;241;43m=\u001b[39;49m\u001b[43mmean\u001b[49m\u001b[43m,\u001b[49m\u001b[43m \u001b[49m\u001b[43mscale\u001b[49m\u001b[38;5;241;43m=\u001b[39;49m\u001b[43msd\u001b[49m\u001b[43m)\u001b[49m\u001b[38;5;241;43m.\u001b[39;49m\u001b[43mrvs\u001b[49m\u001b[43m(\u001b[49m\u001b[43m)\u001b[49m\n\u001b[1;32m    101\u001b[0m \u001b[38;5;28;01mreturn\u001b[39;00m \u001b[38;5;28mround\u001b[39m(trunc_norm)\n",
      "File \u001b[0;32m~/.local/lib/python3.9/site-packages/scipy/stats/_distn_infrastructure.py:473\u001b[0m, in \u001b[0;36mrv_frozen.rvs\u001b[0;34m(self, size, random_state)\u001b[0m\n\u001b[1;32m    471\u001b[0m kwds \u001b[38;5;241m=\u001b[39m \u001b[38;5;28mself\u001b[39m\u001b[38;5;241m.\u001b[39mkwds\u001b[38;5;241m.\u001b[39mcopy()\n\u001b[1;32m    472\u001b[0m kwds\u001b[38;5;241m.\u001b[39mupdate({\u001b[38;5;124m'\u001b[39m\u001b[38;5;124msize\u001b[39m\u001b[38;5;124m'\u001b[39m: size, \u001b[38;5;124m'\u001b[39m\u001b[38;5;124mrandom_state\u001b[39m\u001b[38;5;124m'\u001b[39m: random_state})\n\u001b[0;32m--> 473\u001b[0m \u001b[38;5;28;01mreturn\u001b[39;00m \u001b[38;5;28;43mself\u001b[39;49m\u001b[38;5;241;43m.\u001b[39;49m\u001b[43mdist\u001b[49m\u001b[38;5;241;43m.\u001b[39;49m\u001b[43mrvs\u001b[49m\u001b[43m(\u001b[49m\u001b[38;5;241;43m*\u001b[39;49m\u001b[38;5;28;43mself\u001b[39;49m\u001b[38;5;241;43m.\u001b[39;49m\u001b[43margs\u001b[49m\u001b[43m,\u001b[49m\u001b[43m \u001b[49m\u001b[38;5;241;43m*\u001b[39;49m\u001b[38;5;241;43m*\u001b[39;49m\u001b[43mkwds\u001b[49m\u001b[43m)\u001b[49m\n",
      "File \u001b[0;32m~/.local/lib/python3.9/site-packages/scipy/stats/_distn_infrastructure.py:1068\u001b[0m, in \u001b[0;36mrv_generic.rvs\u001b[0;34m(self, *args, **kwds)\u001b[0m\n\u001b[1;32m   1066\u001b[0m cond \u001b[38;5;241m=\u001b[39m logical_and(\u001b[38;5;28mself\u001b[39m\u001b[38;5;241m.\u001b[39m_argcheck(\u001b[38;5;241m*\u001b[39margs), (scale \u001b[38;5;241m>\u001b[39m\u001b[38;5;241m=\u001b[39m \u001b[38;5;241m0\u001b[39m))\n\u001b[1;32m   1067\u001b[0m \u001b[38;5;28;01mif\u001b[39;00m \u001b[38;5;129;01mnot\u001b[39;00m np\u001b[38;5;241m.\u001b[39mall(cond):\n\u001b[0;32m-> 1068\u001b[0m     \u001b[38;5;28;01mraise\u001b[39;00m \u001b[38;5;167;01mValueError\u001b[39;00m(\u001b[38;5;124m\"\u001b[39m\u001b[38;5;124mDomain error in arguments.\u001b[39m\u001b[38;5;124m\"\u001b[39m)\n\u001b[1;32m   1070\u001b[0m \u001b[38;5;28;01mif\u001b[39;00m np\u001b[38;5;241m.\u001b[39mall(scale \u001b[38;5;241m==\u001b[39m \u001b[38;5;241m0\u001b[39m):\n\u001b[1;32m   1071\u001b[0m     \u001b[38;5;28;01mreturn\u001b[39;00m loc\u001b[38;5;241m*\u001b[39mones(size, \u001b[38;5;124m'\u001b[39m\u001b[38;5;124md\u001b[39m\u001b[38;5;124m'\u001b[39m)\n",
      "\u001b[0;31mValueError\u001b[0m: Domain error in arguments."
     ]
    }
   ],
   "source": [
    "epochs= 50\n",
    "history_book = experiment.evolve( epochs, prints_p=5)"
   ]
  },
  {
   "cell_type": "code",
   "execution_count": null,
   "id": "ad77f55d",
   "metadata": {},
   "outputs": [],
   "source": [
    "solution = experiment.actual_solution\n",
    "tA ,tB =tAtB(solution )\n",
    "zero_mat= np.dot(tA,a) - np.dot(tB,b)\n",
    "print(\"\\n _____\\n tA:\\n\",tA)\n",
    "print(\"det:\",det(tA))\n",
    "print(\"\\n _____\\n tB:\\n\",tB)\n",
    "print(\"det:\",det(tB))\n",
    "print(\"\\n zero_mat:\\n\",zero_mat)"
   ]
  },
  {
   "cell_type": "code",
   "execution_count": null,
   "id": "5866d95c",
   "metadata": {},
   "outputs": [],
   "source": [
    "history_book"
   ]
  },
  {
   "cell_type": "code",
   "execution_count": null,
   "id": "d2c36d10",
   "metadata": {},
   "outputs": [],
   "source": [
    "history_book.keys()"
   ]
  },
  {
   "cell_type": "code",
   "execution_count": null,
   "id": "e9f3def0",
   "metadata": {},
   "outputs": [],
   "source": [
    "plt.plot(history_book['values'][10:])\n",
    "plt.title(\"Values\")"
   ]
  },
  {
   "cell_type": "code",
   "execution_count": null,
   "id": "4c603d43",
   "metadata": {},
   "outputs": [],
   "source": []
  }
 ],
 "metadata": {
  "kernelspec": {
   "display_name": "Python 3 (ipykernel)",
   "language": "python",
   "name": "python3"
  },
  "language_info": {
   "codemirror_mode": {
    "name": "ipython",
    "version": 3
   },
   "file_extension": ".py",
   "mimetype": "text/x-python",
   "name": "python",
   "nbconvert_exporter": "python",
   "pygments_lexer": "ipython3",
   "version": "3.9.13"
  }
 },
 "nbformat": 4,
 "nbformat_minor": 5
}
