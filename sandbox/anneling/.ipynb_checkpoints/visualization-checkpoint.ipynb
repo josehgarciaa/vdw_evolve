{
 "cells": [
  {
   "cell_type": "code",
   "execution_count": 1,
   "id": "bb31d1b6",
   "metadata": {
    "scrolled": true
   },
   "outputs": [],
   "source": [
    "import numpy as np\n",
    "import matplotlib.pyplot as plt\n",
    "import matplotlib as mpl\n",
    "\n",
    "from anneling_one import Annealing1"
   ]
  },
  {
   "cell_type": "code",
   "execution_count": 2,
   "id": "caafd178",
   "metadata": {},
   "outputs": [],
   "source": [
    "def function_a(x):\n",
    "    x=x[0]\n",
    "    return x*x+3*x-5+np.sqrt(np.sqrt(x**2))+5*np.sin(x-5)*2*x\n",
    "\n",
    "def rgb_from_x(x):\n",
    "    return (np.sqrt((1-(function_a(x)/max_Y)*(function_a(x)/max_Y))**2),0.5, (function_a(x)/max_Y)*(function_a(x)/max_Y))\n",
    "\n",
    "a = 50\n",
    "X =[i for i in range(-a,a)]\n",
    "Y =[function_a([x]) for x in X]\n",
    "max_Y=max(Y)"
   ]
  },
  {
   "cell_type": "code",
   "execution_count": 3,
   "id": "4c92bb48",
   "metadata": {},
   "outputs": [],
   "source": [
    "# Experiment settings\n",
    "\n",
    "#Hyperparameters of the model\n",
    "model_par = {\n",
    "    \n",
    "    'initialTemp': 5, \n",
    "    'finalTemp': 1,\n",
    "\n",
    "    'beta': 5,\n",
    "    'bounds': [[-a,a]],\n",
    "\n",
    "    'nr_neighbours': 5,\n",
    "    'step_size': 4,\n",
    "    'gaussian_sd':5\n",
    "    \n",
    "}\n",
    "\n",
    "#\n",
    "input_size = 1 # since our function has one variable this is a trivial scenario.\n",
    "start_point = [5]\n",
    "\n",
    "# Experiment\n",
    "experiment = Annealing1(function_a ,start_point, model_par)"
   ]
  },
  {
   "cell_type": "code",
   "execution_count": 4,
   "id": "c9aa1563",
   "metadata": {},
   "outputs": [
    {
     "name": "stdout",
     "output_type": "stream",
     "text": [
      "!!\n",
      "f\n"
     ]
    },
    {
     "ename": "TypeError",
     "evalue": "'int' object is not subscriptable",
     "output_type": "error",
     "traceback": [
      "\u001b[1;31m---------------------------------------------------------------------------\u001b[0m",
      "\u001b[1;31mTypeError\u001b[0m                                 Traceback (most recent call last)",
      "Cell \u001b[1;32mIn [4], line 2\u001b[0m\n\u001b[0;32m      1\u001b[0m epochs\u001b[38;5;241m=\u001b[39m\u001b[38;5;241m10\u001b[39m\n\u001b[1;32m----> 2\u001b[0m history_book \u001b[38;5;241m=\u001b[39m \u001b[43mexperiment\u001b[49m\u001b[38;5;241;43m.\u001b[39;49m\u001b[43mevolve\u001b[49m\u001b[43m(\u001b[49m\u001b[43m \u001b[49m\u001b[43mepochs\u001b[49m\u001b[43m,\u001b[49m\u001b[43m \u001b[49m\u001b[43mprints_p\u001b[49m\u001b[38;5;241;43m=\u001b[39;49m\u001b[38;5;241;43m5\u001b[39;49m\u001b[43m)\u001b[49m\n\u001b[0;32m      3\u001b[0m \u001b[38;5;28mprint\u001b[39m(history_book)\n",
      "File \u001b[1;32m~\\OneDrive\\Documents\\GitHub\\vdw_evolve\\sandbox\\anneling\\anneling_one.py:54\u001b[0m, in \u001b[0;36mAnnealing1.evolve\u001b[1;34m(self, epochs, prints_p)\u001b[0m\n\u001b[0;32m     50\u001b[0m \u001b[38;5;28;01mfor\u001b[39;00m epoch \u001b[38;5;129;01min\u001b[39;00m \u001b[38;5;28mrange\u001b[39m(epochs):\n\u001b[0;32m     51\u001b[0m \n\u001b[0;32m     52\u001b[0m     \u001b[38;5;66;03m# generate neighbours\u001b[39;00m\n\u001b[0;32m     53\u001b[0m     \u001b[38;5;28mprint\u001b[39m(\u001b[38;5;124m\"\u001b[39m\u001b[38;5;124m!!\u001b[39m\u001b[38;5;124m\"\u001b[39m)\n\u001b[1;32m---> 54\u001b[0m     neighbours \u001b[38;5;241m=\u001b[39m \u001b[38;5;28;43mself\u001b[39;49m\u001b[38;5;241;43m.\u001b[39;49m\u001b[43mget_neighbours\u001b[49m\u001b[43m(\u001b[49m\u001b[43m)\u001b[49m\n\u001b[0;32m     56\u001b[0m     \u001b[38;5;66;03m# neighbour picking\u001b[39;00m\n\u001b[0;32m     57\u001b[0m     new_solution \u001b[38;5;241m=\u001b[39m np\u001b[38;5;241m.\u001b[39mrandom\u001b[38;5;241m.\u001b[39mchoice(neighbours)\n",
      "File \u001b[1;32m~\\OneDrive\\Documents\\GitHub\\vdw_evolve\\sandbox\\anneling\\anneling_one.py:37\u001b[0m, in \u001b[0;36mAnnealing1.get_neighbours\u001b[1;34m(self)\u001b[0m\n\u001b[0;32m     35\u001b[0m \u001b[38;5;28;01mfor\u001b[39;00m p_in \u001b[38;5;129;01min\u001b[39;00m \u001b[38;5;28mrange\u001b[39m(\u001b[38;5;28mself\u001b[39m\u001b[38;5;241m.\u001b[39mnr_parameters):\n\u001b[0;32m     36\u001b[0m     p \u001b[38;5;241m=\u001b[39m \u001b[38;5;28mself\u001b[39m\u001b[38;5;241m.\u001b[39mactual_solution[p_in] \u001b[38;5;241m+\u001b[39m \u001b[38;5;28mself\u001b[39m\u001b[38;5;241m.\u001b[39mmodel_par[\u001b[38;5;124m\"\u001b[39m\u001b[38;5;124mstep_size\u001b[39m\u001b[38;5;124m\"\u001b[39m]  \u001b[38;5;66;03m# maybe heare i could add the gradient\u001b[39;00m\n\u001b[1;32m---> 37\u001b[0m     p \u001b[38;5;241m=\u001b[39m \u001b[38;5;28mself\u001b[39m\u001b[38;5;241m.\u001b[39mg_distribution(p, \u001b[38;5;28;43mself\u001b[39;49m\u001b[38;5;241;43m.\u001b[39;49m\u001b[43mbounds\u001b[49m\u001b[43m[\u001b[49m\u001b[43mp_in\u001b[49m\u001b[43m]\u001b[49m)\n\u001b[0;32m     38\u001b[0m     p \u001b[38;5;241m=\u001b[39m \u001b[38;5;28mround\u001b[39m(p)\n\u001b[0;32m     40\u001b[0m     neighbour\u001b[38;5;241m.\u001b[39mappend(p)\n",
      "\u001b[1;31mTypeError\u001b[0m: 'int' object is not subscriptable"
     ]
    }
   ],
   "source": [
    "epochs=10\n",
    "history_book = experiment.evolve( epochs, prints_p=5)\n",
    "print(history_book)"
   ]
  },
  {
   "cell_type": "code",
   "execution_count": null,
   "id": "2ce03e6f",
   "metadata": {},
   "outputs": [],
   "source": [
    "plt.plot(X,Y)"
   ]
  },
  {
   "cell_type": "code",
   "execution_count": null,
   "id": "8c388cba",
   "metadata": {},
   "outputs": [],
   "source": []
  }
 ],
 "metadata": {
  "kernelspec": {
   "display_name": "Python 3 (ipykernel)",
   "language": "python",
   "name": "python3"
  },
  "language_info": {
   "codemirror_mode": {
    "name": "ipython",
    "version": 3
   },
   "file_extension": ".py",
   "mimetype": "text/x-python",
   "name": "python",
   "nbconvert_exporter": "python",
   "pygments_lexer": "ipython3",
   "version": "3.9.13"
  }
 },
 "nbformat": 4,
 "nbformat_minor": 5
}
