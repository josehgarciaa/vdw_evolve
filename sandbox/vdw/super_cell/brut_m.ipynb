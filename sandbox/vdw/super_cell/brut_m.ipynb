{
 "cells": [
  {
   "cell_type": "code",
   "execution_count": 1,
   "id": "3713979d",
   "metadata": {},
   "outputs": [],
   "source": [
    "import numpy as np "
   ]
  },
  {
   "cell_type": "code",
   "execution_count": null,
   "id": "f814c6c3",
   "metadata": {},
   "outputs": [],
   "source": []
  },
  {
   "cell_type": "code",
   "execution_count": 36,
   "id": "967aad06",
   "metadata": {},
   "outputs": [
    {
     "data": {
      "text/plain": [
       "(array([2, 3]), array([5, 1]))"
      ]
     },
     "execution_count": 36,
     "metadata": {},
     "output_type": "execute_result"
    }
   ],
   "source": [
    "a1 = [2,3]; a2=[5,1]\n",
    "A  = np.transpose([a1,a2])\n",
    "\n",
    "theta =  np.pi/4\n",
    "R = [ [ np.cos(theta), -np.sin(theta)], [ np.sin(theta),  np.cos(theta)] ]\n",
    "\n",
    "b1 = np.sqrt(2)*np.dot(R,a1);  b2 = a2#np.sqrt(2)*np.dot(R,a2) #a2\n",
    "#b1 = [np.sqrt(2),0]; b2=[0,np.sqrt(2)]\n",
    "B  = np.transpose([b1,b2])\n",
    "\n",
    "\n",
    "cel1 = np.array(A)\n",
    "cel2 = np.array(B)\n",
    "\n",
    "c1 = (cel1[:,0],cel1[:,1])\n",
    "c1"
   ]
  },
  {
   "cell_type": "code",
   "execution_count": 59,
   "id": "40a82fa1",
   "metadata": {},
   "outputs": [
    {
     "name": "stdout",
     "output_type": "stream",
     "text": [
      "[272 109]\n"
     ]
    }
   ],
   "source": [
    "v= [9,1]\n",
    "cv1= np.dot(v, c1[0])\n",
    "cv2 = np.dot(v, c1[1])\n",
    "print(cv1*c1[0]+cv2*c1[1])"
   ]
  },
  {
   "cell_type": "code",
   "execution_count": 50,
   "id": "8f6f688b",
   "metadata": {},
   "outputs": [
    {
     "name": "stdout",
     "output_type": "stream",
     "text": [
      "0.0\n"
     ]
    },
    {
     "data": {
      "text/plain": [
       "True"
      ]
     },
     "execution_count": 50,
     "metadata": {},
     "output_type": "execute_result"
    }
   ],
   "source": [
    "def paralel_check(v1,v2, trash_hold=0.00001):\n",
    "\n",
    "    t_prod = np.cross(v1,v2)\n",
    "    ar_2 = np.linalg.norm(t_prod)**2\n",
    "\n",
    "    if ar_2<trash_hold:\n",
    "        return True\n",
    "    else:\n",
    "        return False\n",
    "    \n",
    "paralel_check(c1[0],c1[0], trash_hold=0.00001)"
   ]
  },
  {
   "cell_type": "code",
   "execution_count": null,
   "id": "4002bb3d",
   "metadata": {},
   "outputs": [],
   "source": [
    "def point_in_cell(c, point):\n",
    "    \n",
    "    distance_to_close = 0\n",
    "    s1 = \n",
    "    s2 =\n",
    "    \n",
    "    c_p = round(s1)*c[1]+round(s2)*c[2]\n",
    "    distance_to_close = np.sqrt((c_p[0]-point[0])**2+(c_p[1]-point[1])**2)\n",
    "    \n",
    "    return distance_to_close"
   ]
  },
  {
   "cell_type": "code",
   "execution_count": null,
   "id": "ef37dcf8",
   "metadata": {},
   "outputs": [],
   "source": [
    "def get_match(cel1, cel2, exploring_range=10, tolerance=0.05, paralel_limit=0.00001):\n",
    "    c1 = (cel1[:,0],cel1[:,1])\n",
    "    c2 = (cel2[:,0],cel2[:,1])\n",
    "    \n",
    "    candidates = [ ] # it can be done without list but for the beggining I preffer to keep it \n",
    "                     # in order to get a better view of the data\n",
    "        \n",
    "    for i in range(-exploring_range, exploring_range):\n",
    "        for j in range(-exploring_range, exploring_range):\n",
    "            point2 = i*c2[0]+j*c2[1]\n",
    "            \n",
    "            in_c1 = point_in_cell(cell1, point2)\n",
    "            \n",
    "            if in_c1<= tolerance:\n",
    "                candidates.append([[i*c2[0],j*c2[1]],in_c1,i*c2[0]**2+j*c2[1]**2 ])\n",
    "                                  \n",
    "     \n",
    "    close = candidates[:][1].index(candidates[:][1])\n",
    "    min_v = candidates[0][0]\n",
    "    solution = [candidates[close]]\n",
    "    candidates = candidates.pop(close)\n",
    "    \n",
    "    while len(solution<==2):\n",
    "        close = candidates[:][1].index(candidates[:][1])\n",
    "        min_v = candidates[0][0]\n",
    "        if paralel_check(v1,v2,trash_hold=paralel_limit) ==False:\n",
    "            solution.append(candidates[close])\n",
    "        candidates = candidates.pop(close)\n",
    "        \n",
    "    return solution\n",
    "    "
   ]
  },
  {
   "cell_type": "code",
   "execution_count": 57,
   "id": "e5fe58e8",
   "metadata": {},
   "outputs": [
    {
     "data": {
      "text/plain": [
       "16"
      ]
     },
     "execution_count": 57,
     "metadata": {},
     "output_type": "execute_result"
    }
   ],
   "source": [
    "solution = get_match(cel1, cel2,)\n"
   ]
  },
  {
   "cell_type": "code",
   "execution_count": 48,
   "id": "117ca02e",
   "metadata": {},
   "outputs": [
    {
     "name": "stdout",
     "output_type": "stream",
     "text": [
      "[1, 2, 3]\n",
      "[4, 5, 6]\n",
      "t_p [-3  6 -3]\n",
      "54.0\n"
     ]
    },
    {
     "data": {
      "text/plain": [
       "False"
      ]
     },
     "execution_count": 48,
     "metadata": {},
     "output_type": "execute_result"
    }
   ],
   "source": []
  },
  {
   "cell_type": "code",
   "execution_count": null,
   "id": "b6255294",
   "metadata": {},
   "outputs": [],
   "source": [
    "\n",
    "    \n",
    "    "
   ]
  }
 ],
 "metadata": {
  "kernelspec": {
   "display_name": "Python 3 (ipykernel)",
   "language": "python",
   "name": "python3"
  },
  "language_info": {
   "codemirror_mode": {
    "name": "ipython",
    "version": 3
   },
   "file_extension": ".py",
   "mimetype": "text/x-python",
   "name": "python",
   "nbconvert_exporter": "python",
   "pygments_lexer": "ipython3",
   "version": "3.9.13"
  }
 },
 "nbformat": 4,
 "nbformat_minor": 5
}
