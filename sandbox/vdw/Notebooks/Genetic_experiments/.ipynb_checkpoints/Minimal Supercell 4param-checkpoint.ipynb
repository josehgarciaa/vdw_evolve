{
 "cells": [
  {
   "cell_type": "code",
   "execution_count": 3,
   "id": "8d995984",
   "metadata": {},
   "outputs": [],
   "source": [
    "import numpy as np\n",
    "from numpy.linalg import det ,inv\n",
    "import matplotlib.pyplot as plt\n",
    "from matplotlib import cm\n",
    "from matplotlib.ticker import LinearLocator\n",
    "\n",
    "import sys\n",
    "# setting path\n",
    "sys.path.append('/Users/voicutu/Documents/GitHub/vdw_evolve/sandbox/vdw')\n",
    "from genetic import Gen1\n",
    "\n",
    "import random\n",
    "random.seed(99)"
   ]
  },
  {
   "cell_type": "code",
   "execution_count": null,
   "id": "ad3f3337",
   "metadata": {},
   "outputs": [],
   "source": [
    "a1 = [1,0]; a2=[0,1];\n",
    "A  = np.transpose([a1,a2]);\n",
    "\n",
    "theta =  np.pi/4;\n",
    "R = [ [ np.cos(theta), -np.sin(theta)], [ np.sin(theta),  np.cos(theta)] ];\n",
    "\n",
    "b1 = np.sqrt(2)*np.dot(R,a1);  b2 = a2 #np.sqrt(2)*np.dot(R,a2);\n",
    "B  = np.transpose([b1,b2]);\n",
    "\n",
    "a = A#np.array([[0,1],[1,0]])\n",
    "b = B#np.array([[0,5],[5,0]])"
   ]
  },
  {
   "cell_type": "code",
   "execution_count": null,
   "id": "039561b1",
   "metadata": {},
   "outputs": [],
   "source": [
    "\n",
    "eps = 0.0001\n",
    "\n",
    "bond=20\n",
    "\n",
    "def tAtB(params):\n",
    "    tA = np.array([[params[0],params[1]],\n",
    "                   [params[2],params[3]]])\n",
    "    \n",
    "    tB = np.dot(np.dot(tA,a), inv(b)) # tAa=tBb\n",
    "    \n",
    "    return tA, tB\n",
    "          \n",
    "def fit_fucntion(params):\n",
    "          \n",
    "        tA, tB= tAtB(params)\n",
    "        tAa= np.dot(tA,a)\n",
    "        tBb= np.dot(tB,b)\n",
    "        \n",
    "        # main condition\n",
    "        zero_mat= tAa - tBb\n",
    "        s=0\n",
    "        for row in zero_mat:\n",
    "            for e in row:\n",
    "                s+=e*e\n",
    "        \n",
    "        # mimimum TA\n",
    "        detTAa= det(tAa)*det(tAa) # minimum but biger than 0\n",
    "        detTBb= det(tBb)*det(tBb)\n",
    "        \n",
    "        # TB integer \n",
    "        cons =9999999\n",
    "        tB_con = 0  \n",
    "        for row in tB:\n",
    "            for e in row:\n",
    "                tB_con += ((round(e)-e))*((round(e)-e)) # e*e\n",
    "        tB_con = tB_con*cons\n",
    "        \n",
    "        \n",
    "        f =  1/detTAa + tB_con**2 # s + (2-detTAa)*(2-detTAa)*10 + 1/detTAa + tB_con+1/detTBb # since we are working with integer the smallest pos det is 1\n",
    "        \n",
    "        return f"
   ]
  },
  {
   "cell_type": "code",
   "execution_count": null,
   "id": "879cdffc",
   "metadata": {},
   "outputs": [],
   "source": [
    "# Experiment settings\n",
    "\n",
    "#Hyperparameters of the model\n",
    "model_par = {\n",
    "    \n",
    "    'cell_split_number': 4, \n",
    "    'subjects_in_cell': 3,\n",
    "\n",
    "    'nr_clones': 10,\n",
    "    'mutation_gaussian_sd': 4,\n",
    "\n",
    "    'pins': 7,\n",
    "    'gene_quality': 1,\n",
    "    \n",
    "}\n",
    "\n",
    "\n",
    "\n",
    "\n",
    "input_size = 4 # P=[tA00,tA01,tA10,tA11]\n",
    "\n",
    "bounds =[[-bond,bond]for _ in range(input_size)] # searching intervals for the solution\n",
    "\n",
    "# Experiment\n",
    "experiment = Gen1(fit_fucntion ,input_size, bounds, model_par)"
   ]
  },
  {
   "cell_type": "code",
   "execution_count": null,
   "id": "64e5724e",
   "metadata": {},
   "outputs": [],
   "source": [
    "## Automate evolution\n",
    "\n",
    "nr_epochs = 100\n",
    "last_generation = experiment.evolve(nr_epochs)\n",
    "fit = [fit_fucntion(x) for x in last_generation] \n",
    "print(\"fit:\",fit)\n"
   ]
  },
  {
   "cell_type": "code",
   "execution_count": null,
   "id": "051d04cf",
   "metadata": {},
   "outputs": [],
   "source": [
    "best =last_generation [fit.index(min(fit))]\n",
    "print(best)"
   ]
  },
  {
   "cell_type": "code",
   "execution_count": null,
   "id": "bf54a4b2",
   "metadata": {},
   "outputs": [],
   "source": [
    "P = best #[1, 1, 0, 1]#[2, 0, 0, -1]#[0, -1, -1, 0]#[-1, 1, 0, 1]\n",
    "tA,tB = tAtB(P)\n",
    "zero_mat= np.dot(tA,a) - np.dot(tB,b)\n",
    "print(\"\\n _____\\n tA:\\n\",tA)\n",
    "print(\"det:\",det(tA))\n",
    "print(\"\\n _____\\n tB:\\n\",tB)\n",
    "print(\"det:\",det(tB))\n",
    "print(\"\\n zero_mat:\\n\",zero_mat)"
   ]
  },
  {
   "cell_type": "code",
   "execution_count": null,
   "id": "9d6b8e5c",
   "metadata": {},
   "outputs": [],
   "source": []
  },
  {
   "cell_type": "code",
   "execution_count": null,
   "id": "16550d3d",
   "metadata": {},
   "outputs": [],
   "source": []
  }
 ],
 "metadata": {
  "kernelspec": {
   "display_name": "Python 3 (ipykernel)",
   "language": "python",
   "name": "python3"
  },
  "language_info": {
   "codemirror_mode": {
    "name": "ipython",
    "version": 3
   },
   "file_extension": ".py",
   "mimetype": "text/x-python",
   "name": "python",
   "nbconvert_exporter": "python",
   "pygments_lexer": "ipython3",
   "version": "3.9.13"
  }
 },
 "nbformat": 4,
 "nbformat_minor": 5
}
