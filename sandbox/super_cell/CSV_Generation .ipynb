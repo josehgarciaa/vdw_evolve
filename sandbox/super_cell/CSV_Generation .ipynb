{
 "cells": [
  {
   "cell_type": "code",
   "execution_count": 1,
   "id": "1f9041d4",
   "metadata": {},
   "outputs": [],
   "source": [
    "import wget\n",
    "import os.path\n",
    "import json\n",
    "\n",
    "\n",
    "import numpy as np\n",
    "from numpy.linalg import det, inv\n",
    "from numpy import array\n",
    "import random\n",
    "\n",
    "import ase.db\n",
    "import pandas as pd\n",
    "\n",
    "import matplotlib.pyplot as plt"
   ]
  },
  {
   "cell_type": "code",
   "execution_count": 2,
   "id": "d28b1295",
   "metadata": {},
   "outputs": [],
   "source": [
    "from gradient_super_cell import super_cell\n",
    "from data_import import get_lattice_from_structure, extract_structure, get_data_as_pd"
   ]
  },
  {
   "cell_type": "code",
   "execution_count": 3,
   "id": "ba5248d4",
   "metadata": {},
   "outputs": [],
   "source": [
    "DATA_PATH = \"database\"\n",
    "database_name1 = \"c2db-20211702.db\"\n",
    "database_name2 = \"c2db-20211702.db\"\n"
   ]
  },
  {
   "cell_type": "code",
   "execution_count": 4,
   "id": "da45aa21",
   "metadata": {},
   "outputs": [
    {
     "name": "stdout",
     "output_type": "stream",
     "text": [
      "rows <generator object Database.select at 0x7fcb339122e0>\n",
      "The number of elements is: 5\n",
      "Empty DataFrame\n",
      "Columns: [formula, uid]\n",
      "Index: []\n"
     ]
    }
   ],
   "source": [
    "path = DATA_PATH+database_name1\n",
    "\n",
    "options = 'is_magnetic=True, thermodynamic_stability_level=3'\n",
    "props = [\"formula\",\"spgnum\", \"spacegroup\",\"uid\",\"asr_id\"] \n",
    "\n",
    "raw_df_1 = get_data_as_pd(path,options,props)\n",
    "raw_df_1 = raw_df_1[ (raw_df_1[\"spacegroup\"]!='P1') & (raw_df_1[\"spacegroup\"]!='Pc')& (raw_df_1[\"spacegroup\"]!='P-1') ];\n",
    "\n",
    "#Print\n",
    "print(\"The number of elements is:\",len(list(raw_df_1)) )\n",
    "print( raw_df_1[[\"formula\",\"uid\"]] )"
   ]
  },
  {
   "cell_type": "code",
   "execution_count": 5,
   "id": "ceaa224e",
   "metadata": {},
   "outputs": [
    {
     "name": "stdout",
     "output_type": "stream",
     "text": [
      "rows <generator object Database.select at 0x7fcb33912270>\n",
      "The number of elements is: 5\n",
      "Empty DataFrame\n",
      "Columns: [formula, uid, gap]\n",
      "Index: []\n"
     ]
    }
   ],
   "source": [
    "path = DATA_PATH+database_name2\n",
    "\n",
    "options = 'thermodynamic_stability_level=3'\n",
    "props = [\"formula\",\"spgnum\", \"spacegroup\",\"gap\",\"uid\"] \n",
    "\n",
    "raw_df_2 = get_data_as_pd(path,options,props)\n",
    "raw_df_2 = raw_df_2[ (raw_df_2[\"gap\"]<=10e-3)& (raw_df_2[\"spacegroup\"]!='P1') & (raw_df_2[\"spacegroup\"]!='Pc')& (raw_df_2[\"spacegroup\"]!='P-1') ];\n",
    "\n",
    "\n",
    "#Print\n",
    "print(\"The number of elements is:\",len(list(raw_df_2)) )\n",
    "print( raw_df_2[[\"formula\",\"uid\",\"gap\"]] )"
   ]
  },
  {
   "cell_type": "code",
   "execution_count": 6,
   "id": "c67ee009",
   "metadata": {},
   "outputs": [
    {
     "name": "stdout",
     "output_type": "stream",
     "text": [
      "extract_data1:\n",
      "Series([], Name: uid, dtype: object)\n",
      "extract_data2:\n"
     ]
    }
   ],
   "source": [
    "print(\"extract_data1:\")\n",
    "print(raw_df_1[\"uid\"][:1])\n",
    "extract_structure(raw_df_1[\"uid\"])\n",
    "print(\"extract_data2:\")\n",
    "extract_structure(raw_df_1[\"uid\"])"
   ]
  },
  {
   "cell_type": "code",
   "execution_count": 7,
   "id": "ce1e2ffe",
   "metadata": {},
   "outputs": [],
   "source": [
    "#f = \"/Users/voicutu/Documents/GitHub/vdw_evolve/sandbox/XYZcolection/c2db-822.xyz\"\n",
    "\n",
    "def get_lattice_from_structure(f):\n",
    "    with open(f, 'r') as file:\n",
    "        json_data= json.load(file)\n",
    "    mytype= \"__ndarray__\";\n",
    "    datastruc=json_data['1'][\"cell\"][\"array\"];\n",
    "    if mytype in datastruc:\n",
    "        shape= datastruc[mytype][0]\n",
    "        dtype= datastruc[mytype][1]\n",
    "        lattice = array(datastruc[mytype][2],dtype=dtype).reshape(shape)\n",
    "    return lattice \n"
   ]
  },
  {
   "cell_type": "code",
   "execution_count": null,
   "id": "f7dd6f4c",
   "metadata": {},
   "outputs": [],
   "source": []
  },
  {
   "cell_type": "code",
   "execution_count": 8,
   "id": "f787e49d",
   "metadata": {},
   "outputs": [],
   "source": [
    "# Model hyperparameters\n",
    "\n",
    "up = 99999999\n",
    "bond =30\n",
    "model_par = {\n",
    "    \n",
    "    'initialTemp': 4, \n",
    "    'finalTemp': 0.0002,\n",
    "\n",
    "    'beta': 10,\n",
    "    'bounds': [[-bond,bond] for _ in range(4)],\n",
    "\n",
    "    'nr_neighbours': 1,\n",
    "    'step_size': 3,\n",
    "    'gaussian_sd':3,\n",
    "    \n",
    "    'gradient_influence':0.45,\n",
    "    'delta_p': 0.2,\n",
    "    'g_step_size':7,\n",
    "    'step_size': 2,\n",
    "    \n",
    "    'known_min': -up,\n",
    "    \"start_point\":[1,5,3,2],\n",
    "    \n",
    "    \"strain_boundary\":[[-0.5,0.5],[-0.5,0.5]]#[[-0.3e-14,0.3e-14],[-0.3e-14,0.3e-14]]#[[-0.3,0.3],[-0.3,0.3]]\n",
    "}\n",
    "\n"
   ]
  },
  {
   "cell_type": "code",
   "execution_count": 9,
   "id": "e522878d",
   "metadata": {},
   "outputs": [],
   "source": [
    "solutions = {\"uid_1\":[], \"uid_2\":[],\"new_uid\":[],\n",
    "             \"mat_1\":[], \"mat_2\":[],\n",
    "             \n",
    "             \n",
    "             \"tA\":[],    \"tB\":[],\n",
    "             \"s_cell\":[],   \n",
    "             \"t_cel2_no_strain\":[], \"diagonal_strain\":[], \"strain\":[]\n",
    "                  }\n"
   ]
  },
  {
   "cell_type": "code",
   "execution_count": 10,
   "id": "ac7143c4",
   "metadata": {},
   "outputs": [
    {
     "data": {
      "text/plain": [
       "0"
      ]
     },
     "execution_count": 10,
     "metadata": {},
     "output_type": "execute_result"
    }
   ],
   "source": [
    "len(raw_df_1[\"uid\"])"
   ]
  },
  {
   "cell_type": "code",
   "execution_count": 11,
   "id": "a1058d24",
   "metadata": {},
   "outputs": [
    {
     "ename": "IndexError",
     "evalue": "single positional indexer is out-of-bounds",
     "output_type": "error",
     "traceback": [
      "\u001b[0;31m---------------------------------------------------------------------------\u001b[0m",
      "\u001b[0;31mIndexError\u001b[0m                                Traceback (most recent call last)",
      "Cell \u001b[0;32mIn [11], line 6\u001b[0m\n\u001b[1;32m      3\u001b[0m to_be_generated \u001b[38;5;241m=\u001b[39m \u001b[38;5;241m10\u001b[39m\n\u001b[1;32m      4\u001b[0m \u001b[38;5;28;01mwhile\u001b[39;00m to_be_generated\u001b[38;5;241m!=\u001b[39m\u001b[38;5;241m0\u001b[39m:\n\u001b[0;32m----> 6\u001b[0m     data1\u001b[38;5;241m=\u001b[39m \u001b[43mraw_df_1\u001b[49m\u001b[38;5;241;43m.\u001b[39;49m\u001b[43miloc\u001b[49m\u001b[43m[\u001b[49m\u001b[43mrandom\u001b[49m\u001b[38;5;241;43m.\u001b[39;49m\u001b[43mrandint\u001b[49m\u001b[43m(\u001b[49m\u001b[38;5;241;43m0\u001b[39;49m\u001b[43m,\u001b[49m\u001b[38;5;28;43mlen\u001b[39;49m\u001b[43m(\u001b[49m\u001b[43mraw_df_1\u001b[49m\u001b[43m[\u001b[49m\u001b[38;5;124;43m\"\u001b[39;49m\u001b[38;5;124;43muid\u001b[39;49m\u001b[38;5;124;43m\"\u001b[39;49m\u001b[43m]\u001b[49m\u001b[43m)\u001b[49m\u001b[43m)\u001b[49m\u001b[43m]\u001b[49m\n\u001b[1;32m      7\u001b[0m     data2\u001b[38;5;241m=\u001b[39m raw_df_1\u001b[38;5;241m.\u001b[39miloc[random\u001b[38;5;241m.\u001b[39mrandint(\u001b[38;5;241m0\u001b[39m,\u001b[38;5;28mlen\u001b[39m(raw_df_2[\u001b[38;5;124m\"\u001b[39m\u001b[38;5;124muid\u001b[39m\u001b[38;5;124m\"\u001b[39m]))]\n\u001b[1;32m      8\u001b[0m     uid_1 \u001b[38;5;241m=\u001b[39m data1[\u001b[38;5;124m\"\u001b[39m\u001b[38;5;124muid\u001b[39m\u001b[38;5;124m\"\u001b[39m]\n",
      "File \u001b[0;32m~/.local/lib/python3.9/site-packages/pandas/core/indexing.py:967\u001b[0m, in \u001b[0;36m_LocationIndexer.__getitem__\u001b[0;34m(self, key)\u001b[0m\n\u001b[1;32m    964\u001b[0m axis \u001b[38;5;241m=\u001b[39m \u001b[38;5;28mself\u001b[39m\u001b[38;5;241m.\u001b[39maxis \u001b[38;5;129;01mor\u001b[39;00m \u001b[38;5;241m0\u001b[39m\n\u001b[1;32m    966\u001b[0m maybe_callable \u001b[38;5;241m=\u001b[39m com\u001b[38;5;241m.\u001b[39mapply_if_callable(key, \u001b[38;5;28mself\u001b[39m\u001b[38;5;241m.\u001b[39mobj)\n\u001b[0;32m--> 967\u001b[0m \u001b[38;5;28;01mreturn\u001b[39;00m \u001b[38;5;28;43mself\u001b[39;49m\u001b[38;5;241;43m.\u001b[39;49m\u001b[43m_getitem_axis\u001b[49m\u001b[43m(\u001b[49m\u001b[43mmaybe_callable\u001b[49m\u001b[43m,\u001b[49m\u001b[43m \u001b[49m\u001b[43maxis\u001b[49m\u001b[38;5;241;43m=\u001b[39;49m\u001b[43maxis\u001b[49m\u001b[43m)\u001b[49m\n",
      "File \u001b[0;32m~/.local/lib/python3.9/site-packages/pandas/core/indexing.py:1520\u001b[0m, in \u001b[0;36m_iLocIndexer._getitem_axis\u001b[0;34m(self, key, axis)\u001b[0m\n\u001b[1;32m   1517\u001b[0m     \u001b[38;5;28;01mraise\u001b[39;00m \u001b[38;5;167;01mTypeError\u001b[39;00m(\u001b[38;5;124m\"\u001b[39m\u001b[38;5;124mCannot index by location index with a non-integer key\u001b[39m\u001b[38;5;124m\"\u001b[39m)\n\u001b[1;32m   1519\u001b[0m \u001b[38;5;66;03m# validate the location\u001b[39;00m\n\u001b[0;32m-> 1520\u001b[0m \u001b[38;5;28;43mself\u001b[39;49m\u001b[38;5;241;43m.\u001b[39;49m\u001b[43m_validate_integer\u001b[49m\u001b[43m(\u001b[49m\u001b[43mkey\u001b[49m\u001b[43m,\u001b[49m\u001b[43m \u001b[49m\u001b[43maxis\u001b[49m\u001b[43m)\u001b[49m\n\u001b[1;32m   1522\u001b[0m \u001b[38;5;28;01mreturn\u001b[39;00m \u001b[38;5;28mself\u001b[39m\u001b[38;5;241m.\u001b[39mobj\u001b[38;5;241m.\u001b[39m_ixs(key, axis\u001b[38;5;241m=\u001b[39maxis)\n",
      "File \u001b[0;32m~/.local/lib/python3.9/site-packages/pandas/core/indexing.py:1452\u001b[0m, in \u001b[0;36m_iLocIndexer._validate_integer\u001b[0;34m(self, key, axis)\u001b[0m\n\u001b[1;32m   1450\u001b[0m len_axis \u001b[38;5;241m=\u001b[39m \u001b[38;5;28mlen\u001b[39m(\u001b[38;5;28mself\u001b[39m\u001b[38;5;241m.\u001b[39mobj\u001b[38;5;241m.\u001b[39m_get_axis(axis))\n\u001b[1;32m   1451\u001b[0m \u001b[38;5;28;01mif\u001b[39;00m key \u001b[38;5;241m>\u001b[39m\u001b[38;5;241m=\u001b[39m len_axis \u001b[38;5;129;01mor\u001b[39;00m key \u001b[38;5;241m<\u001b[39m \u001b[38;5;241m-\u001b[39mlen_axis:\n\u001b[0;32m-> 1452\u001b[0m     \u001b[38;5;28;01mraise\u001b[39;00m \u001b[38;5;167;01mIndexError\u001b[39;00m(\u001b[38;5;124m\"\u001b[39m\u001b[38;5;124msingle positional indexer is out-of-bounds\u001b[39m\u001b[38;5;124m\"\u001b[39m)\n",
      "\u001b[0;31mIndexError\u001b[0m: single positional indexer is out-of-bounds"
     ]
    }
   ],
   "source": [
    "structure_path = \"/Users/voicutu/Documents/GitHub/vdw_evolve/sandbox/STRUCTUREScolection\"\n",
    "saving_spot = 5\n",
    "to_be_generated = 10\n",
    "while to_be_generated!=0:\n",
    "    \n",
    "    data1= raw_df_1.iloc[random.randint(0,len(raw_df_1[\"uid\"]))]\n",
    "    data2= raw_df_1.iloc[random.randint(0,len(raw_df_2[\"uid\"]))]\n",
    "    uid_1 = data1[\"uid\"]\n",
    "    uid_2 = data2[\"uid\"]\n",
    "    \n",
    "    new_uid =uid_1+\"_\"+uid_2\n",
    "    \n",
    "    if new_uid not in solutions[\"new_uid\"]:\n",
    "        to_be_generated = to_be_generated-1\n",
    "        \n",
    "        solutions[\"new_uid\"].append(new_uid)\n",
    "        solutions[\"uid_1\"].append(uid_1)\n",
    "        solutions[\"uid_2\"].append(uid_2)\n",
    "        \n",
    "        # calculate the super cel \n",
    "        \n",
    "        # xyz path \n",
    "        path1=structure_path+\"/\"+uid_1+\".json\"\n",
    "        path2=structure_path+\"/\"+uid_2+\".json\"\n",
    "        \n",
    "\n",
    "        \n",
    "        # lattices\n",
    "        latice1 = get_lattice_from_structure(path1)\n",
    "        latice2 = get_lattice_from_structure(path2)\n",
    "\n",
    "\n",
    "        cel1 = np.array([[latice1[0][0], latice1[1][0]],\n",
    "                [latice1[0][1], latice1[1][1]]])\n",
    "\n",
    "        cel2 = np.array([[latice2[0][0], latice2[1][0]],\n",
    "                [latice2[0][1], latice2[1][1]]])\n",
    "\n",
    "        tA, tB, t_cel2_no_strain, diagonal_strain, strain = super_cell(cel1,cel2, 10, model_par)\n",
    "\n",
    "        s_cell= np.dot(tA,cel1)\n",
    "        zero = np.dot(tA,cel1)-np.dot(np.dot(strain,tB),cel2)\n",
    "                         \n",
    "        \n",
    "        solutions[\"tA\"].append(tA)\n",
    "        solutions[\"tB\"].append(tB)\n",
    "        solutions[\"s_cell\"].append(s_cell)\n",
    "        solutions[\"t_cel2_no_strain\"].append(t_cel2_no_strain)\n",
    "        solutions[\"diagonal_strain\"].append(diagonal_strain)\n",
    "        solutions[\"strain\"].append(diagonal_strain)\n",
    "    \n",
    "    # save\n",
    "    if k%saving_spot==0:\n",
    "        data = pd.DataFrame.from_dict(solutions)\n",
    "        data.to_csv(\"SuperCell_\"+str(len(solutions[\"new\"])))\n",
    "\n",
    "print(\"Done\")"
   ]
  },
  {
   "cell_type": "code",
   "execution_count": null,
   "id": "6bf2958f",
   "metadata": {},
   "outputs": [],
   "source": []
  }
 ],
 "metadata": {
  "kernelspec": {
   "display_name": "Python 3 (ipykernel)",
   "language": "python",
   "name": "python3"
  },
  "language_info": {
   "codemirror_mode": {
    "name": "ipython",
    "version": 3
   },
   "file_extension": ".py",
   "mimetype": "text/x-python",
   "name": "python",
   "nbconvert_exporter": "python",
   "pygments_lexer": "ipython3",
   "version": "3.9.13"
  }
 },
 "nbformat": 4,
 "nbformat_minor": 5
}
