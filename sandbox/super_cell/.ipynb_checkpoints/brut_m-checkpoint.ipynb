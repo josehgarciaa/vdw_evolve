{
 "cells": [
  {
   "cell_type": "code",
   "execution_count": 1,
   "id": "90704d79",
   "metadata": {},
   "outputs": [],
   "source": [
    "import numpy as np "
   ]
  },
  {
   "cell_type": "code",
   "execution_count": null,
   "id": "99fe698e",
   "metadata": {},
   "outputs": [],
   "source": []
  },
  {
   "cell_type": "code",
   "execution_count": 36,
   "id": "54440f58",
   "metadata": {},
   "outputs": [
    {
     "data": {
      "text/plain": [
       "(array([2, 3]), array([5, 1]))"
      ]
     },
     "execution_count": 36,
     "metadata": {},
     "output_type": "execute_result"
    }
   ],
   "source": [
    "a1 = [2,3]; a2=[5,1]\n",
    "A  = np.transpose([a1,a2])\n",
    "\n",
    "theta =  np.pi/4\n",
    "R = [ [ np.cos(theta), -np.sin(theta)], [ np.sin(theta),  np.cos(theta)] ]\n",
    "\n",
    "b1 = np.sqrt(2)*np.dot(R,a1);  b2 = a2#np.sqrt(2)*np.dot(R,a2) #a2\n",
    "#b1 = [np.sqrt(2),0]; b2=[0,np.sqrt(2)]\n",
    "B  = np.transpose([b1,b2])\n",
    "\n",
    "\n",
    "cel1 = np.array(A)\n",
    "cel2 = np.array(B)\n",
    "\n",
    "c1 = (cel1[:,0],cel1[:,1])\n",
    "c1"
   ]
  },
  {
   "cell_type": "code",
   "execution_count": 50,
   "id": "dccfb23c",
   "metadata": {},
   "outputs": [
    {
     "name": "stdout",
     "output_type": "stream",
     "text": [
      "0.0\n"
     ]
    },
    {
     "data": {
      "text/plain": [
       "True"
      ]
     },
     "execution_count": 50,
     "metadata": {},
     "output_type": "execute_result"
    }
   ],
   "source": [
    "def paralel_check(v1,v2, trash_hold=0.00001):\n",
    "\n",
    "    t_prod = np.cross(v1,v2)\n",
    "    ar_2 = np.linalg.norm(t_prod)**2\n",
    "\n",
    "    if ar_2<trash_hold:\n",
    "        return True\n",
    "    else:\n",
    "        return False\n",
    "    \n",
    "paralel_check(c1[0],c1[0], trash_hold=0.00001)"
   ]
  },
  {
   "cell_type": "code",
   "execution_count": null,
   "id": "d6cce184",
   "metadata": {},
   "outputs": [],
   "source": [
    "def get_match(cel1, cel2, exploring_range=50 tolerance=0.05):\n",
    "    c1 = (cel1[:,0],cel1[:,1])\n",
    "    c2 = (cel2[:,0],cel2[:,1])\n",
    "    \n",
    "    candidates = [ ] # it can be done without list but for the beggining I preffer to keep it \n",
    "                     # in order to get a better view of the data\n",
    "    \n",
    "    "
   ]
  },
  {
   "cell_type": "code",
   "execution_count": 57,
   "id": "cf352741",
   "metadata": {},
   "outputs": [
    {
     "data": {
      "text/plain": [
       "16"
      ]
     },
     "execution_count": 57,
     "metadata": {},
     "output_type": "execute_result"
    }
   ],
   "source": [
    "x = [1, 2]\n",
    "y = [4, 6]\n",
    "np.dot(x, y)"
   ]
  },
  {
   "cell_type": "code",
   "execution_count": 48,
   "id": "e85b0c25",
   "metadata": {},
   "outputs": [
    {
     "name": "stdout",
     "output_type": "stream",
     "text": [
      "[1, 2, 3]\n",
      "[4, 5, 6]\n",
      "t_p [-3  6 -3]\n",
      "54.0\n"
     ]
    },
    {
     "data": {
      "text/plain": [
       "False"
      ]
     },
     "execution_count": 48,
     "metadata": {},
     "output_type": "execute_result"
    }
   ],
   "source": [
    "paralel_check(v1=x,v2=y, trash_hold=0.00001)"
   ]
  },
  {
   "cell_type": "code",
   "execution_count": null,
   "id": "8a83a505",
   "metadata": {},
   "outputs": [],
   "source": [
    "def get_match(cel1, cel2,tolerance=0.05):\n",
    "    c1 = (cel1[:,0],cel1[:,1])\n",
    "    c2 = (cel2[:,0],cel2[:,1])\n",
    "    \n",
    "    "
   ]
  }
 ],
 "metadata": {
  "kernelspec": {
   "display_name": "Python 3 (ipykernel)",
   "language": "python",
   "name": "python3"
  },
  "language_info": {
   "codemirror_mode": {
    "name": "ipython",
    "version": 3
   },
   "file_extension": ".py",
   "mimetype": "text/x-python",
   "name": "python",
   "nbconvert_exporter": "python",
   "pygments_lexer": "ipython3",
   "version": "3.9.13"
  }
 },
 "nbformat": 4,
 "nbformat_minor": 5
}
