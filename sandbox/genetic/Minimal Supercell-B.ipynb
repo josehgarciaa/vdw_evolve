{
 "cells": [
  {
   "cell_type": "code",
   "execution_count": 1,
   "id": "8d995984",
   "metadata": {},
   "outputs": [],
   "source": [
    "import numpy as np\n",
    "from numpy.linalg import det ,inv\n",
    "import matplotlib.pyplot as plt\n",
    "from matplotlib import cm\n",
    "from matplotlib.ticker import LinearLocator\n",
    "from genetic_one import Gen1"
   ]
  },
  {
   "cell_type": "code",
   "execution_count": 2,
   "id": "039561b1",
   "metadata": {},
   "outputs": [],
   "source": [
    "a = np.array([[0,1],[1,0]])\n",
    "b = np.array([[0,5],[5,0]])\n",
    "eps = 0.0001\n",
    "\n",
    "bond=10\n",
    "\n",
    "def tAtB(params):\n",
    "    tA = np.array([[parmas[0],params[1]],\n",
    "                   [parmas[2],params[3]]])\n",
    "    \n",
    "    tB = np.dot(np.dot(tA,a), inv(b)) # tAa=tBb\n",
    "    \n",
    "    return tA, tB\n",
    "          \n",
    "def fit_fucntion(params):\n",
    "          \n",
    "        tA, tB= tAtB(params)\n",
    "        tAa= np.dot(tA,a)\n",
    "        \n",
    "        # main condition\n",
    "        zero_mat= tAa - np.dot(tB,b)\n",
    "        s=0\n",
    "        for row in zero_mat:\n",
    "            for e in row:\n",
    "                s+=e*e\n",
    "        \n",
    "        # mimimum TA\n",
    "        detTAa= det(tAa)*det(tAa) # minimum but biger than 0\n",
    "        \n",
    "        # TB integer \n",
    "        cons =100\n",
    "        tB_con = 0  \n",
    "        for row in tB:\n",
    "            for e in row:\n",
    "                tB_con += e*e\n",
    "        tB_con = tB_con*cons\n",
    "        \n",
    "        f = zero_mat + detTAa - eps + tB_con"
   ]
  },
  {
   "cell_type": "code",
   "execution_count": 3,
   "id": "879cdffc",
   "metadata": {},
   "outputs": [],
   "source": [
    "# Experiment settings\n",
    "\n",
    "#Hyperparameters of the model\n",
    "model_par = {\n",
    "    \n",
    "    'cell_split_number': 2, \n",
    "    'subjects_in_cell': 3,\n",
    "\n",
    "    'nr_clones': 10,\n",
    "    'mutation_gaussian_sd': 4,\n",
    "\n",
    "    'pins': 7,\n",
    "    'gene_quality': 1,\n",
    "    \n",
    "}\n",
    "\n",
    "\n",
    "\n",
    "\n",
    "input_size = 4 # P=[tA00,tA01,tA10,tA11,tB00,tB01,tB10,tB11]\n",
    "\n",
    "bounds =[[-bond,bond]for _ in range(input_size)] # searching intervals for the solution\n",
    "\n",
    "# Experiment\n",
    "experiment = Gen1(fit_fucntion ,input_size, bounds, model_par)"
   ]
  },
  {
   "cell_type": "code",
   "execution_count": 4,
   "id": "64e5724e",
   "metadata": {},
   "outputs": [
    {
     "name": "stdout",
     "output_type": "stream",
     "text": [
      "Epochs 0/10\n"
     ]
    },
    {
     "ename": "KeyboardInterrupt",
     "evalue": "",
     "output_type": "error",
     "traceback": [
      "\u001b[0;31m---------------------------------------------------------------------------\u001b[0m",
      "\u001b[0;31mKeyboardInterrupt\u001b[0m                         Traceback (most recent call last)",
      "Cell \u001b[0;32mIn [4], line 4\u001b[0m\n\u001b[1;32m      1\u001b[0m \u001b[38;5;66;03m## Automate evolution\u001b[39;00m\n\u001b[1;32m      3\u001b[0m nr_epochs \u001b[38;5;241m=\u001b[39m \u001b[38;5;241m10\u001b[39m\n\u001b[0;32m----> 4\u001b[0m last_generation \u001b[38;5;241m=\u001b[39m \u001b[43mexperiment\u001b[49m\u001b[38;5;241;43m.\u001b[39;49m\u001b[43mevolve\u001b[49m\u001b[43m(\u001b[49m\u001b[43mnr_epochs\u001b[49m\u001b[43m)\u001b[49m\n\u001b[1;32m      5\u001b[0m fit \u001b[38;5;241m=\u001b[39m [function_a(x) \u001b[38;5;28;01mfor\u001b[39;00m x \u001b[38;5;129;01min\u001b[39;00m last_generation] \n\u001b[1;32m      6\u001b[0m \u001b[38;5;28mprint\u001b[39m(\u001b[38;5;124m\"\u001b[39m\u001b[38;5;124mfit:\u001b[39m\u001b[38;5;124m\"\u001b[39m,fit)\n",
      "File \u001b[0;32m~/Documents/GitHub/vdw_evolve/sandbox/genetic/genetic_one.py:218\u001b[0m, in \u001b[0;36mGen1.evolve\u001b[0;34m(self, nr_epochs, condition, initial_generation, history)\u001b[0m\n\u001b[1;32m    216\u001b[0m \u001b[38;5;66;03m# mutate\u001b[39;00m\n\u001b[1;32m    217\u001b[0m gen_0 \u001b[38;5;241m=\u001b[39m \u001b[38;5;28mself\u001b[39m\u001b[38;5;241m.\u001b[39mactual_generation\n\u001b[0;32m--> 218\u001b[0m clone_family \u001b[38;5;241m=\u001b[39m \u001b[38;5;28;43mself\u001b[39;49m\u001b[38;5;241;43m.\u001b[39;49m\u001b[43mmitosis\u001b[49m\u001b[43m(\u001b[49m\u001b[43m)\u001b[49m\n\u001b[1;32m    219\u001b[0m \u001b[38;5;66;03m# kill\u001b[39;00m\n\u001b[1;32m    220\u001b[0m generation, performances \u001b[38;5;241m=\u001b[39m \u001b[38;5;28mself\u001b[39m\u001b[38;5;241m.\u001b[39mkill(clone_family)\n",
      "File \u001b[0;32m~/Documents/GitHub/vdw_evolve/sandbox/genetic/genetic_one.py:113\u001b[0m, in \u001b[0;36mGen1.mitosis\u001b[0;34m(self)\u001b[0m\n\u001b[1;32m    110\u001b[0m \u001b[38;5;28;01mfor\u001b[39;00m i, feature \u001b[38;5;129;01min\u001b[39;00m \u001b[38;5;28menumerate\u001b[39m(subject):\n\u001b[1;32m    111\u001b[0m     \u001b[38;5;66;03m# mutation\u001b[39;00m\n\u001b[1;32m    112\u001b[0m     bound \u001b[38;5;241m=\u001b[39m \u001b[38;5;28mself\u001b[39m\u001b[38;5;241m.\u001b[39minput_ranges[i]\n\u001b[0;32m--> 113\u001b[0m     mutation \u001b[38;5;241m=\u001b[39m \u001b[38;5;28;43mself\u001b[39;49m\u001b[38;5;241;43m.\u001b[39;49m\u001b[43mmutation\u001b[49m\u001b[43m(\u001b[49m\u001b[43mc_value\u001b[49m\u001b[38;5;241;43m=\u001b[39;49m\u001b[43mfeature\u001b[49m\u001b[43m,\u001b[49m\u001b[43m \u001b[49m\u001b[43mbounds\u001b[49m\u001b[38;5;241;43m=\u001b[39;49m\u001b[43mbound\u001b[49m\u001b[43m)\u001b[49m\n\u001b[1;32m    114\u001b[0m     clone\u001b[38;5;241m.\u001b[39mappend(mutation)\n\u001b[1;32m    116\u001b[0m family\u001b[38;5;241m.\u001b[39mappend(clone)\n",
      "File \u001b[0;32m~/Documents/GitHub/vdw_evolve/sandbox/genetic/genetic_one.py:272\u001b[0m, in \u001b[0;36mGen1.mutation\u001b[0;34m(self, c_value, bounds)\u001b[0m\n\u001b[1;32m    270\u001b[0m upp \u001b[38;5;241m=\u001b[39m bounds[\u001b[38;5;241m1\u001b[39m]\n\u001b[1;32m    271\u001b[0m sd \u001b[38;5;241m=\u001b[39m \u001b[38;5;28mself\u001b[39m\u001b[38;5;241m.\u001b[39mmodel_par[\u001b[38;5;124m'\u001b[39m\u001b[38;5;124mmutation_gaussian_sd\u001b[39m\u001b[38;5;124m'\u001b[39m]\n\u001b[0;32m--> 272\u001b[0m trunc_norm \u001b[38;5;241m=\u001b[39m \u001b[43mtruncnorm\u001b[49m\u001b[43m(\u001b[49m\u001b[43m(\u001b[49m\u001b[43mlow\u001b[49m\u001b[43m \u001b[49m\u001b[38;5;241;43m-\u001b[39;49m\u001b[43m \u001b[49m\u001b[43mmean\u001b[49m\u001b[43m)\u001b[49m\u001b[43m \u001b[49m\u001b[38;5;241;43m/\u001b[39;49m\u001b[43m \u001b[49m\u001b[43msd\u001b[49m\u001b[43m,\u001b[49m\u001b[43m \u001b[49m\u001b[43m(\u001b[49m\u001b[43mupp\u001b[49m\u001b[43m \u001b[49m\u001b[38;5;241;43m-\u001b[39;49m\u001b[43m \u001b[49m\u001b[43mmean\u001b[49m\u001b[43m)\u001b[49m\u001b[43m \u001b[49m\u001b[38;5;241;43m/\u001b[39;49m\u001b[43m \u001b[49m\u001b[43msd\u001b[49m\u001b[43m,\u001b[49m\u001b[43m \u001b[49m\u001b[43mloc\u001b[49m\u001b[38;5;241;43m=\u001b[39;49m\u001b[43mmean\u001b[49m\u001b[43m,\u001b[49m\u001b[43m \u001b[49m\u001b[43mscale\u001b[49m\u001b[38;5;241;43m=\u001b[39;49m\u001b[43msd\u001b[49m\u001b[43m)\u001b[49m\u001b[38;5;241m.\u001b[39mrvs()\n\u001b[1;32m    273\u001b[0m \u001b[38;5;28;01mreturn\u001b[39;00m \u001b[38;5;28mround\u001b[39m(trunc_norm)\n",
      "File \u001b[0;32m~/.local/lib/python3.9/site-packages/scipy/stats/_distn_infrastructure.py:866\u001b[0m, in \u001b[0;36mrv_generic.__call__\u001b[0;34m(self, *args, **kwds)\u001b[0m\n\u001b[1;32m    865\u001b[0m \u001b[38;5;28;01mdef\u001b[39;00m \u001b[38;5;21m__call__\u001b[39m(\u001b[38;5;28mself\u001b[39m, \u001b[38;5;241m*\u001b[39margs, \u001b[38;5;241m*\u001b[39m\u001b[38;5;241m*\u001b[39mkwds):\n\u001b[0;32m--> 866\u001b[0m     \u001b[38;5;28;01mreturn\u001b[39;00m \u001b[38;5;28;43mself\u001b[39;49m\u001b[38;5;241;43m.\u001b[39;49m\u001b[43mfreeze\u001b[49m\u001b[43m(\u001b[49m\u001b[38;5;241;43m*\u001b[39;49m\u001b[43margs\u001b[49m\u001b[43m,\u001b[49m\u001b[43m \u001b[49m\u001b[38;5;241;43m*\u001b[39;49m\u001b[38;5;241;43m*\u001b[39;49m\u001b[43mkwds\u001b[49m\u001b[43m)\u001b[49m\n",
      "File \u001b[0;32m~/.local/lib/python3.9/site-packages/scipy/stats/_distn_infrastructure.py:863\u001b[0m, in \u001b[0;36mrv_generic.freeze\u001b[0;34m(self, *args, **kwds)\u001b[0m\n\u001b[1;32m    848\u001b[0m \u001b[38;5;28;01mdef\u001b[39;00m \u001b[38;5;21mfreeze\u001b[39m(\u001b[38;5;28mself\u001b[39m, \u001b[38;5;241m*\u001b[39margs, \u001b[38;5;241m*\u001b[39m\u001b[38;5;241m*\u001b[39mkwds):\n\u001b[1;32m    849\u001b[0m     \u001b[38;5;124;03m\"\"\"Freeze the distribution for the given arguments.\u001b[39;00m\n\u001b[1;32m    850\u001b[0m \n\u001b[1;32m    851\u001b[0m \u001b[38;5;124;03m    Parameters\u001b[39;00m\n\u001b[0;32m   (...)\u001b[0m\n\u001b[1;32m    861\u001b[0m \n\u001b[1;32m    862\u001b[0m \u001b[38;5;124;03m    \"\"\"\u001b[39;00m\n\u001b[0;32m--> 863\u001b[0m     \u001b[38;5;28;01mreturn\u001b[39;00m \u001b[43mrv_frozen\u001b[49m\u001b[43m(\u001b[49m\u001b[38;5;28;43mself\u001b[39;49m\u001b[43m,\u001b[49m\u001b[43m \u001b[49m\u001b[38;5;241;43m*\u001b[39;49m\u001b[43margs\u001b[49m\u001b[43m,\u001b[49m\u001b[43m \u001b[49m\u001b[38;5;241;43m*\u001b[39;49m\u001b[38;5;241;43m*\u001b[39;49m\u001b[43mkwds\u001b[49m\u001b[43m)\u001b[49m\n",
      "File \u001b[0;32m~/.local/lib/python3.9/site-packages/scipy/stats/_distn_infrastructure.py:439\u001b[0m, in \u001b[0;36mrv_frozen.__init__\u001b[0;34m(self, dist, *args, **kwds)\u001b[0m\n\u001b[1;32m    436\u001b[0m \u001b[38;5;28mself\u001b[39m\u001b[38;5;241m.\u001b[39mkwds \u001b[38;5;241m=\u001b[39m kwds\n\u001b[1;32m    438\u001b[0m \u001b[38;5;66;03m# create a new instance\u001b[39;00m\n\u001b[0;32m--> 439\u001b[0m \u001b[38;5;28mself\u001b[39m\u001b[38;5;241m.\u001b[39mdist \u001b[38;5;241m=\u001b[39m \u001b[43mdist\u001b[49m\u001b[38;5;241;43m.\u001b[39;49m\u001b[38;5;18;43m__class__\u001b[39;49m\u001b[43m(\u001b[49m\u001b[38;5;241;43m*\u001b[39;49m\u001b[38;5;241;43m*\u001b[39;49m\u001b[43mdist\u001b[49m\u001b[38;5;241;43m.\u001b[39;49m\u001b[43m_updated_ctor_param\u001b[49m\u001b[43m(\u001b[49m\u001b[43m)\u001b[49m\u001b[43m)\u001b[49m\n\u001b[1;32m    441\u001b[0m shapes, _, _ \u001b[38;5;241m=\u001b[39m \u001b[38;5;28mself\u001b[39m\u001b[38;5;241m.\u001b[39mdist\u001b[38;5;241m.\u001b[39m_parse_args(\u001b[38;5;241m*\u001b[39margs, \u001b[38;5;241m*\u001b[39m\u001b[38;5;241m*\u001b[39mkwds)\n\u001b[1;32m    442\u001b[0m \u001b[38;5;28mself\u001b[39m\u001b[38;5;241m.\u001b[39ma, \u001b[38;5;28mself\u001b[39m\u001b[38;5;241m.\u001b[39mb \u001b[38;5;241m=\u001b[39m \u001b[38;5;28mself\u001b[39m\u001b[38;5;241m.\u001b[39mdist\u001b[38;5;241m.\u001b[39m_get_support(\u001b[38;5;241m*\u001b[39mshapes)\n",
      "File \u001b[0;32m~/.local/lib/python3.9/site-packages/scipy/stats/_distn_infrastructure.py:1773\u001b[0m, in \u001b[0;36mrv_continuous.__init__\u001b[0;34m(self, momtype, a, b, xtol, badvalue, name, longname, shapes, extradoc, seed)\u001b[0m\n\u001b[1;32m   1771\u001b[0m \u001b[38;5;28;01melse\u001b[39;00m:\n\u001b[1;32m   1772\u001b[0m     dct \u001b[38;5;241m=\u001b[39m \u001b[38;5;28mdict\u001b[39m(distcont)\n\u001b[0;32m-> 1773\u001b[0m     \u001b[38;5;28;43mself\u001b[39;49m\u001b[38;5;241;43m.\u001b[39;49m\u001b[43m_construct_doc\u001b[49m\u001b[43m(\u001b[49m\u001b[43mdocdict\u001b[49m\u001b[43m,\u001b[49m\u001b[43m \u001b[49m\u001b[43mdct\u001b[49m\u001b[38;5;241;43m.\u001b[39;49m\u001b[43mget\u001b[49m\u001b[43m(\u001b[49m\u001b[38;5;28;43mself\u001b[39;49m\u001b[38;5;241;43m.\u001b[39;49m\u001b[43mname\u001b[49m\u001b[43m)\u001b[49m\u001b[43m)\u001b[49m\n",
      "File \u001b[0;32m~/.local/lib/python3.9/site-packages/scipy/stats/_distn_infrastructure.py:825\u001b[0m, in \u001b[0;36mrv_generic._construct_doc\u001b[0;34m(self, docdict, shapes_vals)\u001b[0m\n\u001b[1;32m    823\u001b[0m     \u001b[38;5;28mself\u001b[39m\u001b[38;5;241m.\u001b[39m\u001b[38;5;18m__doc__\u001b[39m \u001b[38;5;241m=\u001b[39m \u001b[38;5;28mself\u001b[39m\u001b[38;5;241m.\u001b[39m\u001b[38;5;18m__doc__\u001b[39m\u001b[38;5;241m.\u001b[39mreplace(\u001b[38;5;124m\"\u001b[39m\u001b[38;5;132;01m%(shapes)s\u001b[39;00m\u001b[38;5;124m, \u001b[39m\u001b[38;5;124m\"\u001b[39m, \u001b[38;5;124m\"\u001b[39m\u001b[38;5;124m\"\u001b[39m)\n\u001b[1;32m    824\u001b[0m \u001b[38;5;28;01mtry\u001b[39;00m:\n\u001b[0;32m--> 825\u001b[0m     \u001b[38;5;28mself\u001b[39m\u001b[38;5;241m.\u001b[39m\u001b[38;5;18m__doc__\u001b[39m \u001b[38;5;241m=\u001b[39m \u001b[43mdoccer\u001b[49m\u001b[38;5;241;43m.\u001b[39;49m\u001b[43mdocformat\u001b[49m\u001b[43m(\u001b[49m\u001b[38;5;28;43mself\u001b[39;49m\u001b[38;5;241;43m.\u001b[39;49m\u001b[38;5;18;43m__doc__\u001b[39;49m\u001b[43m,\u001b[49m\u001b[43m \u001b[49m\u001b[43mtempdict\u001b[49m\u001b[43m)\u001b[49m\n\u001b[1;32m    826\u001b[0m \u001b[38;5;28;01mexcept\u001b[39;00m \u001b[38;5;167;01mTypeError\u001b[39;00m \u001b[38;5;28;01mas\u001b[39;00m e:\n\u001b[1;32m    827\u001b[0m     \u001b[38;5;28;01mraise\u001b[39;00m \u001b[38;5;167;01mException\u001b[39;00m(\u001b[38;5;124m\"\u001b[39m\u001b[38;5;124mUnable to construct docstring for \u001b[39m\u001b[38;5;124m\"\u001b[39m\n\u001b[1;32m    828\u001b[0m                     \u001b[38;5;124m\"\u001b[39m\u001b[38;5;124mdistribution \u001b[39m\u001b[38;5;130;01m\\\"\u001b[39;00m\u001b[38;5;132;01m%s\u001b[39;00m\u001b[38;5;130;01m\\\"\u001b[39;00m\u001b[38;5;124m: \u001b[39m\u001b[38;5;132;01m%s\u001b[39;00m\u001b[38;5;124m\"\u001b[39m \u001b[38;5;241m%\u001b[39m\n\u001b[1;32m    829\u001b[0m                     (\u001b[38;5;28mself\u001b[39m\u001b[38;5;241m.\u001b[39mname, \u001b[38;5;28mrepr\u001b[39m(e))) \u001b[38;5;28;01mfrom\u001b[39;00m \u001b[38;5;21;01me\u001b[39;00m\n",
      "File \u001b[0;32m~/.local/lib/python3.9/site-packages/scipy/_lib/doccer.py:58\u001b[0m, in \u001b[0;36mdocformat\u001b[0;34m(docstring, docdict)\u001b[0m\n\u001b[1;32m     56\u001b[0m indented \u001b[38;5;241m=\u001b[39m {}\n\u001b[1;32m     57\u001b[0m \u001b[38;5;28;01mfor\u001b[39;00m name, dstr \u001b[38;5;129;01min\u001b[39;00m docdict\u001b[38;5;241m.\u001b[39mitems():\n\u001b[0;32m---> 58\u001b[0m     lines \u001b[38;5;241m=\u001b[39m \u001b[43mdstr\u001b[49m\u001b[38;5;241;43m.\u001b[39;49m\u001b[43mexpandtabs\u001b[49m()\u001b[38;5;241m.\u001b[39msplitlines()\n\u001b[1;32m     59\u001b[0m     \u001b[38;5;28;01mtry\u001b[39;00m:\n\u001b[1;32m     60\u001b[0m         newlines \u001b[38;5;241m=\u001b[39m [lines[\u001b[38;5;241m0\u001b[39m]]\n",
      "\u001b[0;31mKeyboardInterrupt\u001b[0m: "
     ]
    }
   ],
   "source": [
    "## Automate evolution\n",
    "\n",
    "nr_epochs = 10\n",
    "last_generation = experiment.evolve(nr_epochs)\n",
    "fit = [function_a(x) for x in last_generation] \n",
    "print(\"fit:\",fit)\n"
   ]
  },
  {
   "cell_type": "code",
   "execution_count": null,
   "id": "bf54a4b2",
   "metadata": {},
   "outputs": [],
   "source": []
  },
  {
   "cell_type": "code",
   "execution_count": null,
   "id": "9d6b8e5c",
   "metadata": {},
   "outputs": [],
   "source": []
  }
 ],
 "metadata": {
  "kernelspec": {
   "display_name": "Python 3 (ipykernel)",
   "language": "python",
   "name": "python3"
  },
  "language_info": {
   "codemirror_mode": {
    "name": "ipython",
    "version": 3
   },
   "file_extension": ".py",
   "mimetype": "text/x-python",
   "name": "python",
   "nbconvert_exporter": "python",
   "pygments_lexer": "ipython3",
   "version": "3.9.13"
  }
 },
 "nbformat": 4,
 "nbformat_minor": 5
}
