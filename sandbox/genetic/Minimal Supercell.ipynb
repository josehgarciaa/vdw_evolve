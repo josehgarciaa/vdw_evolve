{
 "cells": [
  {
   "cell_type": "code",
   "execution_count": 1,
   "id": "8d995984",
   "metadata": {},
   "outputs": [],
   "source": [
    "import numpy as np\n",
    "from numpy.linalg import det\n",
    "import matplotlib.pyplot as plt\n",
    "from matplotlib import cm\n",
    "from matplotlib.ticker import LinearLocator\n",
    "from genetic_one import Gen1"
   ]
  },
  {
   "cell_type": "code",
   "execution_count": 2,
   "id": "11013bb0",
   "metadata": {},
   "outputs": [],
   "source": [
    "a = np.array([[0,1],[1,0]])\n",
    "b = np.array([[0,5],[5,0]])\n",
    "eps = 0.0001\n",
    "\n",
    "bond=10\n",
    "\n",
    "def tAtB(params):\n",
    "    tA = np.array([[params[0],params[1]],\n",
    "                   [params[2],params[3]]])\n",
    "    tB = np.array([[params[4],params[5]],\n",
    "                   [params[6],params[7]]])\n",
    "    return tA, tB\n",
    "          \n",
    "def fit_fucntion(params):\n",
    "          \n",
    "        tA, tB= tAtB(params)\n",
    "        tAa= np.dot(tA,a)\n",
    "        \n",
    "        zero_mat= tAa - np.dot(tB,b)\n",
    "        \n",
    "        s=0\n",
    "        for row in zero_mat:\n",
    "            for e in row:\n",
    "                s+=e*e\n",
    "        \n",
    "        detTAa= det(tAa)*det(tAa) # minimum but biger than 0\n",
    "        \n",
    "        f = zero_mat + detTAa - eps"
   ]
  },
  {
   "cell_type": "code",
   "execution_count": 3,
   "id": "879cdffc",
   "metadata": {},
   "outputs": [],
   "source": [
    "# Experiment settings\n",
    "\n",
    "#Hyperparameters of the model\n",
    "model_par = {\n",
    "    \n",
    "    'cell_split_number': 2, \n",
    "    'subjects_in_cell': 3,\n",
    "\n",
    "    'nr_clones': 10,\n",
    "    'mutation_gaussian_sd': 4,\n",
    "\n",
    "    'pins': 7,\n",
    "    'gene_quality': 1,\n",
    "    \n",
    "}\n",
    "\n",
    "\n",
    "\n",
    "\n",
    "input_size = 8 # P=[tA00,tA01,tA10,tA11,tB00,tB01,tB10,tB11]\n",
    "\n",
    "bounds =[[-bond,bond]for _ in range(input_size)] # searching intervals for the solution\n",
    "\n",
    "# Experiment\n",
    "experiment = Gen1(fit_fucntion ,input_size, bounds, model_par)"
   ]
  },
  {
   "cell_type": "code",
   "execution_count": 4,
   "id": "64e5724e",
   "metadata": {},
   "outputs": [
    {
     "name": "stdout",
     "output_type": "stream",
     "text": [
      "Epochs 0/10\n"
     ]
    },
    {
     "ename": "TypeError",
     "evalue": "bad operand type for unary -: 'NoneType'",
     "output_type": "error",
     "traceback": [
      "\u001b[0;31m---------------------------------------------------------------------------\u001b[0m",
      "\u001b[0;31mTypeError\u001b[0m                                 Traceback (most recent call last)",
      "Cell \u001b[0;32mIn [4], line 4\u001b[0m\n\u001b[1;32m      1\u001b[0m \u001b[38;5;66;03m## Automate evolution\u001b[39;00m\n\u001b[1;32m      3\u001b[0m nr_epochs \u001b[38;5;241m=\u001b[39m \u001b[38;5;241m10\u001b[39m\n\u001b[0;32m----> 4\u001b[0m last_generation \u001b[38;5;241m=\u001b[39m \u001b[43mexperiment\u001b[49m\u001b[38;5;241;43m.\u001b[39;49m\u001b[43mevolve\u001b[49m\u001b[43m(\u001b[49m\u001b[43mnr_epochs\u001b[49m\u001b[43m)\u001b[49m\n\u001b[1;32m      5\u001b[0m fit \u001b[38;5;241m=\u001b[39m [function_a(x) \u001b[38;5;28;01mfor\u001b[39;00m x \u001b[38;5;129;01min\u001b[39;00m last_generation] \n\u001b[1;32m      6\u001b[0m \u001b[38;5;28mprint\u001b[39m(\u001b[38;5;124m\"\u001b[39m\u001b[38;5;124mfit:\u001b[39m\u001b[38;5;124m\"\u001b[39m,fit)\n",
      "File \u001b[0;32m~/Documents/GitHub/vdw_evolve/sandbox/genetic/genetic_one.py:220\u001b[0m, in \u001b[0;36mGen1.evolve\u001b[0;34m(self, nr_epochs, condition, initial_generation, history)\u001b[0m\n\u001b[1;32m    218\u001b[0m clone_family \u001b[38;5;241m=\u001b[39m \u001b[38;5;28mself\u001b[39m\u001b[38;5;241m.\u001b[39mmitosis()\n\u001b[1;32m    219\u001b[0m \u001b[38;5;66;03m# kill\u001b[39;00m\n\u001b[0;32m--> 220\u001b[0m generation, performances \u001b[38;5;241m=\u001b[39m \u001b[38;5;28;43mself\u001b[39;49m\u001b[38;5;241;43m.\u001b[39;49m\u001b[43mkill\u001b[49m\u001b[43m(\u001b[49m\u001b[43mclone_family\u001b[49m\u001b[43m)\u001b[49m\n\u001b[1;32m    221\u001b[0m \u001b[38;5;66;03m# new born\u001b[39;00m\n\u001b[1;32m    222\u001b[0m new_generation \u001b[38;5;241m=\u001b[39m \u001b[38;5;28mself\u001b[39m\u001b[38;5;241m.\u001b[39mreproduction(generation, performances)\n",
      "File \u001b[0;32m~/Documents/GitHub/vdw_evolve/sandbox/genetic/genetic_one.py:133\u001b[0m, in \u001b[0;36mGen1.kill\u001b[0;34m(self, family_generation)\u001b[0m\n\u001b[1;32m    131\u001b[0m \u001b[38;5;28;01mfor\u001b[39;00m family \u001b[38;5;129;01min\u001b[39;00m family_generation:\n\u001b[1;32m    132\u001b[0m     champ \u001b[38;5;241m=\u001b[39m family[\u001b[38;5;241m0\u001b[39m]\n\u001b[0;32m--> 133\u001b[0m     champ_performance \u001b[38;5;241m=\u001b[39m \u001b[38;5;241;43m-\u001b[39;49m\u001b[38;5;28;43mself\u001b[39;49m\u001b[38;5;241;43m.\u001b[39;49m\u001b[43mev_function\u001b[49m\u001b[43m(\u001b[49m\u001b[43mfamily\u001b[49m\u001b[43m[\u001b[49m\u001b[38;5;241;43m0\u001b[39;49m\u001b[43m]\u001b[49m\u001b[43m)\u001b[49m\n\u001b[1;32m    134\u001b[0m     \u001b[38;5;28;01mfor\u001b[39;00m children_nr \u001b[38;5;129;01min\u001b[39;00m \u001b[38;5;28mrange\u001b[39m(\u001b[38;5;28mlen\u001b[39m(family)):\n\u001b[1;32m    135\u001b[0m         performance \u001b[38;5;241m=\u001b[39m \u001b[38;5;241m-\u001b[39m\u001b[38;5;28mself\u001b[39m\u001b[38;5;241m.\u001b[39mev_function(family[children_nr])\n",
      "\u001b[0;31mTypeError\u001b[0m: bad operand type for unary -: 'NoneType'"
     ]
    }
   ],
   "source": [
    "## Automate evolution\n",
    "\n",
    "nr_epochs = 10\n",
    "last_generation = experiment.evolve(nr_epochs)\n",
    "fit = [function_a(x) for x in last_generation] \n",
    "print(\"fit:\",fit)\n"
   ]
  },
  {
   "cell_type": "code",
   "execution_count": null,
   "id": "bf54a4b2",
   "metadata": {},
   "outputs": [],
   "source": []
  },
  {
   "cell_type": "code",
   "execution_count": null,
   "id": "9d6b8e5c",
   "metadata": {},
   "outputs": [],
   "source": []
  }
 ],
 "metadata": {
  "kernelspec": {
   "display_name": "Python 3 (ipykernel)",
   "language": "python",
   "name": "python3"
  },
  "language_info": {
   "codemirror_mode": {
    "name": "ipython",
    "version": 3
   },
   "file_extension": ".py",
   "mimetype": "text/x-python",
   "name": "python",
   "nbconvert_exporter": "python",
   "pygments_lexer": "ipython3",
   "version": "3.9.13"
  }
 },
 "nbformat": 4,
 "nbformat_minor": 5
}
