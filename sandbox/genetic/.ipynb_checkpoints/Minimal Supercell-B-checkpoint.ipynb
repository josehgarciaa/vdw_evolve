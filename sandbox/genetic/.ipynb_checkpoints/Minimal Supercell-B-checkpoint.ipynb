{
 "cells": [
  {
   "cell_type": "code",
   "execution_count": 1,
   "id": "8d995984",
   "metadata": {},
   "outputs": [],
   "source": [
    "import numpy as np\n",
    "from numpy.linalg import det ,inv\n",
    "import matplotlib.pyplot as plt\n",
    "from matplotlib import cm\n",
    "from matplotlib.ticker import LinearLocator\n",
    "from genetic_one import Gen1"
   ]
  },
  {
   "cell_type": "code",
   "execution_count": 2,
   "id": "039561b1",
   "metadata": {},
   "outputs": [],
   "source": [
    "a = np.array([[0,1],[1,0]])\n",
    "b = np.array([[0,5],[5,0]])\n",
    "eps = 0.0001\n",
    "\n",
    "bond=10\n",
    "\n",
    "def tAtB(params):\n",
    "    tA = np.array([[parmas[0],parms[1]],\n",
    "                   [parmas[2],parms[3]]])\n",
    "    \n",
    "    tB = np.dot(np.dot(tA,a), inv(b)) # tAa=tBb\n",
    "    \n",
    "    return tA, tB\n",
    "          \n",
    "def fit_fucntion(parmas):\n",
    "          \n",
    "        tA, tB= tAtB(params)\n",
    "        tAa= np.dot(tA,a)\n",
    "        \n",
    "        # main condition\n",
    "        zero_mat= tAa - np.dot(tB,b)\n",
    "        s=0\n",
    "        for row in zero_mat:\n",
    "            for e in row:\n",
    "                s+=e*e\n",
    "        \n",
    "        # mimimum TA\n",
    "        detTAa= det(tAa)*det(tAa) # minimum but biger than 0\n",
    "        \n",
    "        # TB integer \n",
    "        cons =100\n",
    "        tB_con = 0  \n",
    "        for row in tB:\n",
    "            for e in row:\n",
    "                tB_con += e*e\n",
    "        tB_con = tB_con*cons\n",
    "        \n",
    "        f = zero_mat + detTAa - eps + tB_con"
   ]
  },
  {
   "cell_type": "code",
   "execution_count": 3,
   "id": "879cdffc",
   "metadata": {},
   "outputs": [],
   "source": [
    "# Experiment settings\n",
    "\n",
    "#Hyperparameters of the model\n",
    "model_par = {\n",
    "    \n",
    "    'cell_split_number': 2, \n",
    "    'subjects_in_cell': 3,\n",
    "\n",
    "    'nr_clones': 10,\n",
    "    'mutation_gaussian_sd': 4,\n",
    "\n",
    "    'pins': 7,\n",
    "    'gene_quality': 1,\n",
    "    \n",
    "}\n",
    "\n",
    "\n",
    "\n",
    "\n",
    "input_size = 8 # P=[tA00,tA01,tA10,tA11,tB00,tB01,tB10,tB11]\n",
    "\n",
    "bounds =[[-bond,bond]for _ in range(input_size)] # searching intervals for the solution\n",
    "\n",
    "# Experiment\n",
    "experiment = Gen1(fit_fucntion ,input_size, bounds, model_par)"
   ]
  },
  {
   "cell_type": "code",
   "execution_count": null,
   "id": "64e5724e",
   "metadata": {},
   "outputs": [
    {
     "name": "stdout",
     "output_type": "stream",
     "text": [
      "Epochs 0/10\n"
     ]
    }
   ],
   "source": [
    "## Automate evolution\n",
    "\n",
    "nr_epochs = 10\n",
    "last_generation = experiment.evolve(nr_epochs)\n",
    "fit = [function_a(x) for x in last_generation] \n",
    "print(\"fit:\",fit)\n"
   ]
  },
  {
   "cell_type": "code",
   "execution_count": null,
   "id": "bf54a4b2",
   "metadata": {},
   "outputs": [],
   "source": []
  },
  {
   "cell_type": "code",
   "execution_count": null,
   "id": "9d6b8e5c",
   "metadata": {},
   "outputs": [],
   "source": []
  }
 ],
 "metadata": {
  "kernelspec": {
   "display_name": "Python 3 (ipykernel)",
   "language": "python",
   "name": "python3"
  },
  "language_info": {
   "codemirror_mode": {
    "name": "ipython",
    "version": 3
   },
   "file_extension": ".py",
   "mimetype": "text/x-python",
   "name": "python",
   "nbconvert_exporter": "python",
   "pygments_lexer": "ipython3",
   "version": "3.9.13"
  }
 },
 "nbformat": 4,
 "nbformat_minor": 5
}
