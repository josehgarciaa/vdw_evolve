{
 "cells": [
  {
   "cell_type": "code",
   "execution_count": 1,
   "id": "138b5798",
   "metadata": {},
   "outputs": [],
   "source": [
    "import numpy as np "
   ]
  },
  {
   "cell_type": "code",
   "execution_count": null,
   "id": "46aa9ea4",
   "metadata": {},
   "outputs": [],
   "source": []
  },
  {
   "cell_type": "code",
   "execution_count": null,
   "id": "3d31fdd4",
   "metadata": {},
   "outputs": [],
   "source": [
    "A= [[11,12],\n",
    "    [21,22]]\n",
    "B= [[11,12],\n",
    "    [21,22]]\n",
    "\n",
    "mod_a1= np.sqrt(A[0][0]*A[0][0]+A[1][0]*A[1][0])\n",
    "mod_a2= np.sqrt(A[0][1]*A[0][1]+A[1][1]*A[1][1])\n",
    "\n",
    "mod_b1= np.sqrt(B[0][0]*B[0][0]+B[1][0]*B[1][0])\n",
    "mod_b2= np.sqrt(B[0][1]*B[0][1]+B[1][1]*B[1][1])"
   ]
  },
  {
   "cell_type": "code",
   "execution_count": 6,
   "id": "a0e4913b",
   "metadata": {},
   "outputs": [],
   "source": [
    "def cmmmc(x,y):\n",
    "    a=x\n",
    "    b=y\n",
    "    while x!=y:\n",
    "        if x>y:\n",
    "            x=x-y\n",
    "        else:\n",
    "            y=y-x\n",
    "    return a*b/x"
   ]
  },
  {
   "cell_type": "code",
   "execution_count": 9,
   "id": "d0947f4e",
   "metadata": {},
   "outputs": [
    {
     "ename": "KeyboardInterrupt",
     "evalue": "",
     "output_type": "error",
     "traceback": [
      "\u001b[0;31m---------------------------------------------------------------------------\u001b[0m",
      "\u001b[0;31mKeyboardInterrupt\u001b[0m                         Traceback (most recent call last)",
      "Cell \u001b[0;32mIn [9], line 1\u001b[0m\n\u001b[0;32m----> 1\u001b[0m \u001b[43mcmmmc\u001b[49m\u001b[43m(\u001b[49m\u001b[38;5;241;43m5.2\u001b[39;49m\u001b[43m,\u001b[49m\u001b[38;5;241;43m2.2\u001b[39;49m\u001b[43m)\u001b[49m\n",
      "Cell \u001b[0;32mIn [6], line 4\u001b[0m, in \u001b[0;36mcmmmc\u001b[0;34m(x, y)\u001b[0m\n\u001b[1;32m      2\u001b[0m a\u001b[38;5;241m=\u001b[39mx\n\u001b[1;32m      3\u001b[0m b\u001b[38;5;241m=\u001b[39my\n\u001b[0;32m----> 4\u001b[0m \u001b[38;5;28;01mwhile\u001b[39;00m \u001b[43mx\u001b[49m\u001b[38;5;241;43m!=\u001b[39;49m\u001b[43my\u001b[49m:\n\u001b[1;32m      5\u001b[0m     \u001b[38;5;28;01mif\u001b[39;00m x\u001b[38;5;241m>\u001b[39my:\n\u001b[1;32m      6\u001b[0m         x\u001b[38;5;241m=\u001b[39mx\u001b[38;5;241m-\u001b[39my\n",
      "\u001b[0;31mKeyboardInterrupt\u001b[0m: "
     ]
    }
   ],
   "source": [
    "cmmmc(5.2,2.2)"
   ]
  },
  {
   "cell_type": "code",
   "execution_count": 5,
   "id": "e1a588b8",
   "metadata": {},
   "outputs": [
    {
     "data": {
      "text/plain": [
       "array([[ 1., -1.],\n",
       "       [ 1.,  1.]])"
      ]
     },
     "execution_count": 5,
     "metadata": {},
     "output_type": "execute_result"
    }
   ],
   "source": [
    "\n",
    "a1 = [1,0]; a2=[0,1];\n",
    "A  = np.transpose([a1,a2]);\n",
    "\n",
    "theta =  np.pi/4;\n",
    "R = [ [ np.cos(theta), -np.sin(theta)], [ np.sin(theta),  np.cos(theta)] ];\n",
    "\n",
    "b1 = np.sqrt(2)*np.dot(R,a1);  b2 = np.sqrt(2)*np.dot(R,a2);\n",
    "B  = np.transpose([b1,b2]);\n",
    "\n",
    "print(\"A:\\n\",A)\n",
    "print(\"B:\\n\",B)"
   ]
  },
  {
   "cell_type": "code",
   "execution_count": null,
   "id": "37e3eb63",
   "metadata": {},
   "outputs": [],
   "source": []
  }
 ],
 "metadata": {
  "kernelspec": {
   "display_name": "Python 3 (ipykernel)",
   "language": "python",
   "name": "python3"
  },
  "language_info": {
   "codemirror_mode": {
    "name": "ipython",
    "version": 3
   },
   "file_extension": ".py",
   "mimetype": "text/x-python",
   "name": "python",
   "nbconvert_exporter": "python",
   "pygments_lexer": "ipython3",
   "version": "3.9.13"
  }
 },
 "nbformat": 4,
 "nbformat_minor": 5
}
