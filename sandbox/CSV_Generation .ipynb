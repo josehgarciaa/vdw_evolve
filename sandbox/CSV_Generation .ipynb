{
 "cells": [
  {
   "cell_type": "code",
   "execution_count": 1,
   "id": "219b9de3",
   "metadata": {},
   "outputs": [],
   "source": [
    "import wget\n",
    "import os.path\n",
    "import json\n",
    "\n",
    "\n",
    "import numpy as np\n",
    "from numpy.linalg import det, inv\n",
    "from numpy import array\n",
    "import random\n",
    "\n",
    "import ase.db\n",
    "import pandas as pd\n",
    "\n",
    "import matplotlib.pyplot as plt"
   ]
  },
  {
   "cell_type": "code",
   "execution_count": 2,
   "id": "6a47fbcc",
   "metadata": {},
   "outputs": [],
   "source": [
    "from gradient_super_cell import super_cell\n",
    "from data_import import get_lattice_from_structure, extract_structure"
   ]
  },
  {
   "cell_type": "code",
   "execution_count": 3,
   "id": "1eb0c2eb",
   "metadata": {},
   "outputs": [],
   "source": [
    "DATA_PATH = \"database\"\n",
    "database_name1 = \"c2db-20211702.db\"\n",
    "database_name2 = \"c2db-20211702.db\"\n"
   ]
  },
  {
   "cell_type": "code",
   "execution_count": 4,
   "id": "4957363a",
   "metadata": {},
   "outputs": [],
   "source": [
    "def get_data_as_pd(path,options,props):\n",
    "    db = ase.db.connect(path)\n",
    "    rows = db.select(options)\n",
    "    data = [ [ x.get(p) for p in props ] for x in rows]\n",
    "    raw_df = pd.DataFrame( data, columns = props);\n",
    "    return raw_df \n"
   ]
  },
  {
   "cell_type": "code",
   "execution_count": 5,
   "id": "caef7a41",
   "metadata": {},
   "outputs": [
    {
     "name": "stdout",
     "output_type": "stream",
     "text": [
      "The number of elements is: 5\n",
      "Empty DataFrame\n",
      "Columns: [formula, uid]\n",
      "Index: []\n"
     ]
    }
   ],
   "source": [
    "path = DATA_PATH+database_name1\n",
    "\n",
    "options = 'is_magnetic=True, thermodynamic_stability_level=3'\n",
    "props = [\"formula\",\"spgnum\", \"spacegroup\",\"uid\",\"asr_id\"] \n",
    "\n",
    "raw_df_1 = get_data_as_pd(path,options,props)\n",
    "raw_df_1 = raw_df_1[ (raw_df_1[\"spacegroup\"]!='P1') & (raw_df_1[\"spacegroup\"]!='Pc')& (raw_df_1[\"spacegroup\"]!='P-1') ];\n",
    "\n",
    "\n",
    "#Print\n",
    "print(\"The number of elements is:\",len(list(raw_df_1)) )\n",
    "print( raw_df_1[[\"formula\",\"uid\"]] )"
   ]
  },
  {
   "cell_type": "code",
   "execution_count": 6,
   "id": "ad6ef8d5",
   "metadata": {},
   "outputs": [
    {
     "name": "stdout",
     "output_type": "stream",
     "text": [
      "The number of elements is: 5\n",
      "Empty DataFrame\n",
      "Columns: [formula, uid, gap]\n",
      "Index: []\n"
     ]
    }
   ],
   "source": [
    "path = DATA_PATH+database_name2\n",
    "\n",
    "options = 'thermodynamic_stability_level=3'\n",
    "props = [\"formula\",\"spgnum\", \"spacegroup\",\"gap\",\"uid\"] \n",
    "\n",
    "raw_df_2 = get_data_as_pd(path,options,props)\n",
    "raw_df_2 = raw_df_2[ (raw_df_2[\"gap\"]<=10e-3)& (raw_df_2[\"spacegroup\"]!='P1') & (raw_df_2[\"spacegroup\"]!='Pc')& (raw_df_2[\"spacegroup\"]!='P-1') ];\n",
    "\n",
    "\n",
    "#Print\n",
    "print(\"The number of elements is:\",len(list(raw_df_2)) )\n",
    "print( raw_df_2[[\"formula\",\"uid\",\"gap\"]] )"
   ]
  },
  {
   "cell_type": "code",
   "execution_count": 7,
   "id": "855a604a",
   "metadata": {},
   "outputs": [],
   "source": [
    "# get jsons \n",
    "def extract_json(uid_list,save_path =\"JSONcolection\"):\n",
    "    for uid in uid_list:\n",
    "        dataurl = 'https://cmrdb.fysik.dtu.dk/c2db/row/'+uid+'/all_data';\n",
    "        file = save_path+\"/\"+uid+\"_data.json\"\n",
    "        if os.path.isfile(file):\n",
    "            print(\"file: \",file, \"found\")\n",
    "        else:\n",
    "            print(wget.download(dataurl, out=\"./\"+save_path))\n",
    "\n",
    "def extract_structure(uid_list ,save_path=\"XYZcolection\"):\n",
    "    for uid in uid_list:\n",
    "        \n",
    "        #https://cmrdb.fysik.dtu.dk/c2db/row/N2O2V3-358facb64a22/data/structure.json\n",
    "        dataurl = 'https://cmrdb.fysik.dtu.dk/c2db/row/'+uid+'/data/structure.json';\n",
    "        print(dataurl)\n",
    "        file = save_path+\"/\"+uid+\".json\"\n",
    "        dw_path = save_path+\"/\"+\"structure.json\"\n",
    "        if os.path.isfile(file):\n",
    "            print(\"file: \",file, \"found\")\n",
    "        else:\n",
    "            print(wget.download(dataurl, out=\"./\"+save_path))\n",
    "            os.rename(dw_path, file)"
   ]
  },
  {
   "cell_type": "code",
   "execution_count": null,
   "id": "719fd6fe",
   "metadata": {},
   "outputs": [],
   "source": []
  },
  {
   "cell_type": "code",
   "execution_count": 8,
   "id": "875b7265",
   "metadata": {},
   "outputs": [
    {
     "name": "stdout",
     "output_type": "stream",
     "text": [
      "extract_data1:\n",
      "Series([], Name: uid, dtype: object)\n",
      "extract_data2:\n"
     ]
    }
   ],
   "source": [
    "print(\"extract_data1:\")\n",
    "print(raw_df_1[\"uid\"][:1])\n",
    "extract_structure(raw_df_1[\"uid\"][:10])\n",
    "print(\"extract_data2:\")\n",
    "extract_structure(raw_df_1[\"uid\"][:10])"
   ]
  },
  {
   "cell_type": "code",
   "execution_count": 9,
   "id": "4e581f9e",
   "metadata": {},
   "outputs": [],
   "source": [
    "#f = \"/Users/voicutu/Documents/GitHub/vdw_evolve/sandbox/XYZcolection/c2db-822.xyz\"\n",
    "\n",
    "def get_lattice_from_structure(f):\n",
    "    with open(f, 'r') as file:\n",
    "        json_data= json.load(file)\n",
    "    mytype= \"__ndarray__\";\n",
    "    datastruc=json_data['1'][\"cell\"][\"array\"];\n",
    "    if mytype in datastruc:\n",
    "        shape= datastruc[mytype][0]\n",
    "        dtype= datastruc[mytype][1]\n",
    "        lattice = array(datastruc[mytype][2],dtype=dtype).reshape(shape)\n",
    "    return lattice \n"
   ]
  },
  {
   "cell_type": "code",
   "execution_count": null,
   "id": "f97a36d9",
   "metadata": {},
   "outputs": [],
   "source": []
  },
  {
   "cell_type": "code",
   "execution_count": 10,
   "id": "363ceaad",
   "metadata": {},
   "outputs": [],
   "source": [
    "# Model hyperparameters\n",
    "\n",
    "up = 99999999\n",
    "bond =30\n",
    "model_par = {\n",
    "    \n",
    "    'initialTemp': 4, \n",
    "    'finalTemp': 0.0002,\n",
    "\n",
    "    'beta': 10,\n",
    "    'bounds': [[-bond,bond] for _ in range(4)],\n",
    "\n",
    "    'nr_neighbours': 1,\n",
    "    'step_size': 3,\n",
    "    'gaussian_sd':3,\n",
    "    \n",
    "    'gradient_influence':0.45,\n",
    "    'delta_p': 0.2,\n",
    "    'g_step_size':7,\n",
    "    'step_size': 2,\n",
    "    \n",
    "    'known_min': -up,\n",
    "    \"start_point\":[1,5,3,2],\n",
    "    \n",
    "    \"strain_boundary\":[[-0.5,0.5],[-0.5,0.5]]#[[-0.3e-14,0.3e-14],[-0.3e-14,0.3e-14]]#[[-0.3,0.3],[-0.3,0.3]]\n",
    "}\n",
    "\n"
   ]
  },
  {
   "cell_type": "code",
   "execution_count": 11,
   "id": "c69df66d",
   "metadata": {},
   "outputs": [],
   "source": [
    "solutions = {\"uid_1\":[], \"uid_2\":[],\"new_uid\":[],\n",
    "             \"mat_1\":[], \"mat_2\":[],\n",
    "             \n",
    "             \n",
    "             \"tA\":[],    \"tB\":[],\n",
    "             \"s_cell\":[],   \n",
    "             \"t_cel2_no_strain\":[], \"diagonal_strain\":[], \"strain\":[]\n",
    "                  }\n"
   ]
  },
  {
   "cell_type": "code",
   "execution_count": 12,
   "id": "2c2fb52f",
   "metadata": {},
   "outputs": [
    {
     "ename": "SyntaxError",
     "evalue": "invalid syntax (3551692482.py, line 7)",
     "output_type": "error",
     "traceback": [
      "\u001b[0;36m  Cell \u001b[0;32mIn [12], line 7\u001b[0;36m\u001b[0m\n\u001b[0;31m    data2= raw_df_1.iloc[random.randinit(0,len(raw_df_2[\"uid\"]))\u001b[0m\n\u001b[0m    ^\u001b[0m\n\u001b[0;31mSyntaxError\u001b[0m\u001b[0;31m:\u001b[0m invalid syntax\n"
     ]
    }
   ],
   "source": [
    "structure_path = \"/Users/voicutu/Documents/GitHub/vdw_evolve/sandbox/STRUCTUREScolection\"\n",
    "saving_spot = 5\n",
    "to_be_generated = 10\n",
    "while to_be_generated!=0:\n",
    "    \n",
    "    data1= raw_df_1.iloc[random.randinit(0,len(raw_df_1[\"uid\"])]\n",
    "    data2= raw_df_1.iloc[random.randinit(0,len(raw_df_2[\"uid\"]))\n",
    "    uid_1 = data1[\"uid\"]\n",
    "    uid_2 = data2[\"uid\"]\n",
    "    \n",
    "    new_uid =uid_1+\"_\"+uid_2\n",
    "    \n",
    "    if new_uid not in solutions[\"new_uid\"]:\n",
    "        to_be_generated = to_be_generated-1\n",
    "        \n",
    "        solutions[\"new_uid\"].append(new_uid)\n",
    "        solutions[\"uid_1\"].append(uid_1)\n",
    "        solutions[\"uid_2\"].append(uid_2)\n",
    "        \n",
    "        # calculate the super cel \n",
    "        \n",
    "        # xyz path \n",
    "        path1=structure_path+\"/\"+uid_1+\".json\"\n",
    "        path2=structure_path+\"/\"+uid_2+\".json\"\n",
    "        \n",
    "\n",
    "        \n",
    "        # lattices\n",
    "        latice1 = get_lattice_from_structure(path1)\n",
    "        latice2 = get_lattice_from_structure(path2)\n",
    "\n",
    "\n",
    "        cel1 = np.array([[latice1[0][0], latice1[1][0]],\n",
    "                [latice1[0][1], latice1[1][1]]])\n",
    "\n",
    "        cel2 = np.array([[latice2[0][0], latice2[1][0]],\n",
    "                [latice2[0][1], latice2[1][1]]])\n",
    "\n",
    "        tA, tB, t_cel2_no_strain, diagonal_strain, strain = super_cell(cel1,cel2, 10, model_par)\n",
    "\n",
    "        s_cell= np.dot(tA,cel1)\n",
    "        zero = np.dot(tA,cel1)-np.dot(np.dot(strain,tB),cel2)\n",
    "                         \n",
    "        \n",
    "        solutions[\"tA\"].append(tA)\n",
    "        solutions[\"tB\"].append(tB)\n",
    "        solutions[\"s_cell\"].append(s_cell)\n",
    "        solutions[\"t_cel2_no_strain\"].append(t_cel2_no_strain)\n",
    "        solutions[\"diagonal_strain\"].append(diagonal_strain)\n",
    "        solutions[\"strain\"].append(diagonal_strain)\n",
    "    \n",
    "    # save\n",
    "    if k%saving_spot==0:\n",
    "        data = pd.DataFrame.from_dict(solutions)\n",
    "        data.to_csv(\"SuperCell_\"+str(len(solutions[\"new\"])))\n",
    "\n",
    "print(\"Done\")"
   ]
  }
 ],
 "metadata": {
  "kernelspec": {
   "display_name": "Python 3 (ipykernel)",
   "language": "python",
   "name": "python3"
  },
  "language_info": {
   "codemirror_mode": {
    "name": "ipython",
    "version": 3
   },
   "file_extension": ".py",
   "mimetype": "text/x-python",
   "name": "python",
   "nbconvert_exporter": "python",
   "pygments_lexer": "ipython3",
   "version": "3.9.13"
  }
 },
 "nbformat": 4,
 "nbformat_minor": 5
}
