{
 "cells": [
  {
   "cell_type": "code",
   "execution_count": 1,
   "id": "suburban-beauty",
   "metadata": {},
   "outputs": [
    {
     "ename": "ModuleNotFoundError",
     "evalue": "No module named 'c2dbtools'",
     "output_type": "error",
     "traceback": [
      "\u001b[0;31m---------------------------------------------------------------------------\u001b[0m",
      "\u001b[0;31mModuleNotFoundError\u001b[0m                       Traceback (most recent call last)",
      "Cell \u001b[0;32mIn [1], line 6\u001b[0m\n\u001b[1;32m      4\u001b[0m \u001b[38;5;28;01mimport\u001b[39;00m \u001b[38;5;21;01mwget\u001b[39;00m\n\u001b[1;32m      5\u001b[0m \u001b[38;5;28;01mimport\u001b[39;00m \u001b[38;5;21;01mpandas\u001b[39;00m \u001b[38;5;28;01mas\u001b[39;00m \u001b[38;5;21;01mpd\u001b[39;00m\n\u001b[0;32m----> 6\u001b[0m \u001b[38;5;28;01mimport\u001b[39;00m \u001b[38;5;21;01mc2dbtools\u001b[39;00m \u001b[38;5;28;01mas\u001b[39;00m \u001b[38;5;21;01mc2t\u001b[39;00m\n",
      "\u001b[0;31mModuleNotFoundError\u001b[0m: No module named 'c2dbtools'"
     ]
    }
   ],
   "source": [
    "import matplotlib.pyplot as plt\n",
    "import numpy as np\n",
    "import ase.db\n",
    "import wget\n",
    "import pandas as pd\n",
    "import c2dbtools as c2t"
   ]
  },
  {
   "cell_type": "code",
   "execution_count": 9,
   "id": "cardiovascular-ethiopia",
   "metadata": {},
   "outputs": [
    {
     "name": "stdout",
     "output_type": "stream",
     "text": [
      "CrI2  P-4m2 (115) [-42m]\n",
      "v1 [ 0.      -0.      18.93151]\n",
      "v2 [ 4.1966 -0.      0.    ]\n",
      "v3 [-0.       4.19659  0.     ]\n",
      "d2 [-0.     -4.1966  0.    ]\n",
      "d3 [ 4.19659  0.      -0.     ]\n",
      "Identity\n",
      "invC4_v1\n",
      "C2_v1\n",
      "M_v1C4_v1\n",
      "M_v2\n",
      "invM_v3C4_v1\n",
      "M_v3\n",
      "invM_v2C4_v1\n",
      "CrI2  P-3m1 (164) [-3m]\n",
      "v1 [ 0.       0.      18.22368]\n",
      "v2 [4.11569 0.      0.     ]\n",
      "v3 [-2.05785  3.56429  0.     ]\n",
      "d2 [ 0.      -4.11569  0.     ]\n",
      "d3 [ 3.56429  2.05785 -0.     ]\n",
      "Identity\n",
      "Inversion\n",
      "C3_v1\n",
      "invC3_v1\n",
      "invM_v1C6_v1\n",
      "M_v1C6_v1\n",
      "invM_d3C6_v1\n",
      "M_d3C6_v1\n",
      "C2_v2\n",
      "M_v2\n",
      "C2_v3\n",
      "M_v3\n"
     ]
    }
   ],
   "source": [
    "# Connect to database\n",
    "db = ase.db.connect('c2db.db')\n",
    "\n",
    "options = 'is_magnetic=True, thermodynamic_stability_level=3'\n",
    "rows = db.select(options)\n",
    "\n",
    "props = [\"formula\" ,\"spgnum\", \"spacegroup\",\"dE_zx\", \"dE_zy\", \"lam\",\"magmom\", \"magstate\", \"doi\",\"uid\"] \n",
    "raw_df = pd.DataFrame( [ [ x.get(p) for p in props ] for x in rows ] , columns = props);\n",
    "\n",
    "import json\n",
    "for i,(formula, db_spgn,db_spg,uid) in enumerate(zip(raw_df.formula,raw_df.spgnum, raw_df.spacegroup,raw_df.uid)):\n",
    "    if formula==\"CrI2\":\n",
    "        syst_data= c2t.get_online_data(uid , verbose=False);\n",
    "        try:\n",
    "            cell    = c2t.get_cell(syst_data);\n",
    "            symmetry= c2t.get_symmetry(cell);\n",
    "            spg = symmetry[\"international\"]; spgn = symmetry[\"number\"];\n",
    "            ptg = symmetry[\"pointgroup\"];\n",
    "            match = spgn==db_spgn;\n",
    "            if not match:\n",
    "                print( i,formula,\" database = {} ({}) computed = {} ({}), match={}\".format(db_spg,db_spgn,spg,spgn,match ))\n",
    "            else:\n",
    "                print( formula,\" {} ({}) [{}]\".format(spg,spgn,ptg ))                \n",
    "                sym_ops= c2t.get_symmetry_matrices(cell);\n",
    "                Rs, ts = sym_ops['rotations'] , sym_ops['translations'];\n",
    "                for v, k in c2t.symmetry_directions(cell).items():\n",
    "                    print(v,k)\n",
    "                for R in Rs:\n",
    "                    print( c2t.sym_label(R,cell) );\n",
    "        except:\n",
    "            print(i,\"data of\",uid,\" not complete\",)"
   ]
  },
  {
   "cell_type": "code",
   "execution_count": 3,
   "id": "elect-majority",
   "metadata": {
    "scrolled": true
   },
   "outputs": [
    {
     "name": "stdout",
     "output_type": "stream",
     "text": [
      "Identity\n"
     ]
    }
   ],
   "source": [
    "print( c2t.sym_label(Rs[0],cell) );\n"
   ]
  },
  {
   "cell_type": "code",
   "execution_count": 4,
   "id": "extreme-version",
   "metadata": {},
   "outputs": [
    {
     "name": "stdout",
     "output_type": "stream",
     "text": [
      " Amm2 (38) [mm2]\n",
      "v1 [ 0.         0.        10.4253033]\n",
      "v2 [5.3422 0.     0.    ]\n",
      "v3 [0.     5.3422 0.    ]\n",
      "d2 [ 0.     -5.3422  0.    ]\n",
      "d3 [5.3422 0.     0.    ]\n",
      "Identity\n",
      "invM_v2C4_v1\n",
      "M_v1\n",
      "M_v3C4_v1\n"
     ]
    }
   ],
   "source": [
    "lat_vec = [[5.3422,0.0,0.0],[0.0,5.3422,0.0],[0.0,0.0,1.9515 *5.3422 ]];\n",
    "numbers = [1,2,2];\n",
    "positions= np.array([ (0, 0,0.5) , (0.5,0.5,0.257386261), (0.5,0.5,0.742613739 )]).dot(lat_vec)\n",
    "cell= ( np.array(lat_vec), np.array(positions),np.array(numbers)) ;\n",
    "\n",
    "symmetry= c2t.get_symmetry(cell);\n",
    "spg = symmetry[\"international\"]; spgn = symmetry[\"number\"];\n",
    "ptg = symmetry[\"pointgroup\"];\n",
    "print( \" {} ({}) [{}]\".format(spg,spgn,ptg ))                \n",
    "sym_ops= c2t.get_symmetry_matrices(cell);\n",
    "Rs, ts = sym_ops['rotations'] , sym_ops['translations'];\n",
    "for v, k in c2t.symmetry_directions(cell).items():\n",
    "    print(v,k)\n",
    "for R in Rs:\n",
    "    print( c2t.sym_label(R,cell) );\n"
   ]
  },
  {
   "cell_type": "code",
   "execution_count": null,
   "id": "western-expansion",
   "metadata": {},
   "outputs": [],
   "source": []
  },
  {
   "cell_type": "code",
   "execution_count": 5,
   "id": "pacific-honor",
   "metadata": {},
   "outputs": [
    {
     "name": "stdout",
     "output_type": "stream",
     "text": [
      "(array([[ 5.3422   ,  0.       ,  0.       ],\n",
      "       [ 0.       ,  5.3422   ,  0.       ],\n",
      "       [ 0.       ,  0.       , 10.4253033]]), array([[0.        , 0.        , 5.21265165],\n",
      "       [2.6711    , 2.6711    , 2.68332984],\n",
      "       [2.6711    , 2.6711    , 7.74197346]]), array([1, 2, 2]))\n"
     ]
    }
   ],
   "source": [
    "print(( np.array(lat_vec), np.array(positions),np.array(numbers)) )"
   ]
  },
  {
   "cell_type": "code",
   "execution_count": 6,
   "id": "active-essence",
   "metadata": {},
   "outputs": [
    {
     "data": {
      "text/plain": [
       "(array([[ 5.3422   ,  0.       ,  0.       ],\n",
       "        [ 0.       ,  5.3422   ,  0.       ],\n",
       "        [ 0.       ,  0.       , 10.4253033]]),\n",
       " array([[0.        , 0.        , 5.21265165],\n",
       "        [2.6711    , 2.6711    , 2.68332984],\n",
       "        [2.6711    , 2.6711    , 7.74197346]]),\n",
       " array([1, 2, 2]))"
      ]
     },
     "execution_count": 6,
     "metadata": {},
     "output_type": "execute_result"
    }
   ],
   "source": [
    "cell"
   ]
  },
  {
   "cell_type": "code",
   "execution_count": null,
   "id": "convinced-barrier",
   "metadata": {},
   "outputs": [],
   "source": []
  },
  {
   "cell_type": "code",
   "execution_count": null,
   "id": "following-drawing",
   "metadata": {},
   "outputs": [],
   "source": []
  }
 ],
 "metadata": {
  "kernelspec": {
   "display_name": "Python 3 (ipykernel)",
   "language": "python",
   "name": "python3"
  },
  "language_info": {
   "codemirror_mode": {
    "name": "ipython",
    "version": 3
   },
   "file_extension": ".py",
   "mimetype": "text/x-python",
   "name": "python",
   "nbconvert_exporter": "python",
   "pygments_lexer": "ipython3",
   "version": "3.9.13"
  }
 },
 "nbformat": 4,
 "nbformat_minor": 5
}
