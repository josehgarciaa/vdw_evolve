{
 "cells": [
  {
   "cell_type": "code",
   "execution_count": 1,
   "id": "a2c42aa7",
   "metadata": {},
   "outputs": [],
   "source": [
    "import sqlite3\n",
    "\n",
    "def connect_to_c2db():\n",
    "    try:\n",
    "        conn=sqlite3.connect('c2db.db');\n",
    "        print(\"The connection to c2db is on!\");\n",
    "        return conn\n",
    "    except Error:\n",
    "        print(Error);\n",
    "        \n",
    "def list_c2dbtables(conn):\n",
    "    c = conn.cursor();\n",
    "    c.execute(\"SELECT name FROM sqlite_master WHERE type='table';\")\n",
    "    tables = c.fetchall();\n",
    "    return tables;\n",
    "\n",
    "def c2dbtable_info(conn, table):\n",
    "    c = conn.cursor();\n",
    "    return c.execute(\"PRAGMA table_info(\"+table+\")\" ).fetchall();\n",
    "    \n",
    "def list_c2dbtable_columns(conn, table):\n",
    "    col_info = table_info(conn,table);\n",
    "    return [ cname for index, cname,ctype,x,y,z in col_info];\n",
    "\n",
    "        \n",
    "def list_rows_in_c2dbtable(conn, table):\n",
    "    N=1\n",
    "    c = conn.cursor(); \n",
    "    c.execute(\"SELECT name FROM \"+table+\" limit \"+str(N) )\n",
    "    rows = c.fetchall();\n",
    "    print(\"\\n-----------------\\nRows in from \"+table+\" table from C2DB\\n-----------------\");\n",
    "    for r in rows:\n",
    "        print(*rows);"
   ]
  },
  {
   "cell_type": "markdown",
   "id": "e41a96af",
   "metadata": {},
   "source": [
    "# Connect to the database"
   ]
  },
  {
   "cell_type": "markdown",
   "id": "cbe4aa90",
   "metadata": {},
   "source": [
    "When one connects to a file that does not exits such as my_c2db.db, then it creates a file which will hold the database"
   ]
  },
  {
   "cell_type": "code",
   "execution_count": 36,
   "id": "07a4456f",
   "metadata": {},
   "outputs": [
    {
     "name": "stdout",
     "output_type": "stream",
     "text": [
      "The connection to c2db is on!\n",
      "---------\n",
      "systems\n",
      "---------\n",
      "['id', 'unique_id', 'ctime', 'mtime', 'username', 'numbers', 'positions', 'cell', 'pbc', 'initial_magmoms', 'initial_charges', 'masses', 'tags', 'momenta', 'constraints', 'calculator', 'calculator_parameters', 'energy', 'free_energy', 'forces', 'stress', 'dipole', 'magmoms', 'magmom', 'charges', 'key_value_pairs', 'data', 'natoms', 'fmax', 'smax', 'volume', 'mass', 'charge']\n",
      "\n",
      "\n",
      "---------\n",
      "sqlite_sequence\n",
      "---------\n",
      "['name', 'seq']\n",
      "\n",
      "\n",
      "---------\n",
      "species\n",
      "---------\n",
      "['Z', 'n', 'id']\n",
      "\n",
      "\n",
      "---------\n",
      "keys\n",
      "---------\n",
      "['key', 'id']\n",
      "\n",
      "\n",
      "---------\n",
      "text_key_values\n",
      "---------\n",
      "['key', 'value', 'id']\n",
      "\n",
      "\n",
      "---------\n",
      "number_key_values\n",
      "---------\n",
      "['key', 'value', 'id']\n",
      "\n",
      "\n",
      "---------\n",
      "information\n",
      "---------\n",
      "['name', 'value']\n",
      "\n",
      "\n"
     ]
    }
   ],
   "source": [
    "conn= connect_to_c2db();\n",
    "table_names = list_tables(conn)\n",
    "\n",
    "for t in table_names:\n",
    "    t= t[0];\n",
    "    print(\"---------\");\n",
    "    print(t);\n",
    "    print(\"---------\");\n",
    "    cnames = list_table_columns(conn,t);\n",
    "    print(cnames)\n",
    "    print(\"\\n\");"
   ]
  },
  {
   "cell_type": "code",
   "execution_count": 12,
   "id": "315deab7",
   "metadata": {},
   "outputs": [
    {
     "name": "stdout",
     "output_type": "stream",
     "text": [
      "[('systems', 4047)]\n"
     ]
    }
   ],
   "source": [
    "c = conn.cursor();\n",
    "rows = c.execute(\" SELECT * from sqlite_sequence\");\n",
    "print(rows.fetchall())"
   ]
  },
  {
   "cell_type": "code",
   "execution_count": 35,
   "id": "e6c495b9",
   "metadata": {},
   "outputs": [
    {
     "name": "stdout",
     "output_type": "stream",
     "text": [
      "[(71,)]\n",
      "[(103,)]\n"
     ]
    }
   ],
   "source": [
    "rows = c.execute(\" SELECT COUNT(*) from keys where id=\");\n",
    "\n",
    "print(rows.fetchall())\n",
    "\n",
    "rows = c.execute(\" SELECT COUNT(*)/4047 from keys \");\n",
    "\n",
    "print(rows.fetchall())"
   ]
  },
  {
   "cell_type": "code",
   "execution_count": null,
   "id": "886d3aa1",
   "metadata": {},
   "outputs": [],
   "source": []
  }
 ],
 "metadata": {
  "kernelspec": {
   "display_name": "Python 3",
   "language": "python",
   "name": "python3"
  },
  "language_info": {
   "codemirror_mode": {
    "name": "ipython",
    "version": 3
   },
   "file_extension": ".py",
   "mimetype": "text/x-python",
   "name": "python",
   "nbconvert_exporter": "python",
   "pygments_lexer": "ipython3",
   "version": "3.9.5"
  }
 },
 "nbformat": 4,
 "nbformat_minor": 5
}
