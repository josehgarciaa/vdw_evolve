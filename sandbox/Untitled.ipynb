{
 "cells": [
  {
   "cell_type": "code",
   "execution_count": 1,
   "id": "9e5507c3",
   "metadata": {},
   "outputs": [],
   "source": [
    "import numpy as np "
   ]
  },
  {
   "cell_type": "code",
   "execution_count": null,
   "id": "53816be6",
   "metadata": {},
   "outputs": [],
   "source": []
  },
  {
   "cell_type": "code",
   "execution_count": 30,
   "id": "800489ad",
   "metadata": {},
   "outputs": [],
   "source": [
    "A= np.array([[11,12],\n",
    "    [21,22]])\n",
    "B= np.array([[11,12],\n",
    "    [21,22]])\n",
    "\n",
    "mod_a1= np.sqrt(A[0][0]*A[0][0]+A[1][0]*A[1][0])\n",
    "mod_a2= np.sqrt(A[0][1]*A[0][1]+A[1][1]*A[1][1])\n",
    "\n",
    "mod_b1= np.sqrt(B[0][0]*B[0][0]+B[1][0]*B[1][0])\n",
    "mod_b2= np.sqrt(B[0][1]*B[0][1]+B[1][1]*B[1][1])"
   ]
  },
  {
   "cell_type": "code",
   "execution_count": 32,
   "id": "25b49e7d",
   "metadata": {},
   "outputs": [
    {
     "data": {
      "text/plain": [
       "array([12, 22])"
      ]
     },
     "execution_count": 32,
     "metadata": {},
     "output_type": "execute_result"
    }
   ],
   "source": [
    "A[:,1]"
   ]
  },
  {
   "cell_type": "code",
   "execution_count": 6,
   "id": "5678b19a",
   "metadata": {},
   "outputs": [],
   "source": [
    "def cmmmc(x,y):\n",
    "    a=x\n",
    "    b=y\n",
    "    while x!=y:\n",
    "        if x>y:\n",
    "            x=x-y\n",
    "        else:\n",
    "            y=y-x\n",
    "    return a*b/x"
   ]
  },
  {
   "cell_type": "code",
   "execution_count": 23,
   "id": "49062238",
   "metadata": {},
   "outputs": [],
   "source": [
    "def angle(v1, v2):\n",
    "    dot_p = np.dot(v1,v2)\n",
    "    n1= np.sqrt(np.linalg.norm(v1)*np.linalg.norm(v1))\n",
    "    n2= np.sqrt(np.linalg.norm(v2)*np.linalg.norm(v2))\n",
    "    n=n1*n2\n",
    "    return np.arccos(dot_p/n)"
   ]
  },
  {
   "cell_type": "code",
   "execution_count": 33,
   "id": "15f6dbe0",
   "metadata": {},
   "outputs": [],
   "source": [
    "def z_rotation(theta):\n",
    "    R = np.array([ [ np.cos(theta), -np.sin(theta)], \n",
    "          [ np.sin(theta),  np.cos(theta)] ])\n",
    "    return R"
   ]
  },
  {
   "cell_type": "code",
   "execution_count": 24,
   "id": "5ec71a07",
   "metadata": {},
   "outputs": [
    {
     "name": "stdout",
     "output_type": "stream",
     "text": [
      "45.00000000000001\n"
     ]
    }
   ],
   "source": [
    "v1 =np.array([0, 1])\n",
    "v2 =np.array([1, 1])\n",
    "a=angle(v1, v2)\n",
    "print(a*(180/np.pi))"
   ]
  },
  {
   "cell_type": "code",
   "execution_count": 40,
   "id": "c90f9c28",
   "metadata": {},
   "outputs": [
    {
     "data": {
      "text/plain": [
       "0.7071067811865475"
      ]
     },
     "execution_count": 40,
     "metadata": {},
     "output_type": "execute_result"
    }
   ],
   "source": [
    "1/np.sqrt(2)"
   ]
  },
  {
   "cell_type": "code",
   "execution_count": 38,
   "id": "13dd0a09",
   "metadata": {},
   "outputs": [
    {
     "name": "stdout",
     "output_type": "stream",
     "text": [
      "[[0.7071067811865477, -0.7071067811865474], [0.7071067811865474, 0.7071067811865477]]\n"
     ]
    }
   ],
   "source": [
    "ang_b1a1=angle(A[:,0],B[:,0])\n",
    "rot = z_rotation(ang_b1a1)\n"
   ]
  },
  {
   "cell_type": "code",
   "execution_count": 35,
   "id": "8f63620d",
   "metadata": {},
   "outputs": [
    {
     "name": "stdout",
     "output_type": "stream",
     "text": [
      "A:\n",
      " [[1 0]\n",
      " [0 1]]\n",
      "B:\n",
      " [[ 1. -1.]\n",
      " [ 1.  1.]]\n"
     ]
    }
   ],
   "source": [
    "\n",
    "a1 = [1,0]; a2=[0,1];\n",
    "A  = np.transpose([a1,a2]);\n",
    "\n",
    "theta =  np.pi/4;\n",
    "R = [ [ np.cos(theta), -np.sin(theta)], [ np.sin(theta),  np.cos(theta)] ];\n",
    "\n",
    "b1 = np.sqrt(2)*np.dot(R,a1);  b2 = np.sqrt(2)*np.dot(R,a2);\n",
    "B  = np.transpose([b1,b2]);\n",
    "\n",
    "print(\"A:\\n\",A)\n",
    "print(\"B:\\n\",B)"
   ]
  },
  {
   "cell_type": "code",
   "execution_count": null,
   "id": "92252f3f",
   "metadata": {},
   "outputs": [],
   "source": []
  }
 ],
 "metadata": {
  "kernelspec": {
   "display_name": "Python 3 (ipykernel)",
   "language": "python",
   "name": "python3"
  },
  "language_info": {
   "codemirror_mode": {
    "name": "ipython",
    "version": 3
   },
   "file_extension": ".py",
   "mimetype": "text/x-python",
   "name": "python",
   "nbconvert_exporter": "python",
   "pygments_lexer": "ipython3",
   "version": "3.9.13"
  }
 },
 "nbformat": 4,
 "nbformat_minor": 5
}
